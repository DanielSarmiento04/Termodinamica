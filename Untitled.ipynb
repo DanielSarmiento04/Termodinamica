{
 "cells": [
  {
   "cell_type": "code",
   "execution_count": 1,
   "id": "415878b6",
   "metadata": {},
   "outputs": [
    {
     "name": "stdout",
     "output_type": "stream",
     "text": [
      "La presion en el estado 0 es: 274.037238447871 KPa \n",
      "La presion en el estado 1 es: 93.55802749922894 KPa\n",
      "El trabajo total es 175.55509547809743 KJ\n",
      "La temperatura promedio es 478.3 Kelvin\n",
      "El cambio en la energia interna es de -955.5KJ\n",
      "El calor es de : -779.9449045219025 Kj\n"
     ]
    },
    {
     "data": {
      "image/png": "[encoded data removed]",
      "text/plain": [
       "<Figure size 432x288 with 1 Axes>"
      ]
     },
     "metadata": {
      "needs_background": "light"
     },
     "output_type": "display_data"
    }
   ],
   "source": [
    "import math as mt\n",
    "import numpy as np\n",
    "import pandas as pd\n",
    "import matplotlib.pyplot as plt\n",
    "\n",
    "\"\"\" \n",
    "Un dispositivo de cilindro-pistón que contiene 2.5 kg de dióxido de carbono sufre una expansión desde un \n",
    "volumen específico de 0.35 m3/kg a una temperatura de 400 °C hasta un volumen específico de 0.8 m3/kg \n",
    "con temperatura de 10 °C. El proceso de expansión sigue la relación p(v^1.3) = 0.7 (con p en bares y v en \n",
    "m3/kg). Determine el trabajo de frontera, el calor en el proceso y el cambio en la energía interna del sistema.\n",
    "\"\"\"\n",
    "\n",
    "#Datos\n",
    "masa = 2.5 #kg\n",
    "volumenEsp0 = 0.35  #m^3/kg\n",
    "Temp0 = 400+273.3  #Kelvin \n",
    "volumenEsp1 = 0.8  #m^3/kg\n",
    "Temp1 = 10+273.3  #Kelvin\n",
    "n = 1.3 # La potencia\n",
    "\n",
    "def  relacion (volumenEsp):\n",
    "  return 0.7/pow(volumenEsp,n)\n",
    "\n",
    "Presiones = [relacion(i) for i in np.arange(volumenEsp0,volumenEsp1,0.02)]\n",
    "Volumenes = [ i for i in np.arange(volumenEsp0,volumenEsp1,0.02) ]\n",
    "presion0 = relacion(volumenEsp0) #Bares\n",
    "presion0 = presion0*100  #KiloPascales\n",
    "print(f\"La presion en el estado 0 es: {presion0} KPa \")\n",
    "\n",
    "presion1 = relacion(volumenEsp1) #Bares\n",
    "presion1 = presion1*100  #Kilo Pascales\n",
    "print(f\"La presion en el estado 1 es: {presion1} KPa\")\n",
    "\n",
    "wtotal = masa*((presion1*volumenEsp1-presion0*volumenEsp0)/(1-n))\n",
    "print(f\"El trabajo total es {wtotal} KJ\")\n",
    "\n",
    "TempPromo = (Temp0+Temp1)/2\n",
    "\n",
    "print(f\"La temperatura promedio es {round(TempPromo,4)} Kelvin\")\n",
    "\n",
    "Cv = 0.98  #del promedio\n",
    "deltaUInterna = masa*Cv*(Temp1-Temp0)\n",
    "print(f\"El cambio en la energia interna es de {round(deltaUInterna,3)}KJ\")\n",
    "\n",
    "Calor = deltaUInterna+wtotal\n",
    "\n",
    "print(f\"El calor es de : {Calor} Kj\")\n",
    "plt.plot(Volumenes,Presiones)\n",
    "plt.grid(clip_on=False)\n",
    "plt.show()"
   ]
  }
 ],
 "metadata": {
  "kernelspec": {
   "display_name": "Python 3 (ipykernel)",
   "language": "python",
   "name": "python3"
  },
  "language_info": {
   "codemirror_mode": {
    "name": "ipython",
    "version": 3
   },
   "file_extension": ".py",
   "mimetype": "text/x-python",
   "name": "python",
   "nbconvert_exporter": "python",
   "pygments_lexer": "ipython3",
   "version": "3.9.7"
  }
 },
 "nbformat": 4,
 "nbformat_minor": 5
}
