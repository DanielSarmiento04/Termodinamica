{
 "cells": [
  {
   "attachments": {},
   "cell_type": "markdown",
   "metadata": {},
   "source": [
    "# Enunciado\n",
    "Una central eléctrica de turbina de gas que opera en un ciclo Brayton ideal tiene una relación de presión de 8. La temperatura del gas es de 300 K en la entrada del compresor y de 1 300 K en la entrada de la turbina. Utilice las suposiciones de aire estándar y determine a) la temperatura del gas a la sali- da del compresor y de la turbina, b) la relación del trabajo de retroceso y c) la eficiencia térmica."
   ]
  },
  {
   "attachments": {},
   "cell_type": "markdown",
   "metadata": {},
   "source": [
    "### Dependencias importadas"
   ]
  },
  {
   "cell_type": "code",
   "execution_count": 2,
   "metadata": {},
   "outputs": [],
   "source": [
    "import pyromat as pyro\n",
    "import numpy as np\n",
    "import matplotlib.pyplot as plt\n",
    "import matplotlib.cm as cm\n",
    "%matplotlib inline"
   ]
  },
  {
   "attachments": {},
   "cell_type": "markdown",
   "metadata": {},
   "source": [
    "### Definir variables conocidas"
   ]
  },
  {
   "cell_type": "code",
   "execution_count": 3,
   "metadata": {},
   "outputs": [],
   "source": [
    "relacion_presion = 8 \n",
    "T_1 = 300 # Kelvin\n",
    "T_3 = 1300 # Kelvin"
   ]
  },
  {
   "attachments": {},
   "cell_type": "markdown",
   "metadata": {},
   "source": [
    "### Declarar fluido de control"
   ]
  },
  {
   "cell_type": "code",
   "execution_count": 4,
   "metadata": {},
   "outputs": [],
   "source": [
    "aire = pyro.get('ig.air')"
   ]
  },
  {
   "attachments": {},
   "cell_type": "markdown",
   "metadata": {},
   "source": [
    "### Definir estados conocidos "
   ]
  },
  {
   "cell_type": "code",
   "execution_count": 5,
   "metadata": {},
   "outputs": [
    {
     "data": {
      "text/plain": [
       "{'T': array([300.]),\n",
       " 'p': array([1.01325]),\n",
       " 'd': array([1.17661338]),\n",
       " 'v': array([0.84989684]),\n",
       " 'h': array([-2.4071345]),\n",
       " 'e': array([-88.52293216]),\n",
       " 'gam': array([1.39991606]),\n",
       " 's': array([6.70392413]),\n",
       " 'cp': array([1.00483493]),\n",
       " 'cv': array([0.71778227])}"
      ]
     },
     "execution_count": 5,
     "metadata": {},
     "output_type": "execute_result"
    }
   ],
   "source": [
    "estado_1 = aire.state(T=T_1)\n",
    "h_1 = estado_1.get('h')[0]\n",
    "s_1 = estado_1.get('s')[0]\n",
    "v_1 = estado_1.get('v')[0]\n",
    "cp_1 = estado_1.get('cp')[0]\n",
    "cv_1 = estado_1.get('cv')[0]\n",
    "k_1 = cp_1/cv_1\n",
    "estado_1 "
   ]
  },
  {
   "cell_type": "code",
   "execution_count": 6,
   "metadata": {},
   "outputs": [
    {
     "data": {
      "text/plain": [
       "{'T': array([1300.]),\n",
       " 'p': array([1.01325]),\n",
       " 'd': array([0.27152617]),\n",
       " 'v': array([3.68288632]),\n",
       " 'h': array([1092.80276699]),\n",
       " 'e': array([719.63431047]),\n",
       " 'gam': array([1.31970267]),\n",
       " 's': array([8.2752831]),\n",
       " 'cp': array([1.18492647]),\n",
       " 'cv': array([0.89787381])}"
      ]
     },
     "execution_count": 6,
     "metadata": {},
     "output_type": "execute_result"
    }
   ],
   "source": [
    "estado_3 = aire.state(T=T_3)\n",
    "h_3 = estado_3.get('h')[0]\n",
    "s_3 = estado_3.get('s')[0]\n",
    "v_3 = estado_3.get('v')[0]\n",
    "cp_3 = estado_3.get('cp')[0]\n",
    "cv_3 = estado_3.get('cv')[0]\n",
    "k_3 = cp_3/cv_3\n",
    "estado_3"
   ]
  },
  {
   "attachments": {},
   "cell_type": "markdown",
   "metadata": {},
   "source": [
    "### Cálculos del estado 2"
   ]
  },
  {
   "cell_type": "code",
   "execution_count": 50,
   "metadata": {},
   "outputs": [
    {
     "data": {
      "text/plain": [
       "543.3858023713356"
      ]
     },
     "execution_count": 50,
     "metadata": {},
     "output_type": "execute_result"
    }
   ],
   "source": [
    "T_2 = T_1 * pow(relacion_presion, (k_1-1)/k_1)\n",
    "T_2"
   ]
  },
  {
   "cell_type": "code",
   "execution_count": 95,
   "metadata": {},
   "outputs": [
    {
     "data": {
      "text/plain": [
       "{'T': array([538.38984605]),\n",
       " 'p': array([1.01325]),\n",
       " 'd': array([0.65562903]),\n",
       " 'v': array([1.52525277]),\n",
       " 'h': array([240.32153492]),\n",
       " 'e': array([85.77529811]),\n",
       " 'gam': array([1.38259772]),\n",
       " 's': array([7.29845751]),\n",
       " 'cp': array([1.03732544]),\n",
       " 'cv': array([0.75027278])}"
      ]
     },
     "execution_count": 95,
     "metadata": {},
     "output_type": "execute_result"
    }
   ],
   "source": [
    "estado_2 = aire.state(T=T_2)\n",
    "h_2 = estado_2.get('h')[0]\n",
    "s_2 = estado_2.get('s')[0]\n",
    "v_2 = estado_2.get('v')[0]\n",
    "cp_2 = estado_2.get('cp')[0]\n",
    "cv_2 = estado_2.get('cv')[0]\n",
    "k_2 = cp_2/cv_2\n",
    "estado_2"
   ]
  },
  {
   "attachments": {},
   "cell_type": "markdown",
   "metadata": {},
   "source": [
    "#### Considerando el promedio de los k entre los dos estados "
   ]
  },
  {
   "cell_type": "code",
   "execution_count": 96,
   "metadata": {},
   "outputs": [
    {
     "data": {
      "text/plain": [
       "1.3912568922971538"
      ]
     },
     "execution_count": 96,
     "metadata": {},
     "output_type": "execute_result"
    }
   ],
   "source": [
    "k_prom = (k_1 + k_2) /2\n",
    "k_prom"
   ]
  },
  {
   "cell_type": "code",
   "execution_count": 97,
   "metadata": {},
   "outputs": [
    {
     "data": {
      "text/plain": [
       "538.3852746525358"
      ]
     },
     "execution_count": 97,
     "metadata": {},
     "output_type": "execute_result"
    }
   ],
   "source": [
    "T_2 = T_1 * pow(1/relacion_presion, (1-k_prom)/k_prom)\n",
    "T_2"
   ]
  },
  {
   "attachments": {},
   "cell_type": "markdown",
   "metadata": {},
   "source": [
    "### Calculo del estado 4"
   ]
  },
  {
   "cell_type": "code",
   "execution_count": 62,
   "metadata": {},
   "outputs": [
    {
     "data": {
      "text/plain": [
       "785.5368906897279"
      ]
     },
     "execution_count": 62,
     "metadata": {},
     "output_type": "execute_result"
    }
   ],
   "source": [
    "T_4 = T_3 * pow(1/relacion_presion, (k_3-1)/k_3)\n",
    "T_4"
   ]
  },
  {
   "cell_type": "code",
   "execution_count": 89,
   "metadata": {},
   "outputs": [
    {
     "data": {
      "text/plain": [
       "{'T': array([768.43682286]),\n",
       " 'p': array([1.01325]),\n",
       " 'd': array([0.45935333]),\n",
       " 'v': array([2.17697343]),\n",
       " 'h': array([484.92268815]),\n",
       " 'e': array([264.34085499]),\n",
       " 'gam': array([1.35709187]),\n",
       " 's': array([7.6761742]),\n",
       " 'cp': array([1.09091487]),\n",
       " 'cv': array([0.80386221])}"
      ]
     },
     "execution_count": 89,
     "metadata": {},
     "output_type": "execute_result"
    }
   ],
   "source": [
    "estado_4 = aire.state(T=T_4)\n",
    "h_4 = estado_4.get('h')[0]\n",
    "s_4 = estado_4.get('s')[0]\n",
    "v_4 = estado_4.get('v')[0]\n",
    "cp_4 = estado_4.get('cp')[0]\n",
    "cv_4 = estado_4.get('cv')[0]\n",
    "k_4 = cp_4/cv_4\n",
    "estado_4"
   ]
  },
  {
   "cell_type": "code",
   "execution_count": 90,
   "metadata": {},
   "outputs": [
    {
     "data": {
      "text/plain": [
       "1.3383972725103692"
      ]
     },
     "execution_count": 90,
     "metadata": {},
     "output_type": "execute_result"
    }
   ],
   "source": [
    "k_prom = (k_3 + k_4) /2\n",
    "k_prom"
   ]
  },
  {
   "cell_type": "code",
   "execution_count": 91,
   "metadata": {},
   "outputs": [
    {
     "data": {
      "text/plain": [
       "768.4368226438506"
      ]
     },
     "execution_count": 91,
     "metadata": {},
     "output_type": "execute_result"
    }
   ],
   "source": [
    "T_4 = T_3 * pow(1/relacion_presion, (k_prom-1)/k_prom)\n",
    "T_4"
   ]
  },
  {
   "cell_type": "code",
   "execution_count": 98,
   "metadata": {},
   "outputs": [
    {
     "data": {
      "text/plain": [
       "242.72866941545553"
      ]
     },
     "execution_count": 98,
     "metadata": {},
     "output_type": "execute_result"
    }
   ],
   "source": [
    "trabajo_compresor = h_2 - h_1\n",
    "trabajo_compresor"
   ]
  },
  {
   "cell_type": "code",
   "execution_count": 99,
   "metadata": {},
   "outputs": [
    {
     "data": {
      "text/plain": [
       "852.4812320685834"
      ]
     },
     "execution_count": 99,
     "metadata": {},
     "output_type": "execute_result"
    }
   ],
   "source": [
    "calor_entrada = h_3 - h_2\n",
    "calor_entrada"
   ]
  },
  {
   "cell_type": "code",
   "execution_count": 100,
   "metadata": {},
   "outputs": [
    {
     "data": {
      "text/plain": [
       "607.8800788318702"
      ]
     },
     "execution_count": 100,
     "metadata": {},
     "output_type": "execute_result"
    }
   ],
   "source": [
    "trabajo_turbina = h_3 - h_4\n",
    "trabajo_turbina"
   ]
  },
  {
   "cell_type": "code",
   "execution_count": 101,
   "metadata": {},
   "outputs": [
    {
     "data": {
      "text/plain": [
       "487.32982265216873"
      ]
     },
     "execution_count": 101,
     "metadata": {},
     "output_type": "execute_result"
    }
   ],
   "source": [
    "calor_salida = h_4 - h_1\n",
    "calor_salida"
   ]
  },
  {
   "cell_type": "code",
   "execution_count": 102,
   "metadata": {},
   "outputs": [
    {
     "data": {
      "text/plain": [
       "0.3993035433598908"
      ]
     },
     "execution_count": 102,
     "metadata": {},
     "output_type": "execute_result"
    }
   ],
   "source": [
    "relacion_trabajo_retroceso = trabajo_compresor / trabajo_turbina\n",
    "relacion_trabajo_retroceso"
   ]
  },
  {
   "cell_type": "code",
   "execution_count": 103,
   "metadata": {},
   "outputs": [
    {
     "data": {
      "text/plain": [
       "365.1514094164146"
      ]
     },
     "execution_count": 103,
     "metadata": {},
     "output_type": "execute_result"
    }
   ],
   "source": [
    "trabajo_neto = trabajo_turbina - trabajo_compresor\n",
    "trabajo_neto"
   ]
  },
  {
   "cell_type": "code",
   "execution_count": 104,
   "metadata": {},
   "outputs": [
    {
     "data": {
      "text/plain": [
       "0.42833952898922895"
      ]
     },
     "execution_count": 104,
     "metadata": {},
     "output_type": "execute_result"
    }
   ],
   "source": [
    "eficiencia = trabajo_neto / calor_entrada\n",
    "eficiencia\n"
   ]
  }
 ],
 "metadata": {
  "kernelspec": {
   "display_name": "base",
   "language": "python",
   "name": "python3"
  },
  "language_info": {
   "codemirror_mode": {
    "name": "ipython",
    "version": 3
   },
   "file_extension": ".py",
   "mimetype": "text/x-python",
   "name": "python",
   "nbconvert_exporter": "python",
   "pygments_lexer": "ipython3",
   "version": "3.10.6 | packaged by conda-forge | (main, Aug 22 2022, 20:38:29) [Clang 13.0.1 ]"
  },
  "orig_nbformat": 4,
  "vscode": {
   "interpreter": {
    "hash": "c572d5174d38978ba02a3ac3c114ecb0cec161780d0cde2b670f1f68ef5adc30"
   }
  }
 },
 "nbformat": 4,
 "nbformat_minor": 2
}
