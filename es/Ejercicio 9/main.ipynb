{
 "cells": [
  {
   "attachments": {},
   "cell_type": "markdown",
   "metadata": {},
   "source": [
    "### Dependencias importadas"
   ]
  },
  {
   "cell_type": "code",
   "execution_count": 9,
   "metadata": {},
   "outputs": [],
   "source": [
    "import pyromat as pyro\n",
    "import numpy as np\n",
    "import matplotlib.pyplot as plt\n",
    "import matplotlib.cm as cm\n",
    "%matplotlib inline"
   ]
  },
  {
   "attachments": {},
   "cell_type": "markdown",
   "metadata": {},
   "source": [
    "### Definir variables conocidas"
   ]
  },
  {
   "cell_type": "code",
   "execution_count": 10,
   "metadata": {},
   "outputs": [],
   "source": [
    "relacion_presion = 8 \n",
    "T_1 = 300 # Kelvin\n",
    "T_3 = 1300 # Kelvin"
   ]
  },
  {
   "attachments": {},
   "cell_type": "markdown",
   "metadata": {},
   "source": [
    "### Declarar fluido de control"
   ]
  },
  {
   "cell_type": "code",
   "execution_count": 11,
   "metadata": {},
   "outputs": [],
   "source": [
    "aire = pyro.get('ig.air')"
   ]
  },
  {
   "attachments": {},
   "cell_type": "markdown",
   "metadata": {},
   "source": [
    "### Definir estados conocidos "
   ]
  },
  {
   "cell_type": "code",
   "execution_count": 15,
   "metadata": {},
   "outputs": [
    {
     "data": {
      "text/plain": [
       "{'T': array([300.]),\n",
       " 'p': array([1.01325]),\n",
       " 'd': array([1.17661338]),\n",
       " 'v': array([0.84989684]),\n",
       " 'h': array([-2.4071345]),\n",
       " 'e': array([-88.52293216]),\n",
       " 'gam': array([1.39991606]),\n",
       " 's': array([6.70392413]),\n",
       " 'cp': array([1.00483493]),\n",
       " 'cv': array([0.71778227])}"
      ]
     },
     "execution_count": 15,
     "metadata": {},
     "output_type": "execute_result"
    }
   ],
   "source": [
    "estado_1 = aire.state(T=T_1)\n",
    "h_1 = estado_1.get('h')[0]\n",
    "s_1 = estado_1.get('s')[0]\n",
    "v_1 = estado_1.get('v')[0]\n",
    "cp_1 = estado_1.get('cp')[0]\n",
    "cv_1 = estado_1.get('cv')[0]\n",
    "k_1 = cp_1/cv_1\n",
    "estado_1 "
   ]
  },
  {
   "cell_type": "code",
   "execution_count": 36,
   "metadata": {},
   "outputs": [
    {
     "data": {
      "text/plain": [
       "{'T': array([1300.]),\n",
       " 'p': array([1.01325]),\n",
       " 'd': array([0.27152617]),\n",
       " 'v': array([3.68288632]),\n",
       " 'h': array([1092.80276699]),\n",
       " 'e': array([719.63431047]),\n",
       " 'gam': array([1.31970267]),\n",
       " 's': array([8.2752831]),\n",
       " 'cp': array([1.18492647]),\n",
       " 'cv': array([0.89787381])}"
      ]
     },
     "execution_count": 36,
     "metadata": {},
     "output_type": "execute_result"
    }
   ],
   "source": [
    "estado_3 = aire.state(T=T_3)\n",
    "h_3 = estado_3.get('h')[0]\n",
    "s_3 = estado_3.get('s')[0]\n",
    "v_3 = estado_3.get('v')[0]\n",
    "cp_3 = estado_3.get('cp')[0]\n",
    "cv_3 = estado_3.get('cv')[0]\n",
    "k_3 = cp_3/cv_3\n",
    "estado_3"
   ]
  },
  {
   "attachments": {},
   "cell_type": "markdown",
   "metadata": {},
   "source": [
    "### Cálculos del estado 2"
   ]
  },
  {
   "cell_type": "code",
   "execution_count": 19,
   "metadata": {},
   "outputs": [
    {
     "data": {
      "text/plain": [
       "543.3858023713356"
      ]
     },
     "execution_count": 19,
     "metadata": {},
     "output_type": "execute_result"
    }
   ],
   "source": [
    "T_2 = T_1 * pow(relacion_presion, (k_1-1)/k_1)\n",
    "T_2"
   ]
  },
  {
   "cell_type": "code",
   "execution_count": 32,
   "metadata": {},
   "outputs": [
    {
     "data": {
      "text/plain": [
       "{'T': array([538.38984605]),\n",
       " 'p': array([1.01325]),\n",
       " 'd': array([0.65562903]),\n",
       " 'v': array([1.52525277]),\n",
       " 'h': array([240.32153492]),\n",
       " 'e': array([85.77529811]),\n",
       " 'gam': array([1.38259772]),\n",
       " 's': array([7.29845751]),\n",
       " 'cp': array([1.03732544]),\n",
       " 'cv': array([0.75027278])}"
      ]
     },
     "execution_count": 32,
     "metadata": {},
     "output_type": "execute_result"
    }
   ],
   "source": [
    "estado_2 = aire.state(T=T_2)\n",
    "h_2 = estado_2.get('h')[0]\n",
    "s_2 = estado_2.get('s')[0]\n",
    "v_2 = estado_2.get('v')[0]\n",
    "cp_2 = estado_2.get('cp')[0]\n",
    "cv_2 = estado_2.get('cv')[0]\n",
    "k_2 = cp_2/cv_2\n",
    "estado_2"
   ]
  },
  {
   "attachments": {},
   "cell_type": "markdown",
   "metadata": {},
   "source": [
    "#### Considerando el promedio de los k entre los dos estados "
   ]
  },
  {
   "cell_type": "code",
   "execution_count": 33,
   "metadata": {},
   "outputs": [],
   "source": [
    "k_prom = (k_1 + k_2) /2"
   ]
  },
  {
   "cell_type": "code",
   "execution_count": 34,
   "metadata": {},
   "outputs": [
    {
     "data": {
      "text/plain": [
       "538.3852746525358"
      ]
     },
     "execution_count": 34,
     "metadata": {},
     "output_type": "execute_result"
    }
   ],
   "source": [
    "T_2 = T_1 * pow(relacion_presion, (k_prom-1)/k_prom)\n",
    "T_2"
   ]
  },
  {
   "attachments": {},
   "cell_type": "markdown",
   "metadata": {},
   "source": [
    "### Calculo del estado 4"
   ]
  },
  {
   "cell_type": "code",
   "execution_count": 37,
   "metadata": {},
   "outputs": [
    {
     "data": {
      "text/plain": [
       "785.5368906897279"
      ]
     },
     "execution_count": 37,
     "metadata": {},
     "output_type": "execute_result"
    }
   ],
   "source": [
    "T_4 = T_3 * pow(1/relacion_presion, (k_3-1)/k_3)\n",
    "T_4"
   ]
  },
  {
   "cell_type": "code",
   "execution_count": 52,
   "metadata": {},
   "outputs": [
    {
     "data": {
      "text/plain": [
       "{'T': array([768.43691788]),\n",
       " 'p': array([1.01325]),\n",
       " 'd': array([0.45935327]),\n",
       " 'v': array([2.1769737]),\n",
       " 'h': array([484.92279182]),\n",
       " 'e': array([264.34093137]),\n",
       " 'gam': array([1.35709186]),\n",
       " 's': array([7.67617433]),\n",
       " 'cp': array([1.09091489]),\n",
       " 'cv': array([0.80386223])}"
      ]
     },
     "execution_count": 52,
     "metadata": {},
     "output_type": "execute_result"
    }
   ],
   "source": [
    "estado_4 = aire.state(T=T_4)\n",
    "h_4 = estado_4.get('h')[0]\n",
    "s_4 = estado_4.get('s')[0]\n",
    "v_4 = estado_4.get('v')[0]\n",
    "cp_4 = estado_4.get('cp')[0]\n",
    "cv_4 = estado_4.get('cv')[0]\n",
    "k_4 = cp_4/cv_4\n",
    "estado_4"
   ]
  },
  {
   "cell_type": "code",
   "execution_count": 53,
   "metadata": {},
   "outputs": [
    {
     "data": {
      "text/plain": [
       "1.338397267326263"
      ]
     },
     "execution_count": 53,
     "metadata": {},
     "output_type": "execute_result"
    }
   ],
   "source": [
    "k_prom = (k_3 + k_4) /2\n",
    "k_prom"
   ]
  },
  {
   "cell_type": "code",
   "execution_count": 54,
   "metadata": {},
   "outputs": [
    {
     "data": {
      "text/plain": [
       "768.4368272682857"
      ]
     },
     "execution_count": 54,
     "metadata": {},
     "output_type": "execute_result"
    }
   ],
   "source": [
    "T_4 = T_3 * pow(1/relacion_presion, (k_prom-1)/k_prom)\n",
    "T_4"
   ]
  }
 ],
 "metadata": {
  "kernelspec": {
   "display_name": "base",
   "language": "python",
   "name": "python3"
  },
  "language_info": {
   "codemirror_mode": {
    "name": "ipython",
    "version": 3
   },
   "file_extension": ".py",
   "mimetype": "text/x-python",
   "name": "python",
   "nbconvert_exporter": "python",
   "pygments_lexer": "ipython3",
   "version": "3.10.6"
  },
  "orig_nbformat": 4,
  "vscode": {
   "interpreter": {
    "hash": "c572d5174d38978ba02a3ac3c114ecb0cec161780d0cde2b670f1f68ef5adc30"
   }
  }
 },
 "nbformat": 4,
 "nbformat_minor": 2
}
