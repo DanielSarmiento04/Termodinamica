{
 "cells": [
  {
   "attachments": {},
   "cell_type": "markdown",
   "metadata": {},
   "source": [
    "# Enunciado \n",
    "Un ciclo de turbina de gas ideal con dos etapas de compresión y otras dos de expansión tiene una relación de presión total de 8. En cada etapa del compresor entra aire a 300 K y en cada etapa de la turbina entra a 1 300 K. Determine la relación del trabajo de retroceso y la eficiencia térmica de este ciclo de turbina de gas, suponiendo que a) no hay regeneradores y b) hay un regenerador ideal con eficacia de 100 por ciento."
   ]
  },
  {
   "cell_type": "code",
   "execution_count": 4,
   "metadata": {},
   "outputs": [
    {
     "ename": "ImportError",
     "evalue": "attempted relative import with no known parent package",
     "output_type": "error",
     "traceback": [
      "\u001b[0;31m---------------------------------------------------------------------------\u001b[0m",
      "\u001b[0;31mImportError\u001b[0m                               Traceback (most recent call last)",
      "Cell \u001b[0;32mIn[4], line 5\u001b[0m\n\u001b[1;32m      3\u001b[0m \u001b[39mimport\u001b[39;00m \u001b[39mmatplotlib\u001b[39;00m\u001b[39m.\u001b[39;00m\u001b[39mpyplot\u001b[39;00m \u001b[39mas\u001b[39;00m \u001b[39mplt\u001b[39;00m\n\u001b[1;32m      4\u001b[0m \u001b[39mfrom\u001b[39;00m \u001b[39mcolorama\u001b[39;00m \u001b[39mimport\u001b[39;00m Fore, Back, Style\n\u001b[0;32m----> 5\u001b[0m \u001b[39mfrom\u001b[39;00m \u001b[39m.\u001b[39;00m\u001b[39m.\u001b[39;00m\u001b[39mutils\u001b[39;00m \u001b[39mimport\u001b[39;00m get_T_2s_by_T_1\n\u001b[1;32m      6\u001b[0m get_ipython()\u001b[39m.\u001b[39mrun_line_magic(\u001b[39m'\u001b[39m\u001b[39mmatplotlib\u001b[39m\u001b[39m'\u001b[39m, \u001b[39m'\u001b[39m\u001b[39minline\u001b[39m\u001b[39m'\u001b[39m)\n",
      "\u001b[0;31mImportError\u001b[0m: attempted relative import with no known parent package"
     ]
    }
   ],
   "source": [
    "import pyromat as pyro\n",
    "import numpy as np\n",
    "import matplotlib.pyplot as plt\n",
    "from colorama import Fore, Back, Style\n",
    "%matplotlib inline"
   ]
  },
  {
   "cell_type": "code",
   "execution_count": 73,
   "metadata": {},
   "outputs": [],
   "source": [
    "aire = pyro.get('ig.air')"
   ]
  },
  {
   "attachments": {},
   "cell_type": "markdown",
   "metadata": {},
   "source": [
    "## Define the auxiliar function"
   ]
  },
  {
   "cell_type": "code",
   "execution_count": 74,
   "metadata": {},
   "outputs": [],
   "source": [
    "def get_T_2_from_T_1(T_1, relacion_presion, k):\n",
    "    \"\"\"\n",
    "        Esta función calcula la temperatura final de un gas ideal a partir de la inicial,\n",
    "        se debe tener en cuenta que la relación de presión  y la constante de los gases ideales\n",
    "    \"\"\"\n",
    "    T_2 = T_1 * pow(relacion_presion, (k-1)/k)\n",
    "    return T_2"
   ]
  },
  {
   "cell_type": "code",
   "execution_count": 75,
   "metadata": {},
   "outputs": [],
   "source": [
    "def get_T_2s_by_T_1(T_1, relacion_presion):\n",
    "    \"\"\"\n",
    "        Descripción\n",
    "        -----------\n",
    "        Esta función calcula la temperatura final de un gas ideal a partir de la inicial, \n",
    "        iterando el valor con el fin de converger a la temperatura final, usando el suposición\n",
    "        de gas ideal.\n",
    "\n",
    "        Base\n",
    "        ----\n",
    "        pv = nRT\n",
    "\n",
    "        p * v ^ k  = constante\n",
    "\n",
    "        p1 * v1 ^ k = p2 * v2 ^ k\n",
    "\n",
    "        v2 = v1 * (p1 / p2) ^ (1/k)\n",
    "\n",
    "        T2 = T1 * (p1 / p2) ^ ((k-1)/k)\n",
    "    \"\"\"\n",
    "\n",
    "    cp_1 = aire.cp(T=T_1)[0]\n",
    "    cv_1 = aire.cv(T=T_1)[0]\n",
    "    k_prom_1_2 = k_1 = cp_1 / cv_1\n",
    "    print(\"cp_1 = \", cp_1, \"kJ/kg*K\", \"cv_1 = \", cv_1, \"KJ/kg*K\", \"k_1 = \", k_1, \"\\n\")\n",
    "    for i in range(4):\n",
    "        T_2s = get_T_2_from_T_1(T_1, relacion_presion, k_prom_1_2)\n",
    "        cp_2s = aire.cp(T=T_2s)[0]\n",
    "        cv_2s = aire.cv(T=T_2s)[0]\n",
    "        k_2s = cp_2s / cv_2s\n",
    "        k_prom_1_2 = (k_1 + k_2s) / 2\n",
    "        print(\"cp_2s = \", cp_2s, \"kJ/kg*K\", \"cv_2s = \", cv_2s, \"KJ/kg*K\", \"k_2s = \", k_2s)\n",
    "        print(\"k_prom = \", k_prom_1_2)\n",
    "        print(Fore.LIGHTMAGENTA_EX,\"T_2s = \", T_2s, \"K\", Style.RESET_ALL, \"\\n\")\n",
    "\n",
    "    return T_2s"
   ]
  },
  {
   "cell_type": "code",
   "execution_count": 76,
   "metadata": {},
   "outputs": [],
   "source": [
    "T_1 = T_3 = 300 # K\n",
    "T_6 = T_8 = 1300 # k\n",
    "relacion_total_presiones = 8"
   ]
  },
  {
   "attachments": {},
   "cell_type": "markdown",
   "metadata": {},
   "source": [
    "### Se define el estado 1 y 3 "
   ]
  },
  {
   "cell_type": "code",
   "execution_count": 77,
   "metadata": {},
   "outputs": [
    {
     "data": {
      "text/plain": [
       "{'T': array([300.]),\n",
       " 'p': array([1.01325]),\n",
       " 'd': array([1.17661338]),\n",
       " 'v': array([0.84989684]),\n",
       " 'h': array([-2.4071345]),\n",
       " 'e': array([-88.52293216]),\n",
       " 'gam': array([1.39991606]),\n",
       " 's': array([6.70392413]),\n",
       " 'cp': array([1.00483493]),\n",
       " 'cv': array([0.71778227])}"
      ]
     },
     "execution_count": 77,
     "metadata": {},
     "output_type": "execute_result"
    }
   ],
   "source": [
    "estado_1 = estado_3 = aire.state(T=T_1)\n",
    "h_1 = h_3 = estado_1.get('h')[0]\n",
    "s_1 = s_3 = estado_1.get('s')[0]\n",
    "v_1 = v_3 = estado_1.get('v')[0]\n",
    "estado_1"
   ]
  },
  {
   "cell_type": "code",
   "execution_count": 78,
   "metadata": {},
   "outputs": [
    {
     "data": {
      "text/plain": [
       "{'T': array([1300.]),\n",
       " 'p': array([1.01325]),\n",
       " 'd': array([0.27152617]),\n",
       " 'v': array([3.68288632]),\n",
       " 'h': array([1092.80276699]),\n",
       " 'e': array([719.63431047]),\n",
       " 'gam': array([1.31970267]),\n",
       " 's': array([8.2752831]),\n",
       " 'cp': array([1.18492647]),\n",
       " 'cv': array([0.89787381])}"
      ]
     },
     "execution_count": 78,
     "metadata": {},
     "output_type": "execute_result"
    }
   ],
   "source": [
    "estado_6 = estado_8 = aire.state(T=T_6)\n",
    "h_6 = h_8 = estado_6.get('h')[0]\n",
    "s_6 = s_8 = estado_6.get('s')[0]\n",
    "v_6 = v_8 = estado_6.get('v')[0]\n",
    "estado_6"
   ]
  },
  {
   "cell_type": "code",
   "execution_count": 79,
   "metadata": {},
   "outputs": [
    {
     "data": {
      "text/plain": [
       "2.8284271247461903"
      ]
     },
     "execution_count": 79,
     "metadata": {},
     "output_type": "execute_result"
    }
   ],
   "source": [
    "relacion_parcial = np.sqrt(relacion_total_presiones)\n",
    "relacion_parcial"
   ]
  },
  {
   "cell_type": "code",
   "execution_count": 80,
   "metadata": {},
   "outputs": [
    {
     "name": "stdout",
     "output_type": "stream",
     "text": [
      "cp_1 =  1.004834931879507 kJ/kg*K cv_1 =  0.7177822730200997 KJ/kg*K k_1 =  1.3999160604114962 \n",
      "\n",
      "cp_2s =  1.014672645264171 kJ/kg*K cv_2s =  0.7276199864047638 KJ/kg*K k_2s =  1.3945090352420917\n",
      "k_prom =  1.3972125478267938\n",
      "\u001b[95m T_2s =  403.75207827502345 K \u001b[0m \n",
      "\n",
      "cp_2s =  1.0145973435005973 kJ/kg*K cv_2s =  0.7275446846411899 KJ/kg*K k_2s =  1.3945498674091417\n",
      "k_prom =  1.397232963910319\n",
      "\u001b[95m T_2s =  403.1722713569478 K \u001b[0m \n",
      "\n",
      "cp_2s =  1.0145979120415822 kJ/kg*K cv_2s =  0.7275452531821749 KJ/kg*K k_2s =  1.3945495590877428\n",
      "k_prom =  1.3972328097496196\n",
      "\u001b[95m T_2s =  403.1766551583382 K \u001b[0m \n",
      "\n",
      "cp_2s =  1.0145979077485547 kJ/kg*K cv_2s =  0.7275452488891474 KJ/kg*K k_2s =  1.394549561415862\n",
      "k_prom =  1.3972328109136791\n",
      "\u001b[95m T_2s =  403.1766220568016 K \u001b[0m \n",
      "\n"
     ]
    },
    {
     "data": {
      "text/plain": [
       "{'T': array([403.17662206]),\n",
       " 'p': array([1.01325]),\n",
       " 'd': array([0.87550715]),\n",
       " 'v': array([1.14219513]),\n",
       " 'h': array([101.70778339]),\n",
       " 'e': array([-14.02513797]),\n",
       " 'gam': array([1.39454956]),\n",
       " 's': array([7.00213391]),\n",
       " 'cp': array([1.01459791]),\n",
       " 'cv': array([0.72754525])}"
      ]
     },
     "execution_count": 80,
     "metadata": {},
     "output_type": "execute_result"
    }
   ],
   "source": [
    "T_2a = get_T_2s_by_T_1(T_1, relacion_parcial)\n",
    "estado_2a = estado_4a = aire.state(T=T_2a)\n",
    "h_2a = h_4a = estado_2a.get('h')[0]\n",
    "s_2a = s_4a = estado_2a.get('s')[0]\n",
    "v_2a = v_4a = estado_2a.get('v')[0]\n",
    "estado_2a"
   ]
  },
  {
   "cell_type": "code",
   "execution_count": 81,
   "metadata": {},
   "outputs": [
    {
     "name": "stdout",
     "output_type": "stream",
     "text": [
      "cp_1 =  1.1849264689991286 kJ/kg*K cv_1 =  0.8978738101397212 KJ/kg*K k_1 =  1.3197026749390741 \n",
      "\n",
      "cp_2s =  1.1424169083422457 kJ/kg*K cv_2s =  0.8553642494828384 KJ/kg*K k_2s =  1.335591134458755\n",
      "k_prom =  1.3276469046989146\n",
      "\u001b[95m T_2s =  1010.543397334645 K \u001b[0m \n",
      "\n",
      "cp_2s =  1.1416285928752157 kJ/kg*K cv_2s =  0.8545759340158083 KJ/kg*K k_2s =  1.335900705172558\n",
      "k_prom =  1.327801690055816\n",
      "\u001b[95m T_2s =  1005.7906850610975 K \u001b[0m \n",
      "\n",
      "cp_2s =  1.1416133330982756 kJ/kg*K cv_2s =  0.8545606742388683 KJ/kg*K k_2s =  1.3359067033070258\n",
      "k_prom =  1.32780468912305\n",
      "\u001b[95m T_2s =  1005.698869017632 K \u001b[0m \n",
      "\n",
      "cp_2s =  1.1416130374675804 kJ/kg*K cv_2s =  0.8545603786081729 KJ/kg*K k_2s =  1.3359068195121937\n",
      "k_prom =  1.3278047472256338\n",
      "\u001b[95m T_2s =  1005.6970903160772 K \u001b[0m \n",
      "\n"
     ]
    },
    {
     "data": {
      "text/plain": [
       "{'T': array([1005.69709032]),\n",
       " 'p': array([1.01325]),\n",
       " 'd': array([0.35098442]),\n",
       " 'v': array([2.84912927]),\n",
       " 'h': array([750.18301217]),\n",
       " 'e': array([461.49498839]),\n",
       " 'gam': array([1.33590682]),\n",
       " 's': array([7.97669694]),\n",
       " 'cp': array([1.14161304]),\n",
       " 'cv': array([0.85456038])}"
      ]
     },
     "execution_count": 81,
     "metadata": {},
     "output_type": "execute_result"
    }
   ],
   "source": [
    "T_7a = get_T_2s_by_T_1(T_6, 1/relacion_parcial)\n",
    "estado_7a = estado_9a = aire.state(T=T_7a)\n",
    "h_7a = h_9a = estado_7a.get('h')[0]\n",
    "s_7a = s_9a = estado_7a.get('s')[0]\n",
    "v_7a = v_9a = estado_7a.get('v')[0]\n",
    "estado_7a"
   ]
  },
  {
   "cell_type": "code",
   "execution_count": 82,
   "metadata": {},
   "outputs": [
    {
     "name": "stdout",
     "output_type": "stream",
     "text": [
      "trabajo_compresor_1 =  104.11491788406394 kJ/kg\n",
      "trabajo compresores =  208.22983576812788 kJ/kg\n",
      "trabajo turbina 1 =  342.61975481179104 kJ/kg\n",
      "trabajo turbina 2 =  342.61975481179104 kJ/kg\n",
      "trabajo turbinas =  685.2395096235821 kJ/kg\n",
      "trabajo neto =  477.0096738554542 kJ/kg\n"
     ]
    }
   ],
   "source": [
    "trabajo_compresor_1 = h_2a - h_1\n",
    "trabajo_compresores = trabajo_compresor_1 * 2\n",
    "trabajo_turbina_1 = h_6 - h_7a\n",
    "trabajo_turbina_2 = h_8 - h_9a\n",
    "trabajo_turbinas = trabajo_turbina_1 + trabajo_turbina_2\n",
    "trabajo_neto = trabajo_turbinas - trabajo_compresores\n",
    "print(\"trabajo_compresor_1 = \", trabajo_compresor_1, \"kJ/kg\")\n",
    "print(\"trabajo compresores = \", trabajo_compresores, \"kJ/kg\")\n",
    "print(\"trabajo turbina 1 = \", trabajo_turbina_1, \"kJ/kg\")\n",
    "print(\"trabajo turbina 2 = \", trabajo_turbina_2, \"kJ/kg\")   \n",
    "print(\"trabajo turbinas = \", trabajo_turbinas, \"kJ/kg\")\n",
    "print(\"trabajo neto = \", trabajo_neto, \"kJ/kg\")"
   ]
  },
  {
   "cell_type": "code",
   "execution_count": 83,
   "metadata": {},
   "outputs": [
    {
     "name": "stdout",
     "output_type": "stream",
     "text": [
      "relacion retroceso =  0.30387891072205303\n"
     ]
    }
   ],
   "source": [
    "relacion_retroceso = trabajo_compresores / trabajo_turbinas\n",
    "print(\"relacion retroceso = \", relacion_retroceso)"
   ]
  },
  {
   "cell_type": "code",
   "execution_count": 84,
   "metadata": {},
   "outputs": [
    {
     "name": "stdout",
     "output_type": "stream",
     "text": [
      "calor entrada no regenerador =  1333.7147384117661 kJ/kg\n"
     ]
    }
   ],
   "source": [
    "calor_entrada_no_regenerador = (h_6 - h_4a)  + (h_8 - h_7a)\n",
    "print(\"calor entrada no regenerador = \", calor_entrada_no_regenerador, \"kJ/kg\")"
   ]
  },
  {
   "cell_type": "code",
   "execution_count": 86,
   "metadata": {},
   "outputs": [
    {
     "name": "stdout",
     "output_type": "stream",
     "text": [
      "eficiencia térmica no regenerador =  0.35765494683180443\n"
     ]
    }
   ],
   "source": [
    "eficiencia_termica_no_regenerador = trabajo_neto / calor_entrada_no_regenerador\n",
    "print(\"eficiencia térmica no regenerador = \", eficiencia_termica_no_regenerador)"
   ]
  },
  {
   "cell_type": "code",
   "execution_count": 88,
   "metadata": {},
   "outputs": [
    {
     "name": "stdout",
     "output_type": "stream",
     "text": [
      "calor entrada con regenerador =  685.2395096235821 kJ/kg\n"
     ]
    }
   ],
   "source": [
    "calor_entrada_con_regenerador = (h_6 - h_9a)  + (h_8 - h_7a)\n",
    "print(\"calor entrada con regenerador = \", calor_entrada_con_regenerador, \"kJ/kg\")"
   ]
  },
  {
   "cell_type": "code",
   "execution_count": 89,
   "metadata": {},
   "outputs": [
    {
     "name": "stdout",
     "output_type": "stream",
     "text": [
      "eficiencia térmica con regenerador =  0.696121089277947\n"
     ]
    }
   ],
   "source": [
    "eficiencia_termica_con_regenerador = trabajo_neto / calor_entrada_con_regenerador\n",
    "print(\"eficiencia térmica con regenerador = \", eficiencia_termica_con_regenerador)\n"
   ]
  }
 ],
 "metadata": {
  "kernelspec": {
   "display_name": "termodinamica",
   "language": "python",
   "name": "python3"
  },
  "language_info": {
   "codemirror_mode": {
    "name": "ipython",
    "version": 3
   },
   "file_extension": ".py",
   "mimetype": "text/x-python",
   "name": "python",
   "nbconvert_exporter": "python",
   "pygments_lexer": "ipython3",
   "version": "3.10.8 | packaged by conda-forge | (main, Nov 22 2022, 08:25:29) [Clang 14.0.6 ]"
  },
  "orig_nbformat": 4,
  "vscode": {
   "interpreter": {
    "hash": "42829ba761cc03814a4ca0fd5987a871f250071456647426b2d15a3a80433ab3"
   }
  }
 },
 "nbformat": 4,
 "nbformat_minor": 2
}
