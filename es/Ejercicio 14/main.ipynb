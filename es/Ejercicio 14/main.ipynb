{
 "cells": [
  {
   "attachments": {},
   "cell_type": "markdown",
   "metadata": {},
   "source": [
    "# Enunciado\n",
    "------------\n",
    "\n",
    "Considere una planta eléctrica de vapor que opera en el ciclo Rankine ideal simple (Fig. 10-21). El vapor entra a la turbina a 3 MPa y 350 °C, y se conden- sa en el condensador a una presión de 75 kPa. El calor se suministra al vapor en un horno que se mantiene a 800 K, y el calor de desecho se rechaza al entorno a 300 K. Determine a) la destrucción de exergía correspondiente a cada uno de los cuatro procesos y a todo el ciclo, y b) la eficiencia de la se- gunda ley de este ciclo."
   ]
  },
  {
   "cell_type": "code",
   "execution_count": 13,
   "metadata": {},
   "outputs": [],
   "source": [
    "import pyromat as pyro\n",
    "import numpy as np\n",
    "import matplotlib.pyplot as plt\n",
    "from colorama import Fore\n",
    "%matplotlib inline"
   ]
  },
  {
   "cell_type": "code",
   "execution_count": 5,
   "metadata": {},
   "outputs": [
    {
     "name": "stdout",
     "output_type": "stream",
     "text": [
      "         length : km m cm mm um nm A in nmi ft yd mile mi \n",
      "           time : ns us ms s min hr day year \n",
      "           mass : kg g mg lbm lb oz slug u amu \n",
      "          force : N kN lb kgf lbf oz \n",
      "          molar : kmol mol lbmol n Nm3 Ncum NL Ncc scf sci \n",
      "    temperature : K C F R eV \n",
      "         energy : J kJ cal kcal eV BTU \n",
      "         volume : m3 mm3 cm3 in3 ft3 L mL uL cum cc cumm cuin cuft gal USgal UKgal qt pt \n",
      "       pressure : Pa kPa MPa GPa bar atm Torr mmHg mmH2O psi psf ksi inHg inH2O \n",
      "See also...\n",
      "  abs_to_gauge()        Absolute to gauge pressure\n",
      "  gauge_to_abs()        Gauge to absolute pressure\n",
      "  matter()              Moles and mass conversions\n",
      "  temperature_scale()   Correct handling of non-absolute temperatures\n"
     ]
    }
   ],
   "source": [
    "pyro.units.show()"
   ]
  },
  {
   "cell_type": "code",
   "execution_count": 6,
   "metadata": {},
   "outputs": [],
   "source": [
    "pyro.config['unit_pressure'] = 'kPa'"
   ]
  },
  {
   "attachments": {},
   "cell_type": "markdown",
   "metadata": {},
   "source": [
    "### Definir fluido de control "
   ]
  },
  {
   "cell_type": "code",
   "execution_count": 7,
   "metadata": {},
   "outputs": [],
   "source": [
    "agua = pyro.get('mp.H2O')"
   ]
  },
  {
   "attachments": {},
   "cell_type": "markdown",
   "metadata": {},
   "source": [
    "##  Definir propiedades y estados conocidos"
   ]
  },
  {
   "cell_type": "code",
   "execution_count": 21,
   "metadata": {},
   "outputs": [],
   "source": [
    "p_1 = p_4 = 75 # kpa\n",
    "p_2 = p_3 = 3000 # Kpa\n",
    "x_1 = 0\n",
    "T_3 = 350 + 273.15 # K\n",
    "T_entrada = 800 # K\n",
    "T_ambiente = 300 # K"
   ]
  },
  {
   "attachments": {},
   "cell_type": "markdown",
   "metadata": {},
   "source": [
    "### Estado 1"
   ]
  },
  {
   "cell_type": "code",
   "execution_count": 9,
   "metadata": {},
   "outputs": [
    {
     "data": {
      "text/plain": [
       "{'p': array([74.99277349]),\n",
       " 'T': array([364.90771893]),\n",
       " 'd': array([964.10440156]),\n",
       " 'x': array([0.]),\n",
       " 'e': array([384.36472827]),\n",
       " 'h': array([384.43410812]),\n",
       " 's': array([1.21318931]),\n",
       " 'cp': array([inf]),\n",
       " 'cv': array([nan]),\n",
       " 'gam': array([inf]),\n",
       " 'v': array([0.00103723])}"
      ]
     },
     "execution_count": 9,
     "metadata": {},
     "output_type": "execute_result"
    }
   ],
   "source": [
    "estado_1 = agua.state(p=p_1, x=x_1)\n",
    "h_1 = estado_1.get(\"h\")[0]\n",
    "s_1 = estado_1.get(\"s\")[0]\n",
    "T_1 = estado_1.get(\"T\")[0]\n",
    "v_1 = estado_1.get(\"v\")[0]\n",
    "estado_1"
   ]
  },
  {
   "attachments": {},
   "cell_type": "markdown",
   "metadata": {},
   "source": [
    "### Estado 3"
   ]
  },
  {
   "cell_type": "code",
   "execution_count": 10,
   "metadata": {},
   "outputs": [
    {
     "data": {
      "text/plain": [
       "{'p': array([2999.99999995]),\n",
       " 'T': array([623.15]),\n",
       " 'd': array([11.04271959]),\n",
       " 'x': array([-1.]),\n",
       " 'e': array([2844.42504669]),\n",
       " 'h': array([3116.09725341]),\n",
       " 's': array([6.74501134]),\n",
       " 'cp': array([2.3558872]),\n",
       " 'cv': array([1.72025698]),\n",
       " 'gam': array([1.36949724]),\n",
       " 'v': array([0.0905574])}"
      ]
     },
     "execution_count": 10,
     "metadata": {},
     "output_type": "execute_result"
    }
   ],
   "source": [
    "estado_3 = agua.state(p=p_3, T=T_3)\n",
    "h_3 = estado_3.get(\"h\")[0]\n",
    "s_3 = estado_3.get(\"s\")[0]\n",
    "T_3 = estado_3.get(\"T\")[0]\n",
    "v_3 = estado_3.get(\"v\")[0]\n",
    "estado_3"
   ]
  },
  {
   "attachments": {},
   "cell_type": "markdown",
   "metadata": {},
   "source": [
    "## Hallar los estados desconocidos"
   ]
  },
  {
   "attachments": {},
   "cell_type": "markdown",
   "metadata": {},
   "source": [
    "### Estado 2"
   ]
  },
  {
   "cell_type": "code",
   "execution_count": 11,
   "metadata": {},
   "outputs": [
    {
     "data": {
      "text/plain": [
       "{'p': array([3000.00199921]),\n",
       " 'T': array([365.09366813]),\n",
       " 'd': array([965.3216394]),\n",
       " 'x': array([-1]),\n",
       " 'e': array([384.36654898]),\n",
       " 'h': array([387.47432351]),\n",
       " 's': array([1.21318881]),\n",
       " 'cp': array([4.20066808]),\n",
       " 'cv': array([3.80538275]),\n",
       " 'gam': array([1.10387531]),\n",
       " 'v': array([0.00103592])}"
      ]
     },
     "execution_count": 11,
     "metadata": {},
     "output_type": "execute_result"
    }
   ],
   "source": [
    "estado_2 = agua.state(p=p_2, s=s_1)\n",
    "h_2 = estado_2.get(\"h\")[0]\n",
    "s_2 = estado_2.get(\"s\")[0]\n",
    "T_2 = estado_2.get(\"T\")[0]\n",
    "v_2 = estado_2.get(\"v\")[0]\n",
    "estado_2"
   ]
  },
  {
   "attachments": {},
   "cell_type": "markdown",
   "metadata": {},
   "source": [
    "### Estado 4"
   ]
  },
  {
   "cell_type": "code",
   "execution_count": 12,
   "metadata": {},
   "outputs": [
    {
     "data": {
      "text/plain": [
       "{'p': array([74.99277349]),\n",
       " 'T': array([364.90771893]),\n",
       " 'd': array([0.50894077]),\n",
       " 'x': array([0.88613457]),\n",
       " 'e': array([2255.68217106]),\n",
       " 'h': array([2403.03190473]),\n",
       " 's': array([6.74501134]),\n",
       " 'cp': array([inf]),\n",
       " 'cv': array([nan]),\n",
       " 'gam': array([inf]),\n",
       " 'v': array([1.9648652])}"
      ]
     },
     "execution_count": 12,
     "metadata": {},
     "output_type": "execute_result"
    }
   ],
   "source": [
    "estado_4 = agua.state(p=p_4, s=s_3)\n",
    "h_4 = estado_4.get(\"h\")[0]\n",
    "s_4 = estado_4.get(\"s\")[0]\n",
    "T_4 = estado_4.get(\"T\")[0]\n",
    "v_4 = estado_4.get(\"v\")[0]\n",
    "estado_4"
   ]
  },
  {
   "attachments": {},
   "cell_type": "markdown",
   "metadata": {},
   "source": [
    "### Análisis de trabajo y calores"
   ]
  },
  {
   "cell_type": "code",
   "execution_count": 18,
   "metadata": {},
   "outputs": [
    {
     "name": "stdout",
     "output_type": "stream",
     "text": [
      "\u001b[97mTrabajo del compresor: \u001b[92m3.040215388586489\u001b[97m kJ/kg\n",
      "\u001b[97mTrabajo de la turbina: \u001b[92m713.0653486864408\u001b[97m kJ/kg\n",
      "\u001b[97mTrabajo neto: \u001b[92m710.0251332978543\u001b[97m kJ/kg\n"
     ]
    }
   ],
   "source": [
    "trabajo_compresor = h_2 - h_1\n",
    "trabajo_turbina = h_3 - h_4\n",
    "trabajo_neto = trabajo_turbina - trabajo_compresor\n",
    "\n",
    "print(Fore.LIGHTWHITE_EX + \"Trabajo del compresor: \" + Fore.LIGHTGREEN_EX + str(trabajo_compresor) + Fore.LIGHTWHITE_EX + \" kJ/kg\")\n",
    "print(Fore.LIGHTWHITE_EX + \"Trabajo de la turbina: \" + Fore.LIGHTGREEN_EX + str(trabajo_turbina) + Fore.LIGHTWHITE_EX + \" kJ/kg\")\n",
    "print(Fore.LIGHTWHITE_EX + \"Trabajo neto: \" + Fore.LIGHTGREEN_EX + str(trabajo_neto) + Fore.LIGHTWHITE_EX + \" kJ/kg\")"
   ]
  },
  {
   "cell_type": "code",
   "execution_count": 17,
   "metadata": {},
   "outputs": [
    {
     "name": "stdout",
     "output_type": "stream",
     "text": [
      "\u001b[97mCalor de entrada: \u001b[92m2728.62292990519\u001b[97m kJ/kg\n",
      "\u001b[97mCalor de salida: \u001b[92m2018.5977966073358\u001b[97m kJ/kg\n"
     ]
    }
   ],
   "source": [
    "calor_entrada = h_3 - h_2\n",
    "calor_salida = h_4 - h_1\n",
    "\n",
    "print(Fore.LIGHTWHITE_EX + \"Calor de entrada: \" + Fore.LIGHTGREEN_EX + str(calor_entrada) + Fore.LIGHTWHITE_EX + \" kJ/kg\")\n",
    "print(Fore.LIGHTWHITE_EX + \"Calor de salida: \" + Fore.LIGHTGREEN_EX + str(calor_salida) + Fore.LIGHTWHITE_EX + \" kJ/kg\")\n"
   ]
  },
  {
   "cell_type": "code",
   "execution_count": 19,
   "metadata": {},
   "outputs": [
    {
     "name": "stdout",
     "output_type": "stream",
     "text": [
      "\u001b[97mEficiencia térmica: \u001b[92m0.2602137237491166\n"
     ]
    }
   ],
   "source": [
    "eficiencia_termica = trabajo_neto / calor_entrada\n",
    "\n",
    "print(Fore.LIGHTWHITE_EX + \"Eficiencia térmica: \" + Fore.LIGHTGREEN_EX + str(eficiencia_termica))"
   ]
  },
  {
   "attachments": {},
   "cell_type": "markdown",
   "metadata": {},
   "source": [
    "## Análisis exegéticos"
   ]
  },
  {
   "cell_type": "code",
   "execution_count": 22,
   "metadata": {},
   "outputs": [
    {
     "name": "stdout",
     "output_type": "stream",
     "text": [
      "\u001b[97mIrreversibilidad 2-3: \u001b[92m2.121043865379216\n",
      "\u001b[97mExergía destruida 2-3: \u001b[92m636.3131596137648\n"
     ]
    }
   ],
   "source": [
    "irreversibilidad_2_3 = s_3 - s_2 - calor_entrada / T_entrada\n",
    "exergia_destruida_2_3 = T_ambiente * irreversibilidad_2_3\n",
    "\n",
    "print(Fore.LIGHTWHITE_EX + \"Irreversibilidad 2-3: \" + Fore.LIGHTGREEN_EX + str(irreversibilidad_2_3))\n",
    "print(Fore.LIGHTWHITE_EX + \"Exergía destruida 2-3: \" + Fore.LIGHTGREEN_EX + str(exergia_destruida_2_3))"
   ]
  },
  {
   "cell_type": "code",
   "execution_count": 24,
   "metadata": {},
   "outputs": [
    {
     "name": "stdout",
     "output_type": "stream",
     "text": [
      "\u001b[97mIrreversibilidad 4-1: \u001b[92m1.196837291897042\n",
      "\u001b[97mExergía destruida 4-1: \u001b[92m359.0511875691126\n"
     ]
    }
   ],
   "source": [
    "irreversibilidad_4_1 = s_1 - s_4 + calor_salida / T_ambiente\n",
    "exergia_destruida_4_1 = T_ambiente * irreversibilidad_4_1\n",
    "\n",
    "print(Fore.LIGHTWHITE_EX + \"Irreversibilidad 4-1: \" + Fore.LIGHTGREEN_EX + str(irreversibilidad_4_1))\n",
    "print(Fore.LIGHTWHITE_EX + \"Exergía destruida 4-1: \" + Fore.LIGHTGREEN_EX + str(exergia_destruida_4_1))"
   ]
  },
  {
   "cell_type": "code",
   "execution_count": 25,
   "metadata": {},
   "outputs": [
    {
     "name": "stdout",
     "output_type": "stream",
     "text": [
      "\u001b[97mExergía del ciclo: \u001b[92m995.3643471828774\n"
     ]
    }
   ],
   "source": [
    "exergia_ciclo = exergia_destruida_2_3 + exergia_destruida_4_1\n",
    "\n",
    "print(Fore.LIGHTWHITE_EX + \"Exergía del ciclo: \" + Fore.LIGHTGREEN_EX + str(exergia_ciclo))"
   ]
  },
  {
   "cell_type": "code",
   "execution_count": 28,
   "metadata": {},
   "outputs": [
    {
     "name": "stdout",
     "output_type": "stream",
     "text": [
      "\u001b[97mEficiencia térmica 2ª ley: \u001b[92m0.417380512309784\n"
     ]
    }
   ],
   "source": [
    "exergia_gastada = (1 - T_ambiente/T_entrada) * calor_entrada + trabajo_compresor\n",
    "eficiencia_termica_2_ley =  1 - exergia_ciclo / exergia_gastada\n",
    "\n",
    "print(Fore.LIGHTWHITE_EX + \"Eficiencia térmica 2ª ley: \" + Fore.LIGHTGREEN_EX + str(eficiencia_termica_2_ley))"
   ]
  }
 ],
 "metadata": {
  "kernelspec": {
   "display_name": "termodinamica",
   "language": "python",
   "name": "python3"
  },
  "language_info": {
   "codemirror_mode": {
    "name": "ipython",
    "version": 3
   },
   "file_extension": ".py",
   "mimetype": "text/x-python",
   "name": "python",
   "nbconvert_exporter": "python",
   "pygments_lexer": "ipython3",
   "version": "3.10.8"
  },
  "orig_nbformat": 4,
  "vscode": {
   "interpreter": {
    "hash": "42829ba761cc03814a4ca0fd5987a871f250071456647426b2d15a3a80433ab3"
   }
  }
 },
 "nbformat": 4,
 "nbformat_minor": 2
}
