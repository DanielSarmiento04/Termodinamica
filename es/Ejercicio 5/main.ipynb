{
  "cells": [
    {
      "cell_type": "code",
      "execution_count": 15,
      "metadata": {
        "id": "MVmLwjZih6WR"
      },
      "outputs": [],
      "source": [
        "import matplotlib.pyplot as plt\n",
        "import numpy as np\n",
        "import pyromat as pyro\n",
        "%matplotlib inline"
      ]
    },
    {
      "cell_type": "code",
      "execution_count": 16,
      "metadata": {
        "id": "YSgsfWDhh7gl"
      },
      "outputs": [],
      "source": [
        "agua = pyro.get('mp.H2O')\n"
      ]
    },
    {
      "cell_type": "code",
      "execution_count": 17,
      "metadata": {
        "id": "-9uXYl-wh9AB"
      },
      "outputs": [],
      "source": [
        "pyro.config[\"unit_pressure\"]=\"kPa\""
      ]
    },
    {
      "cell_type": "code",
      "execution_count": 18,
      "metadata": {
        "id": "A9e4qbhsh_u8"
      },
      "outputs": [],
      "source": [
        "p_1 = p_6 = 10   #Kpa\n",
        "p_2 = p_3 = 15e3 #Kpa\n",
        "x_1 = 0\n",
        "T_3 = T_5 = 600 + 273.15 #K\n",
        "x_6_max = 1 - 0.104\n"
      ]
    },
    {
      "cell_type": "code",
      "execution_count": 19,
      "metadata": {
        "colab": {
          "base_uri": "https://localhost:8080/"
        },
        "id": "FAk2OClWiCZU",
        "outputId": "ca143dc8-a053-42a9-fe90-4cd3eb889bfd"
      },
      "outputs": [
        {
          "data": {
            "text/plain": [
              "{'p': array([14999.99992027]),\n",
              " 'T': array([873.15]),\n",
              " 'd': array([40.12626917]),\n",
              " 'x': array([-1.]),\n",
              " 'e': array([3209.35133926]),\n",
              " 'h': array([3583.17128893]),\n",
              " 's': array([6.67966684]),\n",
              " 'cp': array([2.60977799]),\n",
              " 'cv': array([1.88973013]),\n",
              " 'gam': array([1.38103211]),\n",
              " 'v': array([0.02492133])}"
            ]
          },
          "execution_count": 19,
          "metadata": {},
          "output_type": "execute_result"
        }
      ],
      "source": [
        "state_3 = agua.state(T=T_3, p=p_3)\n",
        "s_3 = s_4 = state_3.get(\"s\")[0]\n",
        "h_3 = state_3.get(\"h\")[0]\n",
        "v_3 = state_3.get(\"v\")[0]\n",
        "state_3"
      ]
    },
    {
      "cell_type": "code",
      "execution_count": 20,
      "metadata": {
        "colab": {
          "base_uri": "https://localhost:8080/"
        },
        "id": "mW6__15qiFAI",
        "outputId": "2e516b07-213f-4302-eccb-e26fdef98e99"
      },
      "outputs": [
        {
          "data": {
            "text/plain": [
              "{'p': array([10.00017582]),\n",
              " 'T': array([318.9556078]),\n",
              " 'd': array([0.07607791]),\n",
              " 'x': array([0.896]),\n",
              " 'e': array([2203.66211674]),\n",
              " 'h': array([2335.10740844]),\n",
              " 's': array([7.36893036]),\n",
              " 'cp': array([inf]),\n",
              " 'cv': array([nan]),\n",
              " 'gam': array([inf]),\n",
              " 'v': array([13.14441958])}"
            ]
          },
          "execution_count": 20,
          "metadata": {},
          "output_type": "execute_result"
        }
      ],
      "source": [
        "state_6 = agua.state(x=x_6_max, p=p_6)\n",
        "s_6 = s_5 = state_6.get(\"s\")[0]\n",
        "h_6 = state_6.get(\"h\")[0]\n",
        "v_6 = state_6.get(\"v\")[0]\n",
        "T_6 = state_6.get(\"T\")[0]\n",
        "state_6"
      ]
    },
    {
      "cell_type": "code",
      "execution_count": 21,
      "metadata": {
        "colab": {
          "base_uri": "https://localhost:8080/"
        },
        "id": "c3TOSLhHiHPs",
        "outputId": "251f4437-1b24-449e-aa60-701aa291ff04"
      },
      "outputs": [
        {
          "data": {
            "text/plain": [
              "{'p': array([4013.75796336]),\n",
              " 'T': array([873.15]),\n",
              " 'd': array([10.15082128]),\n",
              " 'x': array([-1]),\n",
              " 'e': array([3279.38481408]),\n",
              " 'h': array([3674.79695404]),\n",
              " 's': array([7.36893105]),\n",
              " 'cp': array([2.29661977]),\n",
              " 'cv': array([1.77731608]),\n",
              " 'gam': array([1.29218421]),\n",
              " 'v': array([0.0985142])}"
            ]
          },
          "execution_count": 21,
          "metadata": {},
          "output_type": "execute_result"
        }
      ],
      "source": [
        "state_5 = agua.state(T=T_5, s = s_5)\n",
        "h_5 = state_5.get(\"h\")[0]\n",
        "v_5 = state_5.get(\"v\")[0]\n",
        "p_4 = p_5 = state_5.get(\"p\")[0]\n",
        "state_5"
      ]
    },
    {
      "cell_type": "code",
      "execution_count": 22,
      "metadata": {
        "colab": {
          "base_uri": "https://localhost:8080/"
        },
        "id": "N33_vUk2iJwd",
        "outputId": "b1e32408-c887-4d9a-c74b-ae671e655955"
      },
      "outputs": [
        {
          "data": {
            "text/plain": [
              "{'p': array([4013.75795196]),\n",
              " 'T': array([648.31842089]),\n",
              " 'd': array([14.33183081]),\n",
              " 'x': array([-1]),\n",
              " 'e': array([2874.81137473]),\n",
              " 'h': array([3154.87035704]),\n",
              " 's': array([6.67966684]),\n",
              " 'cp': array([2.41973765]),\n",
              " 'cv': array([1.75277637]),\n",
              " 'gam': array([1.38051704]),\n",
              " 'v': array([0.06977476])}"
            ]
          },
          "execution_count": 22,
          "metadata": {},
          "output_type": "execute_result"
        }
      ],
      "source": [
        "state_4 = agua.state(s=s_4, p=p_4)\n",
        "h_4 = state_4.get(\"h\")[0]\n",
        "v_4 = state_4.get(\"v\")[0]\n",
        "T_4 = state_4.get(\"T\")[0]\n",
        "state_4"
      ]
    },
    {
      "cell_type": "code",
      "execution_count": 23,
      "metadata": {
        "colab": {
          "base_uri": "https://localhost:8080/"
        },
        "id": "n8IhhY3qkR-F",
        "outputId": "de496e69-02af-4a47-901b-c66a18b45708"
      },
      "outputs": [
        {
          "data": {
            "text/plain": [
              "{'p': array([10.00017582]),\n",
              " 'T': array([318.9556078]),\n",
              " 'd': array([989.82852633]),\n",
              " 'x': array([0.]),\n",
              " 'e': array([191.79646521]),\n",
              " 'h': array([191.79488495]),\n",
              " 's': array([0.64919807]),\n",
              " 'cp': array([inf]),\n",
              " 'cv': array([nan]),\n",
              " 'gam': array([inf]),\n",
              " 'v': array([0.00101028])}"
            ]
          },
          "execution_count": 23,
          "metadata": {},
          "output_type": "execute_result"
        }
      ],
      "source": [
        "state_1 = agua.state(p=p_1, x = x_1)\n",
        "h_1 = state_1.get(\"h\")[0]\n",
        "v_1 = state_1.get(\"v\")[0]\n",
        "s_1 = s_2 = state_1.get(\"s\")[0]\n",
        "T_1 = state_1.get(\"T\")[0]\n",
        "state_1"
      ]
    },
    {
      "cell_type": "code",
      "execution_count": 24,
      "metadata": {
        "colab": {
          "base_uri": "https://localhost:8080/"
        },
        "id": "Gb0XiVVrpjak",
        "outputId": "3a768577-e727-4156-8edb-157f8d319802"
      },
      "outputs": [
        {
          "data": {
            "text/plain": [
              "{'p': array([15000.00007066]),\n",
              " 'T': array([319.45416111]),\n",
              " 'd': array([996.06564905]),\n",
              " 'x': array([-1]),\n",
              " 'e': array([191.84352796]),\n",
              " 'h': array([206.9027764]),\n",
              " 's': array([0.64919806]),\n",
              " 'cp': array([4.14688528]),\n",
              " 'cv': array([4.00566148]),\n",
              " 'gam': array([1.03525605]),\n",
              " 'v': array([0.00100395])}"
            ]
          },
          "execution_count": 24,
          "metadata": {},
          "output_type": "execute_result"
        }
      ],
      "source": [
        "state_2 = agua.state(p=p_2, s=s_2)\n",
        "h_2 = state_2.get(\"h\")[0]\n",
        "v_2 = state_2.get(\"v\")[0]\n",
        "T_2 = state_2.get(\"T\")[0]\n",
        "state_2"
      ]
    },
    {
      "cell_type": "code",
      "execution_count": 25,
      "metadata": {
        "colab": {
          "base_uri": "https://localhost:8080/"
        },
        "id": "C5D5S2ZbreIZ",
        "outputId": "cff68e7f-03c4-4716-e629-84326166a311"
      },
      "outputs": [
        {
          "data": {
            "text/plain": [
              "2143.312523489376"
            ]
          },
          "execution_count": 25,
          "metadata": {},
          "output_type": "execute_result"
        }
      ],
      "source": [
        "q_salida = h_6 - h_1\n",
        "q_salida"
      ]
    },
    {
      "cell_type": "code",
      "execution_count": 26,
      "metadata": {
        "colab": {
          "base_uri": "https://localhost:8080/"
        },
        "id": "zBVTcs72_jlG",
        "outputId": "85066c7d-2af3-4bcd-ad75-b48acfad679d"
      },
      "outputs": [
        {
          "data": {
            "text/plain": [
              "3896.195109524656"
            ]
          },
          "execution_count": 26,
          "metadata": {},
          "output_type": "execute_result"
        }
      ],
      "source": [
        "q_entrada = (h_3 - h_2) + (h_5 - h_4)\n",
        "q_entrada"
      ]
    },
    {
      "cell_type": "code",
      "execution_count": 27,
      "metadata": {
        "colab": {
          "base_uri": "https://localhost:8080/"
        },
        "id": "XQ6o6IcS_5gs",
        "outputId": "eb77130b-8c38-4676-a6e5-c6c09f2d0d21"
      },
      "outputs": [
        {
          "data": {
            "text/plain": [
              "0.4498959977004682"
            ]
          },
          "execution_count": 27,
          "metadata": {},
          "output_type": "execute_result"
        }
      ],
      "source": [
        "eficiencia_termica = 1 - q_salida/q_entrada\n",
        "eficiencia_termica"
      ]
    },
    {
      "cell_type": "code",
      "execution_count": 46,
      "metadata": {},
      "outputs": [],
      "source": [
        "temperatures_2_3 = np.linspace(T_2, T_3, 100)\n",
        "entropies_2_3 = agua.s(T=temperatures_2_3, p = p_2)"
      ]
    },
    {
      "cell_type": "code",
      "execution_count": 56,
      "metadata": {},
      "outputs": [],
      "source": [
        "temperature_4_5 = np.linspace(T_4, T_5, 100)\n",
        "entropies_4_5 = agua.s(T=temperature_4_5, p = p_4)"
      ]
    },
    {
      "cell_type": "code",
      "execution_count": 69,
      "metadata": {},
      "outputs": [
        {
          "data": {
            "text/plain": [
              "647.096"
            ]
          },
          "execution_count": 69,
          "metadata": {},
          "output_type": "execute_result"
        }
      ],
      "source": [
        "T_critica = agua.critical()[0]\n",
        "T_critica"
      ]
    },
    {
      "cell_type": "code",
      "execution_count": 107,
      "metadata": {},
      "outputs": [],
      "source": [
        "saturation_temperatures = np.linspace(T_1, T_critica, 100)"
      ]
    },
    {
      "cell_type": "code",
      "execution_count": 118,
      "metadata": {},
      "outputs": [
        {
          "data": {
            "text/plain": [
              "(array([0.64395204, 0.68722847, 0.73007015, 0.77248766, 0.81449118,\n",
              "        0.85609051, 0.89729514, 0.93811428, 0.9785569 , 1.01863177,\n",
              "        1.05834746, 1.09771235, 1.13673468, 1.17542252, 1.21378382,\n",
              "        1.25182637, 1.28955784, 1.32698576, 1.36411756, 1.40096053,\n",
              "        1.43752185, 1.47380858, 1.50982767, 1.54558595, 1.58109016,\n",
              "        1.61634692, 1.65136277, 1.68614413, 1.72069733, 1.75502862,\n",
              "        1.78914416, 1.82305003, 1.85675224, 1.89025671, 1.92356932,\n",
              "        1.95669588, 1.98964214, 2.0224138 , 2.05501655, 2.08745602,\n",
              "        2.11973781, 2.15186751, 2.18385071, 2.21569298, 2.2473999 ,\n",
              "        2.27897707, 2.31043011, 2.34176467, 2.37298646, 2.40410122,\n",
              "        2.43511477, 2.46603303, 2.49686199, 2.52760774, 2.55827653,\n",
              "        2.58887472, 2.61940884, 2.6498856 , 2.68031192, 2.71069494,\n",
              "        2.74104206, 2.77136096, 2.80165964, 2.83194645, 2.86223015,\n",
              "        2.89251994, 2.92282553, 2.95315717, 2.98352575, 3.01394288,\n",
              "        3.04442096, 3.07497332, 3.1056143 , 3.13635945, 3.16722565,\n",
              "        3.19823138, 3.22939688, 3.26074454, 3.2922992 , 3.32408858,\n",
              "        3.3561439 , 3.38850046, 3.42119856, 3.45428456, 3.48781231,\n",
              "        3.52184494, 3.55645735, 3.5917395 , 3.62780096, 3.6647775 ,\n",
              "        3.70284057, 3.74221198, 3.78318741, 3.82617671, 3.87177863,\n",
              "        3.92093414, 3.97528541, 4.03818713, 4.11857348, 4.27378435]),\n",
              " array([8.1560895 , 8.09721244, 8.03989899, 7.98409176, 7.92973555,\n",
              "        7.87677719, 7.82516544, 7.77485096, 7.72578614, 7.67792511,\n",
              "        7.63122356, 7.58563876, 7.54112944, 7.49765571, 7.45517905,\n",
              "        7.41366222, 7.37306921, 7.33336521, 7.29451652, 7.25649057,\n",
              "        7.21925583, 7.18278182, 7.14703901, 7.11199887, 7.07763376,\n",
              "        7.04391696, 7.01082261, 6.97832567, 6.94640193, 6.91502793,\n",
              "        6.88418098, 6.85383907, 6.8239809 , 6.7945858 , 6.76563371,\n",
              "        6.73710517, 6.70898125, 6.68124351, 6.65387403, 6.62685529,\n",
              "        6.6001702 , 6.57380203, 6.54773438, 6.52195117, 6.49643657,\n",
              "        6.47117499, 6.44615105, 6.42134953, 6.39675533, 6.37235349,\n",
              "        6.34812907, 6.32406719, 6.30015297, 6.27637148, 6.25270771,\n",
              "        6.22914655, 6.20567272, 6.18227075, 6.1589249 , 6.13561915,\n",
              "        6.11233713, 6.08906204, 6.0657766 , 6.04246302, 6.01910284,\n",
              "        5.99567691, 5.97216526, 5.948547  , 5.92480019, 5.9009017 ,\n",
              "        5.87682704, 5.85255019, 5.82804337, 5.8032768 , 5.77821839,\n",
              "        5.75283343, 5.72708415, 5.70092923, 5.67432322, 5.64721583,\n",
              "        5.61955102, 5.59126592, 5.5622894 , 5.53254035, 5.50192533,\n",
              "        5.47033557, 5.43764295, 5.40369446, 5.3683045 , 5.33124387,\n",
              "        5.29222351, 5.2508695 , 5.20668325, 5.15897412, 5.1067377 ,\n",
              "        5.04841459, 4.98134825, 4.90030755, 4.79182474, 4.57226389]))"
            ]
          },
          "execution_count": 118,
          "metadata": {},
          "output_type": "execute_result"
        }
      ],
      "source": [
        "saturation_entropies=agua.ss(T=saturation_temperatures-0.4)\n",
        "saturation_entropies"
      ]
    },
    {
      "cell_type": "code",
      "execution_count": 119,
      "metadata": {
        "colab": {
          "base_uri": "https://localhost:8080/",
          "height": 283
        },
        "id": "6WXgQU3aqGbd",
        "outputId": "853e048d-7783-44b8-b464-ce0ffa023235"
      },
      "outputs": [
        {
          "data": {
            "image/png": "[encoded data removed]",
            "text/plain": [
              "<Figure size 640x480 with 1 Axes>"
            ]
          },
          "metadata": {},
          "output_type": "display_data"
        }
      ],
      "source": [
        "plt.scatter([s_1, s_2, s_3, s_4, s_5, s_6], [T_1, T_2, T_3, T_4, T_5, T_6])\n",
        "plt.plot(entropies_2_3, temperatures_2_3, color=\"red\")\n",
        "plt.plot(entropies_4_5, temperature_4_5, color=\"red\")\n",
        "plt.plot([s_1, s_2], [T_1, T_2], color=\"red\")\n",
        "plt.plot([s_3, s_4], [T_3, T_4], color=\"red\")\n",
        "plt.plot([s_5, s_6], [T_5, T_6], color=\"red\")\n",
        "plt.plot([s_1, s_6], [T_1, T_6], color=\"red\")\n",
        "\n",
        "\n",
        "plt.plot(saturation_entropies[0], saturation_temperatures, color=\"black\")\n",
        "plt.plot(saturation_entropies[1], saturation_temperatures, color=\"black\")\n",
        "plt.grid(True)\n",
        "plt.xlabel(\"Entropia\")\n",
        "plt.ylabel(\"Temperatura\")\n",
        "plt.title(\"Diagrama de Entropía-Temperatura\")\n",
        "plt.show()"
      ]
    },
    {
      "cell_type": "code",
      "execution_count": null,
      "metadata": {},
      "outputs": [],
      "source": []
    }
  ],
  "metadata": {
    "colab": {
      "provenance": []
    },
    "kernelspec": {
      "display_name": "termodinamica",
      "language": "python",
      "name": "python3"
    },
    "language_info": {
      "name": "python",
      "version": "3.10.8 | packaged by conda-forge | (main, Nov 22 2022, 08:25:29) [Clang 14.0.6 ]"
    },
    "vscode": {
      "interpreter": {
        "hash": "42829ba761cc03814a4ca0fd5987a871f250071456647426b2d15a3a80433ab3"
      }
    }
  },
  "nbformat": 4,
  "nbformat_minor": 0
}
