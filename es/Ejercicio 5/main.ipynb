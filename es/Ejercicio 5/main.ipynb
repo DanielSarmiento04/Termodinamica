{
 "cells": [
  {
   "cell_type": "code",
   "execution_count": 1,
   "metadata": {},
   "outputs": [],
   "source": [
    "import matplotlib.pyplot as plt\n",
    "import numpy as np\n",
    "import pyromat as pyro\n",
    "%matplotlib inline"
   ]
  },
  {
   "cell_type": "code",
   "execution_count": 5,
   "metadata": {},
   "outputs": [],
   "source": [
    "agua = pyro.get('mp.H2O')"
   ]
  },
  {
   "cell_type": "code",
   "execution_count": 8,
   "metadata": {},
   "outputs": [],
   "source": [
    "pyro.config[\"unit_pressure\"]=\"kPa\""
   ]
  },
  {
   "cell_type": "markdown",
   "metadata": {},
   "source": [
    "### Establecemos los datos del problema"
   ]
  },
  {
   "cell_type": "code",
   "execution_count": 22,
   "metadata": {},
   "outputs": [],
   "source": [
    "p_1 = p_6 = 10   #Kpa\n",
    "p_2 = p_3 = 15e3 #Kpa\n",
    "x_1 = 0\n",
    "T_3 = T_5 = 600 + 273.15 #K\n",
    "x_6_max = 1 - 0.104"
   ]
  },
  {
   "cell_type": "code",
   "execution_count": 23,
   "metadata": {},
   "outputs": [
    {
     "data": {
      "text/plain": [
       "{'p': array([14999.99992027]),\n",
       " 'T': array([873.15]),\n",
       " 'd': array([40.12626917]),\n",
       " 'x': array([-1.]),\n",
       " 'e': array([3209.35133926]),\n",
       " 'h': array([3583.17128893]),\n",
       " 's': array([6.67966684]),\n",
       " 'cp': array([2.60977799]),\n",
       " 'cv': array([1.88973013]),\n",
       " 'gam': array([1.38103211]),\n",
       " 'v': array([0.02492133])}"
      ]
     },
     "execution_count": 23,
     "metadata": {},
     "output_type": "execute_result"
    }
   ],
   "source": [
    "state_3 = agua.state(T=T_3, p=p_3)\n",
    "s_3 = s_4 = state_3.get(\"s\")\n",
    "h_3 = state_3.get(\"h\")\n",
    "v_3 = state_3.get(\"v\")\n",
    "state_3"
   ]
  },
  {
   "cell_type": "code",
   "execution_count": 24,
   "metadata": {},
   "outputs": [
    {
     "data": {
      "text/plain": [
       "{'p': array([10.00017582]),\n",
       " 'T': array([318.9556078]),\n",
       " 'd': array([0.07607791]),\n",
       " 'x': array([0.896]),\n",
       " 'e': array([2203.66211674]),\n",
       " 'h': array([2335.10740844]),\n",
       " 's': array([7.36893036]),\n",
       " 'cp': array([inf]),\n",
       " 'cv': array([nan]),\n",
       " 'gam': array([inf]),\n",
       " 'v': array([13.14441958])}"
      ]
     },
     "execution_count": 24,
     "metadata": {},
     "output_type": "execute_result"
    }
   ],
   "source": [
    "state_6 = agua.state(x=x_6_max, p=p_6)\n",
    "s_6 = state_6.get(\"s\")\n",
    "h_6 = state_6.get(\"h\")\n",
    "v_6 = state_6.get(\"v\")\n",
    "T_6 = state_6.get(\"T\")\n",
    "state_6"
   ]
  },
  {
   "cell_type": "code",
   "execution_count": 27,
   "metadata": {},
   "outputs": [
    {
     "data": {
      "text/plain": [
       "{'p': array([4013.75796336]),\n",
       " 'T': array([873.15]),\n",
       " 'd': array([10.15082128]),\n",
       " 'x': array([-1]),\n",
       " 'e': array([3279.38481408]),\n",
       " 'h': array([3674.79695404]),\n",
       " 's': array([7.36893105]),\n",
       " 'cp': array([2.29661977]),\n",
       " 'cv': array([1.77731608]),\n",
       " 'gam': array([1.29218421]),\n",
       " 'v': array([0.0985142])}"
      ]
     },
     "execution_count": 27,
     "metadata": {},
     "output_type": "execute_result"
    }
   ],
   "source": [
    "state_5 = agua.state(T=T_5, s = s_6)\n",
    "h_5 = state_5.get(\"h\")\n",
    "v_5 = state_5.get(\"v\")\n",
    "p_4 = p_5 = state_5.get(\"p\")\n",
    "state_5"
   ]
  },
  {
   "cell_type": "code",
   "execution_count": null,
   "metadata": {},
   "outputs": [],
   "source": []
  }
 ],
 "metadata": {
  "kernelspec": {
   "display_name": "Python 3.10.8 ('termodinamica')",
   "language": "python",
   "name": "python3"
  },
  "language_info": {
   "codemirror_mode": {
    "name": "ipython",
    "version": 3
   },
   "file_extension": ".py",
   "mimetype": "text/x-python",
   "name": "python",
   "nbconvert_exporter": "python",
   "pygments_lexer": "ipython3",
   "version": "3.10.8"
  },
  "orig_nbformat": 4,
  "vscode": {
   "interpreter": {
    "hash": "42829ba761cc03814a4ca0fd5987a871f250071456647426b2d15a3a80433ab3"
   }
  }
 },
 "nbformat": 4,
 "nbformat_minor": 2
}
