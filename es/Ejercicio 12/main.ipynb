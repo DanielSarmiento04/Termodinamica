{
 "cells": [
  {
   "attachments": {},
   "cell_type": "markdown",
   "metadata": {},
   "source": [
    "# Enunciado \n",
    "\n",
    "Un ciclo Brayton ideal simple utiliza argón como fluido de trabajo. Al principio de la compresión, P1 = 15 psia y T1 = 80 °F; la temperatura máxima del ciclo es 1 200 °F; y la presión en la cámara de combustión es 150 psia. El argón entra al compresor por una abertura de 3 pies2 a una velocidad de 200 pies/s. Determine la tasa a la cual el ciclo genera entro- pía. La temperatura de la fuente es la misma que la temperatura máxima del ciclo, y la temperatura del sumidero es la misma que la temperatura mínima del ciclo."
   ]
  },
  {
   "cell_type": "code",
   "execution_count": null,
   "metadata": {},
   "outputs": [],
   "source": []
  }
 ],
 "metadata": {
  "kernelspec": {
   "display_name": "base",
   "language": "python",
   "name": "python3"
  },
  "language_info": {
   "name": "python",
   "version": "3.10.6 | packaged by conda-forge | (main, Aug 22 2022, 20:38:29) [Clang 13.0.1 ]"
  },
  "orig_nbformat": 4,
  "vscode": {
   "interpreter": {
    "hash": "c572d5174d38978ba02a3ac3c114ecb0cec161780d0cde2b670f1f68ef5adc30"
   }
  }
 },
 "nbformat": 4,
 "nbformat_minor": 2
}
