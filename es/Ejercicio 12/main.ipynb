{
 "cells": [
  {
   "attachments": {},
   "cell_type": "markdown",
   "metadata": {},
   "source": [
    "# Enunciado \n",
    "\n",
    "Un ciclo Brayton con regeneración que utiliza aire como fluido de trabajo tiene una relación de presiones de 7. Las temperaturas máximas del ciclo son 310 y 1150 K. Considere una eficiencia isentrópica de 75 por ciento para el compresor y de 82 por ciento para la turbina y una efectividad de 65 por ciento para el regenerador. Determine la destrucción de exergía total asociada con el ciclo, suponiendo una temperatura de la fuente de 1 500 K y una temperatura del sumidero de 290 K. También, determine la exergía de los gases de escape a la salida del regenerador. Use calores específicos variables para el aire."
   ]
  },
  {
   "cell_type": "code",
   "execution_count": 246,
   "metadata": {},
   "outputs": [],
   "source": [
    "import pyromat as pyro\n",
    "import numpy as np\n",
    "from colorama import Fore, Style\n",
    "from matplotlib import pyplot as plt\n",
    "%matplotlib inline"
   ]
  },
  {
   "cell_type": "code",
   "execution_count": 247,
   "metadata": {},
   "outputs": [
    {
     "name": "stdout",
     "output_type": "stream",
     "text": [
      "         length : km m cm mm um nm A in nmi ft yd mile mi \n",
      "           time : ns us ms s min hr day year \n",
      "           mass : kg g mg lbm lb oz slug u amu \n",
      "          force : N kN lb kgf lbf oz \n",
      "          molar : kmol mol lbmol n Nm3 Ncum NL Ncc scf sci \n",
      "    temperature : K C F R eV \n",
      "         energy : J kJ cal kcal eV BTU \n",
      "         volume : m3 mm3 cm3 in3 ft3 L mL uL cum cc cumm cuin cuft gal USgal UKgal qt pt \n",
      "       pressure : Pa kPa MPa GPa bar atm Torr mmHg mmH2O psi psf ksi inHg inH2O \n",
      "See also...\n",
      "  abs_to_gauge()        Absolute to gauge pressure\n",
      "  gauge_to_abs()        Gauge to absolute pressure\n",
      "  matter()              Moles and mass conversions\n",
      "  temperature_scale()   Correct handling of non-absolute temperatures\n"
     ]
    }
   ],
   "source": [
    "pyro.units.show()"
   ]
  },
  {
   "cell_type": "code",
   "execution_count": 248,
   "metadata": {},
   "outputs": [],
   "source": [
    "pyro.config[\"unit_pressure\"]=\"kPa\"\n",
    "pyro.config[\"unit_temperature\"]=\"K\""
   ]
  },
  {
   "cell_type": "code",
   "execution_count": 249,
   "metadata": {},
   "outputs": [
    {
     "data": {
      "text/plain": [
       "     config_file : ['/Users/daniel/miniforge3/envs/termodinamica/lib/...\n",
       "  config_verbose : False\n",
       "         dat_dir : ['/Users/daniel/miniforge3/envs/termodinamica/lib/...\n",
       " dat_exist_fatal : False\n",
       "   dat_overwrite : True\n",
       "   dat_recursive : True\n",
       "     dat_verbose : False\n",
       "           def_T : 298.15\n",
       "         def_oob : nan\n",
       "           def_p : 1.01325\n",
       "   error_verbose : True\n",
       "     install_dir : '/Users/daniel/miniforge3/envs/termodinamica/lib/p...\n",
       "         reg_dir : ['/Users/daniel/miniforge3/envs/termodinamica/lib/...\n",
       " reg_exist_fatal : False\n",
       "   reg_overwrite : True\n",
       "     reg_verbose : False\n",
       "     unit_energy : 'kJ'\n",
       "      unit_force : 'N'\n",
       "     unit_length : 'm'\n",
       "       unit_mass : 'kg'\n",
       "     unit_matter : 'kg'\n",
       "      unit_molar : 'kmol'\n",
       "   unit_pressure : 'kPa'\n",
       "unit_temperature : 'K'\n",
       "       unit_time : 's'\n",
       "     unit_volume : 'm3'\n",
       "         version : '2.2.4'\n",
       " warning_verbose : True"
      ]
     },
     "execution_count": 249,
     "metadata": {},
     "output_type": "execute_result"
    }
   ],
   "source": [
    "pyro.config"
   ]
  },
  {
   "cell_type": "code",
   "execution_count": 250,
   "metadata": {},
   "outputs": [],
   "source": [
    "aire = pyro.get('ig.air')"
   ]
  },
  {
   "attachments": {},
   "cell_type": "markdown",
   "metadata": {},
   "source": [
    "## Datos conocidos"
   ]
  },
  {
   "cell_type": "code",
   "execution_count": 251,
   "metadata": {},
   "outputs": [],
   "source": [
    "T_1 = 310 # K\n",
    "T_3 = 1150 # K\n",
    "eficiencia_compresor = 0.75\n",
    "eficacia = 0.65\n",
    "eficiencia_turbina = 0.82\n",
    "relacion_presiones = 7\n",
    "T_sumidero = 290 # K\n",
    "T_fuente = 1500 # K\n",
    "R = aire.R()"
   ]
  },
  {
   "cell_type": "code",
   "execution_count": 252,
   "metadata": {},
   "outputs": [],
   "source": [
    "def get_T_2_from_T_1(T_1, relacion_presion, k):\n",
    "    \"\"\"\n",
    "        Esta función calcula la temperatura final de un gas ideal a partir de la inicial,\n",
    "        se debe tener en cuenta que la relación de presión  y la constante de los gases ideales\n",
    "    \"\"\"\n",
    "    T_2 = T_1 * pow(relacion_presion, (k-1)/k)\n",
    "    return T_2\n",
    "\n",
    "\n",
    "def get_T_2s_by_T_1(T_1, relacion_presion):\n",
    "    \"\"\"\n",
    "        Descripción\n",
    "        -----------\n",
    "        Esta función calcula la temperatura final de un gas ideal a partir de la inicial, \n",
    "        iterando el valor con el fin de converger a la temperatura final, usando el suposición\n",
    "        de gas ideal.\n",
    "\n",
    "        Base\n",
    "        ----\n",
    "        pv = nRT\n",
    "\n",
    "        p * v ^ k  = constante\n",
    "\n",
    "        p1 * v1 ^ k = p2 * v2 ^ k\n",
    "\n",
    "        v2 = v1 * (p1 / p2) ^ (1/k)\n",
    "\n",
    "        T2 = T1 * (p1 / p2) ^ ((k-1)/k)\n",
    "    \"\"\"\n",
    "\n",
    "    cp_1 = aire.cp(T=T_1)[0]\n",
    "    cv_1 = aire.cv(T=T_1)[0]\n",
    "    k_prom_1_2 = k_1 = cp_1 / cv_1\n",
    "    print(\"cp_1 = \", cp_1, \"kJ/kg*K\", \"cv_1 = \", cv_1, \"KJ/kg*K\", \"k_1 = \", k_1, \"\\n\")\n",
    "    for i in range(4):\n",
    "        T_2s = get_T_2_from_T_1(T_1, relacion_presion, k_prom_1_2)\n",
    "        cp_2s = aire.cp(T=T_2s)[0]\n",
    "        cv_2s = aire.cv(T=T_2s)[0]\n",
    "        k_2s = cp_2s / cv_2s\n",
    "        k_prom_1_2 = (k_1 + k_2s) / 2\n",
    "        print(\"cp_2s = \", cp_2s, \"kJ/kg*K\", \"cv_2s = \", cv_2s, \"KJ/kg*K\", \"k_2s = \", k_2s)\n",
    "        print(\"k_prom = \", k_prom_1_2)\n",
    "        print(Fore.LIGHTMAGENTA_EX,\"T_2s = \", T_2s, \"K\", Style.RESET_ALL, \"\\n\")\n",
    "\n",
    "    return T_2s"
   ]
  },
  {
   "attachments": {},
   "cell_type": "markdown",
   "metadata": {},
   "source": [
    "## Estados conocidos"
   ]
  },
  {
   "cell_type": "code",
   "execution_count": 253,
   "metadata": {},
   "outputs": [
    {
     "data": {
      "text/plain": [
       "{'T': array([310.]),\n",
       " 'p': array([1.01325]),\n",
       " 'd': array([0.01138658]),\n",
       " 'v': array([87.82267382]),\n",
       " 'h': array([7.64420957]),\n",
       " 'e': array([-81.34211467]),\n",
       " 'gam': array([1.39957562]),\n",
       " 's': array([8.0588086]),\n",
       " 'cp': array([1.00544649]),\n",
       " 'cv': array([0.71839384])}"
      ]
     },
     "execution_count": 253,
     "metadata": {},
     "output_type": "execute_result"
    }
   ],
   "source": [
    "estado_1 = aire.state(T=T_1)\n",
    "h_1 = estado_1.get(\"h\")[0]\n",
    "s_1 = estado_1.get(\"s\")[0]\n",
    "v_1 = estado_1.get(\"v\")[0]\n",
    "cp_1 = estado_1.get(\"cp\")[0]\n",
    "estado_1"
   ]
  },
  {
   "cell_type": "code",
   "execution_count": 254,
   "metadata": {},
   "outputs": [
    {
     "data": {
      "text/plain": [
       "{'T': array([1150.]),\n",
       " 'p': array([1.01325]),\n",
       " 'd': array([0.00306943]),\n",
       " 'v': array([325.79378997]),\n",
       " 'h': array([916.58419913]),\n",
       " 'e': array([586.47364144]),\n",
       " 'gam': array([1.32725448]),\n",
       " 's': array([9.45320337]),\n",
       " 'cp': array([1.16420692]),\n",
       " 'cv': array([0.87715426])}"
      ]
     },
     "execution_count": 254,
     "metadata": {},
     "output_type": "execute_result"
    }
   ],
   "source": [
    "estado_3 = aire.state(T=T_3)\n",
    "h_3 = estado_3.get(\"h\")[0]\n",
    "s_3 = estado_3.get(\"s\")[0]\n",
    "v_3 = estado_3.get(\"v\")[0]\n",
    "cp_3 = estado_3.get(\"cp\")[0]\n",
    "estado_3"
   ]
  },
  {
   "attachments": {},
   "cell_type": "markdown",
   "metadata": {},
   "source": [
    "## estado 2"
   ]
  },
  {
   "cell_type": "code",
   "execution_count": 255,
   "metadata": {},
   "outputs": [
    {
     "name": "stdout",
     "output_type": "stream",
     "text": [
      "cp_1 =  1.0054464938794279 kJ/kg*K cv_1 =  0.7183938350200206 KJ/kg*K k_1 =  1.3995756155833485 \n",
      "\n",
      "cp_2s =  1.0377114845235094 kJ/kg*K cv_2s =  0.750658825664102 KJ/kg*K k_2s =  1.3824009643867892\n",
      "k_prom =  1.390988289985069\n",
      "\u001b[95m T_2s =  540.3003368921447 K \u001b[0m \n",
      "\n",
      "cp_2s =  1.036781025541943 kJ/kg*K cv_2s =  0.7497283666825357 KJ/kg*K k_2s =  1.3828755474860623\n",
      "k_prom =  1.3912255815347054\n",
      "\u001b[95m T_2s =  535.6825533099121 K \u001b[0m \n",
      "\n",
      "cp_2s =  1.0368066618436047 kJ/kg*K cv_2s =  0.7497540029841974 KJ/kg*K k_2s =  1.382862455841343\n",
      "k_prom =  1.3912190357123457\n",
      "\u001b[95m T_2s =  535.8103864164374 K \u001b[0m \n",
      "\n",
      "cp_2s =  1.0368059545936148 kJ/kg*K cv_2s =  0.7497532957342076 KJ/kg*K k_2s =  1.3828628169994324\n",
      "k_prom =  1.3912192162913906\n",
      "\u001b[95m T_2s =  535.8068602433118 K \u001b[0m \n",
      "\n",
      "\u001b[91m h_2s =  237.64280955161485 kJ/kg \u001b[0m \n",
      "\n",
      "\u001b[91m h_2a =  314.3090095449494 kJ/kg \u001b[0m \n",
      "\n",
      "\u001b[91m T_2a =  609.2054266037055 K \u001b[0m \n",
      "\n"
     ]
    },
    {
     "data": {
      "text/plain": [
       "{'T': array([609.2054266]),\n",
       " 'p': array([1.01325]),\n",
       " 'd': array([0.00579417]),\n",
       " 'v': array([172.58725635]),\n",
       " 'h': array([314.30900954]),\n",
       " 'e': array([139.43497205]),\n",
       " 'gam': array([1.37498656]),\n",
       " 's': array([8.74947202]),\n",
       " 'cp': array([1.05255385]),\n",
       " 'cv': array([0.7655012])}"
      ]
     },
     "execution_count": 255,
     "metadata": {},
     "output_type": "execute_result"
    }
   ],
   "source": [
    "T_2s = get_T_2s_by_T_1(T_1, relacion_presiones)\n",
    "h_2s = aire.h(T=T_2s,)[0]\n",
    "print(Fore.LIGHTRED_EX,\"h_2s = \", h_2s, \"kJ/kg\", Style.RESET_ALL, \"\\n\")\n",
    "h_2a = h_1 + (h_2s - h_1) / eficiencia_compresor\n",
    "T_2a = aire.T(h=h_2a)[0]\n",
    "estado_2a = aire.state(T=T_2a)\n",
    "s_2a = estado_2a.get(\"s\")[0]\n",
    "cp_2a = estado_2a.get(\"cp\")[0]\n",
    "print(Fore.LIGHTRED_EX,\"h_2a = \", h_2a, \"kJ/kg\", Style.RESET_ALL, \"\\n\")\n",
    "print(Fore.LIGHTRED_EX,\"T_2a = \", T_2a, \"K\", Style.RESET_ALL, \"\\n\")\n",
    "estado_2a"
   ]
  },
  {
   "cell_type": "code",
   "execution_count": 256,
   "metadata": {},
   "outputs": [
    {
     "name": "stdout",
     "output_type": "stream",
     "text": [
      "cp promedio 1 y 2 =  1.0290001741049666 kJ/kg*K \n",
      "\n",
      "\u001b[36m diferencia_entropia_1_2 =  0.13659658039707878 kJ/kg*K \u001b[0m\n",
      "exergia_destruida_1_2 =  39.61300831515285 kJ/kg \u001b[0m \n",
      "\n"
     ]
    }
   ],
   "source": [
    "cp_prom_1_2 = (cp_1 + cp_2a) / 2\n",
    "print(\"cp promedio 1 y 2 = \", cp_prom_1_2, \"kJ/kg*K\", \"\\n\")\n",
    "diferencia_entropia_1_2 = cp_prom_1_2 * np.log(T_2a / T_1) - R * np.log(relacion_presiones)\n",
    "print(Fore.CYAN,\"diferencia_entropia_1_2 = \", diferencia_entropia_1_2, \"kJ/kg*K\", Style.RESET_ALL)\n",
    "exergia_destruida_1_2 = diferencia_entropia_1_2 * T_sumidero\n",
    "print(\"exergia_destruida_1_2 = \", exergia_destruida_1_2, \"kJ/kg\", Style.RESET_ALL, \"\\n\")"
   ]
  },
  {
   "attachments": {},
   "cell_type": "markdown",
   "metadata": {},
   "source": [
    "## Estado 4"
   ]
  },
  {
   "cell_type": "code",
   "execution_count": 257,
   "metadata": {},
   "outputs": [
    {
     "name": "stdout",
     "output_type": "stream",
     "text": [
      "cp_1 =  1.1642069219618247 kJ/kg*K cv_1 =  0.8771542631024174 KJ/kg*K k_1 =  1.3272544761329979 \n",
      "\n",
      "cp_2s =  1.0769601272872371 kJ/kg*K cv_2s =  0.7899074684278298 KJ/kg*K k_2s =  1.36340036059\n",
      "k_prom =  1.345327418361499\n",
      "\u001b[95m T_2s =  711.7480029418149 K \u001b[0m \n",
      "\n",
      "cp_2s =  1.0735608805406085 kJ/kg*K cv_2s =  0.7865082216812013 KJ/kg*K k_2s =  1.364970957640872\n",
      "k_prom =  1.346112716886935\n",
      "\u001b[95m T_2s =  697.8668390854638 K \u001b[0m \n",
      "\n",
      "cp_2s =  1.07341712428203 kJ/kg*K cv_2s =  0.7863644654226226 KJ/kg*K k_2s =  1.3650376784321432\n",
      "k_prom =  1.3461460772825706\n",
      "\u001b[95m T_2s =  697.2782157338347 K \u001b[0m \n",
      "\n",
      "cp_2s =  1.0734110245262831 kJ/kg*K cv_2s =  0.7863583656668759 KJ/kg*K k_2s =  1.3650405100173004\n",
      "k_prom =  1.3461474930751491\n",
      "\u001b[95m T_2s =  697.2532365251277 K \u001b[0m \n",
      "\n",
      "\u001b[91m h_4s =  407.8910615977141 kJ/kg \u001b[0m \n",
      "\n",
      "\u001b[91m h_4a =  499.45582635307403 kJ/kg \u001b[0m \n",
      "\n",
      "\u001b[91m T_4a =  781.7389016080069 K \u001b[0m \n",
      "\n"
     ]
    },
    {
     "data": {
      "text/plain": [
       "{'T': array([781.73890161]),\n",
       " 'p': array([1.01325]),\n",
       " 'd': array([0.00451537]),\n",
       " 'v': array([221.46580828]),\n",
       " 'h': array([499.45582635]),\n",
       " 'e': array([275.05559611]),\n",
       " 'gam': array([1.35564926]),\n",
       " 's': array([9.01685123]),\n",
       " 'cp': array([1.09417555]),\n",
       " 'cv': array([0.80712289])}"
      ]
     },
     "execution_count": 257,
     "metadata": {},
     "output_type": "execute_result"
    }
   ],
   "source": [
    "T_4s = get_T_2s_by_T_1(T_3, 1/relacion_presiones)\n",
    "h_4s = aire.h(T=T_4s,)[0]\n",
    "print(Fore.LIGHTRED_EX,\"h_4s = \", h_4s, \"kJ/kg\", Style.RESET_ALL, \"\\n\")\n",
    "h_4a = h_3 - (h_3 - h_4s) * eficiencia_turbina\n",
    "T_4a = aire.T(h=h_4a)[0]\n",
    "estado_4a = aire.state(T=T_4a)\n",
    "s_4a = estado_4a.get(\"s\")[0]\n",
    "cp_4a = estado_4a.get(\"cp\")[0]\n",
    "print(Fore.LIGHTRED_EX,\"h_4a = \", h_4a, \"kJ/kg\", Style.RESET_ALL, \"\\n\")\n",
    "print(Fore.LIGHTRED_EX,\"T_4a = \", T_4a, \"K\", Style.RESET_ALL, \"\\n\")\n",
    "estado_4a"
   ]
  },
  {
   "cell_type": "code",
   "execution_count": 258,
   "metadata": {},
   "outputs": [
    {
     "name": "stdout",
     "output_type": "stream",
     "text": [
      "cp promedio 3 y 4 =  1.1291912342954782 kJ/kg*K \n",
      "\n",
      "\u001b[36m diferencia_entropia_3_4 =  0.1227149060232457 kJ/kg*K \u001b[0m\n",
      "exergia_destruida_3_4 =  35.58732274674125 kJ/kg \u001b[0m \n",
      "\n"
     ]
    }
   ],
   "source": [
    "cp_prom_3_4 = (cp_3 + cp_4a) / 2\n",
    "print(\"cp promedio 3 y 4 = \", cp_prom_3_4, \"kJ/kg*K\", \"\\n\")\n",
    "diferencia_entropia_3_4 = cp_prom_3_4 * np.log(T_4a / T_3) - R * np.log(1/relacion_presiones)\n",
    "print(Fore.CYAN,\"diferencia_entropia_3_4 = \", diferencia_entropia_3_4, \"kJ/kg*K\", Style.RESET_ALL)\n",
    "exergia_destruida_3_4 = diferencia_entropia_3_4 * T_sumidero\n",
    "print(\"exergia_destruida_3_4 = \", exergia_destruida_3_4, \"kJ/kg\", Style.RESET_ALL, \"\\n\")"
   ]
  },
  {
   "attachments": {},
   "cell_type": "markdown",
   "metadata": {},
   "source": [
    "## Estado 5"
   ]
  },
  {
   "cell_type": "code",
   "execution_count": 259,
   "metadata": {},
   "outputs": [
    {
     "name": "stdout",
     "output_type": "stream",
     "text": [
      "\u001b[91m h_5 =  434.6544404702304 kJ/kg \u001b[0m \n",
      "\n"
     ]
    },
    {
     "data": {
      "text/plain": [
       "{'T': array([722.11573505]),\n",
       " 'p': array([1.01325]),\n",
       " 'd': array([0.00488819]),\n",
       " 'v': array([204.57462793]),\n",
       " 'h': array([434.65444047]),\n",
       " 'e': array([227.36919872]),\n",
       " 'gam': array([1.36223194]),\n",
       " 's': array([8.93063335]),\n",
       " 'cp': array([1.07950806]),\n",
       " 'cv': array([0.7924554])}"
      ]
     },
     "execution_count": 259,
     "metadata": {},
     "output_type": "execute_result"
    }
   ],
   "source": [
    "h_5 = eficacia * (h_4a - h_2a) + h_2a\n",
    "T_5 = aire.T(h=h_5)[0]\n",
    "estado_5 = aire.state(T=T_5)\n",
    "s_5 = estado_5.get(\"s\")[0]\n",
    "cp_5 = estado_5.get(\"cp\")[0]\n",
    "print(Fore.LIGHTRED_EX,\"h_5 = \", h_5, \"kJ/kg\", Style.RESET_ALL, \"\\n\")\n",
    "estado_5"
   ]
  },
  {
   "cell_type": "code",
   "execution_count": 260,
   "metadata": {},
   "outputs": [
    {
     "name": "stdout",
     "output_type": "stream",
     "text": [
      "cp promedio 5 y 3 =  1.1218574922834037 kJ/kg*K \n",
      "\n",
      "\u001b[36m diferencia_entropia_3_5 =  0.5220359633743973 kJ/kg*K \u001b[0m\n",
      "\u001b[36m calor_entrada_5_3 =  481.929758657261 kJ/kg \u001b[0m \n",
      "\n",
      "exergia_destruida_3_5 =  58.21734270483808 kJ/kg \u001b[0m \n",
      "\n"
     ]
    }
   ],
   "source": [
    "cp_prom_5_3 = (cp_5 + cp_3) / 2\n",
    "print(\"cp promedio 5 y 3 = \", cp_prom_5_3, \"kJ/kg*K\", \"\\n\")\n",
    "diferencia_entropia_3_5 = cp_prom_5_3 * np.log(T_3 / T_5) \n",
    "print(Fore.CYAN,\"diferencia_entropia_3_5 = \", diferencia_entropia_3_5, \"kJ/kg*K\", Style.RESET_ALL)\n",
    "\n",
    "calor_entrada_5_3 = h_3 - h_5\n",
    "print(Fore.CYAN,\"calor_entrada_5_3 = \", calor_entrada_5_3, \"kJ/kg\", Style.RESET_ALL, \"\\n\")\n",
    "\n",
    "exergia_destruida_3_5 = T_sumidero * (diferencia_entropia_3_5  - calor_entrada_5_3 / T_fuente)\n",
    "print(\"exergia_destruida_3_5 = \", exergia_destruida_3_5, \"kJ/kg\", Style.RESET_ALL, \"\\n\")\n"
   ]
  },
  {
   "attachments": {},
   "cell_type": "markdown",
   "metadata": {},
   "source": [
    "## Regenerador"
   ]
  },
  {
   "cell_type": "code",
   "execution_count": 261,
   "metadata": {},
   "outputs": [
    {
     "data": {
      "text/plain": [
       "379.11039542779304"
      ]
     },
     "execution_count": 261,
     "metadata": {},
     "output_type": "execute_result"
    }
   ],
   "source": [
    "h_6 = h_4a - (h_4a - h_2a) * eficacia\n",
    "h_6"
   ]
  },
  {
   "cell_type": "code",
   "execution_count": 262,
   "metadata": {},
   "outputs": [
    {
     "name": "stdout",
     "output_type": "stream",
     "text": [
      "\u001b[91m h_6 =  379.11039542779304 kJ/kg \u001b[0m \n",
      "\n"
     ]
    },
    {
     "data": {
      "text/plain": [
       "{'T': array([670.35897334]),\n",
       " 'p': array([1.01325]),\n",
       " 'd': array([0.0052656]),\n",
       " 'v': array([189.9119918]),\n",
       " 'h': array([379.11039543]),\n",
       " 'e': array([186.68206974]),\n",
       " 'gam': array([1.36809402]),\n",
       " 's': array([8.85082494]),\n",
       " 'cp': array([1.06688781]),\n",
       " 'cv': array([0.77983515])}"
      ]
     },
     "execution_count": 262,
     "metadata": {},
     "output_type": "execute_result"
    }
   ],
   "source": [
    "T_6 = aire.T(h=h_6)[0]\n",
    "estado_6 = aire.state(T=T_6)\n",
    "s_6 = estado_6.get(\"s\")[0]\n",
    "cp_6 = estado_6.get(\"cp\")[0]\n",
    "print(Fore.LIGHTRED_EX,\"h_6 = \", h_6, \"kJ/kg\", Style.RESET_ALL, \"\\n\")\n",
    "estado_6"
   ]
  },
  {
   "cell_type": "code",
   "execution_count": 263,
   "metadata": {},
   "outputs": [
    {
     "name": "stdout",
     "output_type": "stream",
     "text": [
      "cp promedio 5 y 2 =  1.0660309584677439 kJ/kg*K \n",
      "\n",
      "cp promedio 6 y 4 =  1.0805316795526339 kJ/kg*K \n",
      "\n",
      "\u001b[36m diferencia_entropia_2_5 =  0.18125713211134958 kJ/kg*K \u001b[0m\n",
      "\u001b[36m diferencia_entropia_4_6 =  -0.16608576842662573 kJ/kg*K \u001b[0m\n",
      "exergia_destruida_regeneracion =  4.3996954685699174 kJ/kg \u001b[0m \n",
      "\n"
     ]
    }
   ],
   "source": [
    "cp_prom_5_2 = (cp_5 + cp_2a) / 2\n",
    "print(\"cp promedio 5 y 2 = \", cp_prom_5_2, \"kJ/kg*K\", \"\\n\")\n",
    "diferencia_entropia_2_5 = cp_prom_5_2 * np.log(T_5 / T_2a)\n",
    "cp_prom_6_4 = (cp_6 + cp_4a) / 2\n",
    "print(\"cp promedio 6 y 4 = \", cp_prom_6_4, \"kJ/kg*K\", \"\\n\")\n",
    "diferencia_entropia_4_6 = cp_prom_6_4 * np.log(T_6 / T_4a)\n",
    "\n",
    "\n",
    "print(Fore.CYAN,\"diferencia_entropia_2_5 = \", diferencia_entropia_2_5, \"kJ/kg*K\", Style.RESET_ALL)\n",
    "print(Fore.CYAN,\"diferencia_entropia_4_6 = \", diferencia_entropia_4_6, \"kJ/kg*K\", Style.RESET_ALL)\n",
    "\n",
    "exergia_destruida_regeneracion = T_sumidero * (diferencia_entropia_2_5 + diferencia_entropia_4_6)\n",
    "print(\"exergia_destruida_regeneracion = \", exergia_destruida_regeneracion, \"kJ/kg\", Style.RESET_ALL, \"\\n\")"
   ]
  },
  {
   "attachments": {},
   "cell_type": "markdown",
   "metadata": {},
   "source": [
    "## Salida"
   ]
  },
  {
   "cell_type": "code",
   "execution_count": 264,
   "metadata": {},
   "outputs": [
    {
     "name": "stdout",
     "output_type": "stream",
     "text": [
      "cp promedio 6 y 1 =  1.0361671531777819 kJ/kg*K \n",
      "\n",
      "\u001b[36m diferencia_entropia_1_6 =  -0.7991346458170007 kJ/kg*K \u001b[0m\n",
      "\u001b[36m calor_salida_6_1 =  371.4661858561817 kJ/kg \u001b[0m \n",
      "\n",
      "exergia_destruida_1_6 =  139.71713856925155 kJ/kg \u001b[0m \n",
      "\n"
     ]
    }
   ],
   "source": [
    "cp_prom_6_1 = (cp_6 + cp_1) / 2\n",
    "print(\"cp promedio 6 y 1 = \", cp_prom_6_1, \"kJ/kg*K\", \"\\n\")\n",
    "diferencia_entropia_1_6 = cp_prom_6_1 * np.log(T_1 / T_6)\n",
    "print(Fore.CYAN,\"diferencia_entropia_1_6 = \", diferencia_entropia_1_6, \"kJ/kg*K\", Style.RESET_ALL)\n",
    "calor_salida_6_1 = h_6 - h_1\n",
    "print(Fore.CYAN,\"calor_salida_6_1 = \", calor_salida_6_1, \"kJ/kg\", Style.RESET_ALL, \"\\n\")\n",
    "exergia_destruida_1_6 = T_sumidero * (diferencia_entropia_1_6 + calor_salida_6_1 / T_sumidero)\n",
    "print(\"exergia_destruida_1_6 = \", exergia_destruida_1_6, \"kJ/kg\", Style.RESET_ALL, \"\\n\")"
   ]
  },
  {
   "cell_type": "code",
   "execution_count": 265,
   "metadata": {},
   "outputs": [
    {
     "data": {
      "text/plain": [
       "{'T': array([290.]),\n",
       " 'p': array([1.01325]),\n",
       " 'd': array([0.01217186]),\n",
       " 'v': array([82.15669486]),\n",
       " 'h': array([-12.45274312]),\n",
       " 'e': array([-95.69801419]),\n",
       " 'gam': array([1.40021455]),\n",
       " 's': array([7.99179435]),\n",
       " 'cp': array([1.00429959]),\n",
       " 'cv': array([0.71724693])}"
      ]
     },
     "execution_count": 265,
     "metadata": {},
     "output_type": "execute_result"
    }
   ],
   "source": [
    "estado_sumidero = aire.state(T=T_sumidero)\n",
    "cp_sumidero = estado_sumidero.get(\"cp\")[0]\n",
    "h_sumidero = estado_sumidero.get(\"h\")[0]\n",
    "estado_sumidero"
   ]
  },
  {
   "cell_type": "code",
   "execution_count": 266,
   "metadata": {},
   "outputs": [
    {
     "name": "stdout",
     "output_type": "stream",
     "text": [
      "cp promedio 6 y sumidero =  1.035593698759235 kJ/kg*K \n",
      "\n"
     ]
    }
   ],
   "source": [
    "cp_prom = (cp_6 + cp_sumidero) / 2\n",
    "print(\"cp promedio 6 y sumidero = \", cp_prom, \"kJ/kg*K\", \"\\n\")"
   ]
  },
  {
   "cell_type": "code",
   "execution_count": 269,
   "metadata": {},
   "outputs": [
    {
     "name": "stdout",
     "output_type": "stream",
     "text": [
      "exergia 6 =  139.91345153571157 kJ/kg \u001b[0m \n",
      "\n"
     ]
    }
   ],
   "source": [
    "exergia_6 = (h_6 - h_sumidero) - T_sumidero * cp_prom * np.log(T_6 / T_sumidero)\n",
    "print(\"exergia 6 = \", exergia_6, \"kJ/kg\", Style.RESET_ALL, \"\\n\")"
   ]
  },
  {
   "cell_type": "code",
   "execution_count": 267,
   "metadata": {},
   "outputs": [
    {
     "data": {
      "image/png": "[encoded data removed]",
      "text/plain": [
       "<Figure size 640x480 with 1 Axes>"
      ]
     },
     "metadata": {},
     "output_type": "display_data"
    }
   ],
   "source": [
    "plt.scatter([s_1, s_2a, s_3, s_4a, s_5, s_6], [T_1, T_2a, T_3, T_4a, T_5, T_6])\n",
    "plt.grid(True)"
   ]
  }
 ],
 "metadata": {
  "kernelspec": {
   "display_name": "termodinamica",
   "language": "python",
   "name": "python3"
  },
  "language_info": {
   "codemirror_mode": {
    "name": "ipython",
    "version": 3
   },
   "file_extension": ".py",
   "mimetype": "text/x-python",
   "name": "python",
   "nbconvert_exporter": "python",
   "pygments_lexer": "ipython3",
   "version": "3.10.8 | packaged by conda-forge | (main, Nov 22 2022, 08:25:29) [Clang 14.0.6 ]"
  },
  "orig_nbformat": 4,
  "vscode": {
   "interpreter": {
    "hash": "42829ba761cc03814a4ca0fd5987a871f250071456647426b2d15a3a80433ab3"
   }
  }
 },
 "nbformat": 4,
 "nbformat_minor": 2
}
