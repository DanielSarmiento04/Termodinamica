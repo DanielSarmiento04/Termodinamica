{
  "cells": [
    {
      "cell_type": "markdown",
      "metadata": {},
      "source": [
        "### Importacion de las librerias"
      ]
    },
    {
      "cell_type": "code",
      "execution_count": 30,
      "metadata": {
        "id": "OvmqYEB5nYy1"
      },
      "outputs": [],
      "source": [
        "import pyromat as pyro\n",
        "import matplotlib.pyplot as plt\n",
        "import numpy as np"
      ]
    },
    {
      "cell_type": "code",
      "execution_count": 2,
      "metadata": {
        "colab": {
          "base_uri": "https://localhost:8080/"
        },
        "id": "xk6sMwRsnbt1",
        "outputId": "c3bf155f-9601-4236-8955-59b0132e1470"
      },
      "outputs": [
        {
          "data": {
            "text/plain": [
              "     config_file : ['/Users/daniel/miniforge3/envs/termodinamica/lib/...\n",
              "  config_verbose : False\n",
              "         dat_dir : ['/Users/daniel/miniforge3/envs/termodinamica/lib/...\n",
              " dat_exist_fatal : False\n",
              "   dat_overwrite : True\n",
              "   dat_recursive : True\n",
              "     dat_verbose : False\n",
              "           def_T : 298.15\n",
              "         def_oob : nan\n",
              "           def_p : 1.01325\n",
              "   error_verbose : True\n",
              "     install_dir : '/Users/daniel/miniforge3/envs/termodinamica/lib/p...\n",
              "         reg_dir : ['/Users/daniel/miniforge3/envs/termodinamica/lib/...\n",
              " reg_exist_fatal : False\n",
              "   reg_overwrite : True\n",
              "     reg_verbose : False\n",
              "     unit_energy : 'kJ'\n",
              "      unit_force : 'N'\n",
              "     unit_length : 'm'\n",
              "       unit_mass : 'kg'\n",
              "     unit_matter : 'kg'\n",
              "      unit_molar : 'kmol'\n",
              "   unit_pressure : 'bar'\n",
              "unit_temperature : 'K'\n",
              "       unit_time : 's'\n",
              "     unit_volume : 'm3'\n",
              "         version : '2.2.4'\n",
              " warning_verbose : True"
            ]
          },
          "execution_count": 2,
          "metadata": {},
          "output_type": "execute_result"
        }
      ],
      "source": [
        "pyro.config"
      ]
    },
    {
      "cell_type": "code",
      "execution_count": 3,
      "metadata": {
        "id": "Y4Y0eLCVnikF"
      },
      "outputs": [],
      "source": [
        "pyro.config[\"unit_pressure\"]=\"kPa\""
      ]
    },
    {
      "cell_type": "markdown",
      "metadata": {},
      "source": [
        "### Establecemos los paraametros del problema"
      ]
    },
    {
      "cell_type": "code",
      "execution_count": 4,
      "metadata": {
        "id": "tI4pji-poKHo"
      },
      "outputs": [],
      "source": [
        "#data\n",
        "p_1 = p_4 = 8 #Kpa\n",
        "p_2 = p_3 = 8e3 #Kpa\n",
        "x_1 = 0\n",
        "x_3 = 1\n",
        "rendimiento = 0.85\n",
        "potencia_neta_salida = 100e3 #KW\n",
        "\n",
        "## Refrigeracion \n",
        "T_entrada = 15 + 273.15 #K\n",
        "T_salida =  35 + 273.15 #K"
      ]
    },
    {
      "cell_type": "markdown",
      "metadata": {},
      "source": [
        "### Obtenemos de la base de datos de pyromat el fluido, en este caso agua"
      ]
    },
    {
      "cell_type": "code",
      "execution_count": 5,
      "metadata": {
        "id": "JxKGkFUsoqio"
      },
      "outputs": [],
      "source": [
        "agua = pyro.get(\"mp.H2O\")"
      ]
    },
    {
      "cell_type": "markdown",
      "metadata": {},
      "source": [
        "### Establecemos el estado 1 a partir de los datos conocidos, adional a eso obtneemos los datos necesarios para los calculo"
      ]
    },
    {
      "cell_type": "code",
      "execution_count": 6,
      "metadata": {
        "colab": {
          "base_uri": "https://localhost:8080/"
        },
        "id": "USd_VSdapJO7",
        "outputId": "e807bfde-2bc7-43c6-d1ea-c29f9099e892"
      },
      "outputs": [
        {
          "data": {
            "text/plain": [
              "{'p': array([8.00016115]),\n",
              " 'T': array([314.6582459]),\n",
              " 'd': array([991.58539733]),\n",
              " 'x': array([0.]),\n",
              " 'e': array([173.83277791]),\n",
              " 'h': array([173.82990197]),\n",
              " 's': array([0.5924949]),\n",
              " 'cp': array([inf]),\n",
              " 'cv': array([nan]),\n",
              " 'gam': array([inf]),\n",
              " 'v': array([0.00100849])}"
            ]
          },
          "execution_count": 6,
          "metadata": {},
          "output_type": "execute_result"
        }
      ],
      "source": [
        "state_1 = agua.state(x=x_1, p=p_1)\n",
        "s_1 = state_1[\"s\"][0]\n",
        "h_1 = state_1[\"h\"][0]\n",
        "T_1 = state_1[\"T\"][0]\n",
        "V_1 = state_1[\"v\"][0]\n",
        "state_1"
      ]
    },
    {
      "cell_type": "markdown",
      "metadata": {},
      "source": [
        "### Establecemos el estado 3 a partir de los datos conocidos, adional a eso obtneemos los datos necesarios para los calculo"
      ]
    },
    {
      "cell_type": "code",
      "execution_count": 7,
      "metadata": {
        "colab": {
          "base_uri": "https://localhost:8080/"
        },
        "id": "rqfQCAUmpumP",
        "outputId": "a612710d-e110-4ea4-ab24-809a6e4af9dd"
      },
      "outputs": [
        {
          "data": {
            "text/plain": [
              "{'p': array([8000.31377282]),\n",
              " 'T': array([568.15800256]),\n",
              " 'd': array([42.50871116]),\n",
              " 'x': array([1.]),\n",
              " 'e': array([2570.49494849]),\n",
              " 'h': array([2758.6990496]),\n",
              " 's': array([5.7450184]),\n",
              " 'cp': array([inf]),\n",
              " 'cv': array([nan]),\n",
              " 'gam': array([inf]),\n",
              " 'v': array([0.02352459])}"
            ]
          },
          "execution_count": 7,
          "metadata": {},
          "output_type": "execute_result"
        }
      ],
      "source": [
        "state_3 = agua.state(x=x_3, p=p_3)\n",
        "s_3 = state_3[\"s\"][0]\n",
        "h_3 = state_3[\"h\"][0]\n",
        "T_3 = state_3[\"T\"][0]\n",
        "V_3 = state_3[\"v\"][0]\n",
        "state_3"
      ]
    },
    {
      "cell_type": "markdown",
      "metadata": {},
      "source": [
        "### Por concepto en un estado idual la estado 2 tiene la misma entropia que el estado 1."
      ]
    },
    {
      "cell_type": "code",
      "execution_count": 8,
      "metadata": {
        "colab": {
          "base_uri": "https://localhost:8080/"
        },
        "id": "lSqIXAouqUxN",
        "outputId": "d94eb9c9-ab09-4cc8-c63f-1b51a4eb37a8"
      },
      "outputs": [
        {
          "data": {
            "text/plain": [
              "{'p': array([8000.00007892]),\n",
              " 'T': array([314.90068932]),\n",
              " 'd': array([994.96716682]),\n",
              " 'x': array([-1]),\n",
              " 'e': array([173.84642424]),\n",
              " 'h': array([181.88689065]),\n",
              " 's': array([0.5924949]),\n",
              " 'cp': array([4.16092113]),\n",
              " 'cv': array([4.04372193]),\n",
              " 'gam': array([1.028983]),\n",
              " 'v': array([0.00100506])}"
            ]
          },
          "execution_count": 8,
          "metadata": {},
          "output_type": "execute_result"
        }
      ],
      "source": [
        "state_2s = agua.state(p=p_2, s=s_1)\n",
        "h_2s = agua.h(p=p_2, s=s_1)[0]\n",
        "state_2s"
      ]
    },
    {
      "cell_type": "markdown",
      "metadata": {},
      "source": [
        "### Acudiendo a la formula de eficiencia isentropia "
      ]
    },
    {
      "cell_type": "markdown",
      "metadata": {},
      "source": [
        "$$ \\eta = \\frac{h_{2s} - h_1}{h_{2a} - h_1} $$"
      ]
    },
    {
      "cell_type": "code",
      "execution_count": 9,
      "metadata": {
        "colab": {
          "base_uri": "https://localhost:8080/"
        },
        "id": "emXwoMWjscPf",
        "outputId": "a4daff50-5313-49d6-d1db-b17209e5feeb"
      },
      "outputs": [
        {
          "data": {
            "text/plain": [
              "183.3087121777803"
            ]
          },
          "execution_count": 9,
          "metadata": {},
          "output_type": "execute_result"
        }
      ],
      "source": [
        "h_2a = h_1 + 1/rendimiento * (h_2s -h_1)\n",
        "h_2a"
      ]
    },
    {
      "cell_type": "markdown",
      "metadata": {},
      "source": [
        "### Con la entalpia del estado 2 real buscamos en conjunto con la presion el estado 2, ademas de la temperatura y la entropia"
      ]
    },
    {
      "cell_type": "code",
      "execution_count": 10,
      "metadata": {
        "colab": {
          "base_uri": "https://localhost:8080/"
        },
        "id": "Of3th7H2vanr",
        "outputId": "c91bf93d-e97f-40ee-932e-2e5d52a39ed5"
      },
      "outputs": [
        {
          "data": {
            "text/plain": [
              "{'p': array([8000.00007994]),\n",
              " 'T': array([315.24239542]),\n",
              " 'd': array([994.83062775]),\n",
              " 'x': array([-1]),\n",
              " 'e': array([175.26714855]),\n",
              " 'h': array([183.3087185]),\n",
              " 's': array([0.59700761]),\n",
              " 'cp': array([4.16101343]),\n",
              " 'cv': array([4.04221773]),\n",
              " 'gam': array([1.02938874]),\n",
              " 'v': array([0.0010052])}"
            ]
          },
          "execution_count": 10,
          "metadata": {},
          "output_type": "execute_result"
        }
      ],
      "source": [
        "state_2a = agua.state(p=p_2, h=h_2a)\n",
        "T_2a = state_2a.get(\"T\")[0]\n",
        "s_2a = state_2a.get(\"s\")[0]\n",
        "state_2a"
      ]
    },
    {
      "cell_type": "markdown",
      "metadata": {},
      "source": [
        "### Encontramos el trabajo de la bomba en kJ  con la primera ley "
      ]
    },
    {
      "cell_type": "code",
      "execution_count": 11,
      "metadata": {
        "colab": {
          "base_uri": "https://localhost:8080/"
        },
        "id": "98tKnwfOuBum",
        "outputId": "64732a1a-3e67-4b1e-fea8-6bc0e0183d13"
      },
      "outputs": [
        {
          "data": {
            "text/plain": [
              "9.478810209493474"
            ]
          },
          "execution_count": 11,
          "metadata": {},
          "output_type": "execute_result"
        }
      ],
      "source": [
        "w_ba = h_2a - h_1\n",
        "w_ba"
      ]
    },
    {
      "cell_type": "markdown",
      "metadata": {},
      "source": [
        "### De la misma forma realizamos el procedimiento para el estado 4"
      ]
    },
    {
      "cell_type": "code",
      "execution_count": 12,
      "metadata": {
        "colab": {
          "base_uri": "https://localhost:8080/"
        },
        "id": "YCblS_NkwQd3",
        "outputId": "3fc26da7-933d-494d-fb10-e76575073198"
      },
      "outputs": [
        {
          "data": {
            "text/plain": [
              "{'p': array([8.00016115]),\n",
              " 'T': array([314.6582459]),\n",
              " 'd': array([0.08187011]),\n",
              " 'x': array([0.6748641]),\n",
              " 'e': array([1697.41072379]),\n",
              " 'h': array([1795.12489922]),\n",
              " 's': array([5.7450184]),\n",
              " 'cp': array([inf]),\n",
              " 'cv': array([nan]),\n",
              " 'gam': array([inf]),\n",
              " 'v': array([12.21447067])}"
            ]
          },
          "execution_count": 12,
          "metadata": {},
          "output_type": "execute_result"
        }
      ],
      "source": [
        "state_4s = agua.state(p=p_4, s=s_3)\n",
        "h_4s = agua.h(p=p_4, s=s_3)[0]\n",
        "state_4s"
      ]
    },
    {
      "cell_type": "markdown",
      "metadata": {},
      "source": [
        "$$ \\eta = \\frac{h_{3} - h_{4a}}{h_{3} - h_{4s}} $$"
      ]
    },
    {
      "cell_type": "code",
      "execution_count": 13,
      "metadata": {
        "colab": {
          "base_uri": "https://localhost:8080/"
        },
        "id": "SXDsBt4bwstL",
        "outputId": "410072a5-d56c-450f-fbaa-ac003a0af1d8"
      },
      "outputs": [
        {
          "data": {
            "text/plain": [
              "1939.6610217727389"
            ]
          },
          "execution_count": 13,
          "metadata": {},
          "output_type": "execute_result"
        }
      ],
      "source": [
        "h_4a = h_3 - rendimiento * (h_3 - h_4s)\n",
        "h_4a "
      ]
    },
    {
      "cell_type": "code",
      "execution_count": 14,
      "metadata": {
        "colab": {
          "base_uri": "https://localhost:8080/"
        },
        "id": "X_vffYuWxkCI",
        "outputId": "d0d74919-f980-4274-b034-2397dc00b71d"
      },
      "outputs": [
        {
          "data": {
            "text/plain": [
              "{'p': array([8.00016115]),\n",
              " 'T': array([314.6582459]),\n",
              " 'd': array([0.07516941]),\n",
              " 'x': array([0.73502727]),\n",
              " 'e': array([1833.23551144]),\n",
              " 'h': array([1939.66102177]),\n",
              " 's': array([6.20435848]),\n",
              " 'cp': array([inf]),\n",
              " 'cv': array([nan]),\n",
              " 'gam': array([inf]),\n",
              " 'v': array([13.3032833])}"
            ]
          },
          "execution_count": 14,
          "metadata": {},
          "output_type": "execute_result"
        }
      ],
      "source": [
        "state_4a = agua.state(p=p_4, h=h_4a)\n",
        "T_4a = state_4a.get(\"T\")[0]\n",
        "s_4a = state_4a.get(\"s\")[0]\n",
        "state_4a"
      ]
    },
    {
      "cell_type": "markdown",
      "metadata": {},
      "source": [
        "### Encontramos el trabajo que genera la turbina"
      ]
    },
    {
      "cell_type": "code",
      "execution_count": 15,
      "metadata": {
        "colab": {
          "base_uri": "https://localhost:8080/"
        },
        "id": "uHhM4l30xFoy",
        "outputId": "60d7dfe3-2232-4a0b-b9a0-087f44eb6c60"
      },
      "outputs": [
        {
          "data": {
            "text/plain": [
              "819.0380278232342"
            ]
          },
          "execution_count": 15,
          "metadata": {},
          "output_type": "execute_result"
        }
      ],
      "source": [
        "w_ta = h_3 - h_4a\n",
        "w_ta "
      ]
    },
    {
      "cell_type": "markdown",
      "metadata": {},
      "source": [
        "### Hallamos el trabajo neto"
      ]
    },
    {
      "cell_type": "code",
      "execution_count": 16,
      "metadata": {
        "colab": {
          "base_uri": "https://localhost:8080/"
        },
        "id": "Ih2rUD2Syora",
        "outputId": "c50e6780-681d-493d-d05a-7a3e69a96163"
      },
      "outputs": [
        {
          "data": {
            "text/plain": [
              "809.5592176137407"
            ]
          },
          "execution_count": 16,
          "metadata": {},
          "output_type": "execute_result"
        }
      ],
      "source": [
        "w_neto = w_ta - w_ba\n",
        "w_neto"
      ]
    },
    {
      "cell_type": "markdown",
      "metadata": {},
      "source": [
        "### Encoontramos  el calor de entrada"
      ]
    },
    {
      "cell_type": "code",
      "execution_count": 17,
      "metadata": {
        "colab": {
          "base_uri": "https://localhost:8080/"
        },
        "id": "K402ArIyzPzN",
        "outputId": "43d0a95f-2931-4cb7-afc7-dceff0f0e00f"
      },
      "outputs": [
        {
          "data": {
            "text/plain": [
              "2575.3903374181928"
            ]
          },
          "execution_count": 17,
          "metadata": {},
          "output_type": "execute_result"
        }
      ],
      "source": [
        "q_entrada = h_3 - h_2a\n",
        "q_entrada"
      ]
    },
    {
      "cell_type": "markdown",
      "metadata": {},
      "source": [
        "### Hallamos la eficiencia termica y la relacion de trabajos"
      ]
    },
    {
      "cell_type": "code",
      "execution_count": 18,
      "metadata": {
        "colab": {
          "base_uri": "https://localhost:8080/"
        },
        "id": "KldFXwkozem9",
        "outputId": "e6cf48ad-f73e-4a03-e8c5-d57db9debc55"
      },
      "outputs": [
        {
          "data": {
            "text/plain": [
              "0.3143442785551945"
            ]
          },
          "execution_count": 18,
          "metadata": {},
          "output_type": "execute_result"
        }
      ],
      "source": [
        "eficiencia_termica = w_neto / q_entrada\n",
        "eficiencia_termica"
      ]
    },
    {
      "cell_type": "code",
      "execution_count": 19,
      "metadata": {
        "colab": {
          "base_uri": "https://localhost:8080/"
        },
        "id": "ZLehzTNqtIE0",
        "outputId": "63e348ea-afdf-4a09-8e4a-1c45337bdce6"
      },
      "outputs": [
        {
          "data": {
            "text/plain": [
              "0.011573101476967322"
            ]
          },
          "execution_count": 19,
          "metadata": {},
          "output_type": "execute_result"
        }
      ],
      "source": [
        "relacion_retroceso = w_ba/w_ta\n",
        "relacion_retroceso"
      ]
    },
    {
      "cell_type": "markdown",
      "metadata": {},
      "source": [
        "### Hallamos  el flujo masico de vapor de agua que se implementa en el proceso"
      ]
    },
    {
      "cell_type": "markdown",
      "metadata": {},
      "source": [
        "$$\\dot{m}*w_{neto} = \\dot{W}_{neto}$$"
      ]
    },
    {
      "cell_type": "code",
      "execution_count": 20,
      "metadata": {
        "colab": {
          "base_uri": "https://localhost:8080/"
        },
        "id": "kKsAuV0evPyW",
        "outputId": "7a6e6b48-78a3-4498-c8d2-133254c107ce"
      },
      "outputs": [
        {
          "name": "stdout",
          "output_type": "stream",
          "text": [
            "Flujo masico en kg/s 123.52400889802765\n"
          ]
        }
      ],
      "source": [
        "flujo_masico = potencia_neta_salida / w_neto\n",
        "print(\"Flujo masico en kg/s\", flujo_masico)"
      ]
    },
    {
      "cell_type": "code",
      "execution_count": 21,
      "metadata": {
        "colab": {
          "base_uri": "https://localhost:8080/"
        },
        "id": "q1fNEbULw2tT",
        "outputId": "163bb2cd-408e-46d2-95a8-baf706e85dc3"
      },
      "outputs": [
        {
          "name": "stdout",
          "output_type": "stream",
          "text": [
            "flujo masico en kg/h 444686.4320328995\n"
          ]
        }
      ],
      "source": [
        "flujo_masico *= 3600\n",
        "print(\"flujo masico en kg/h\", flujo_masico)"
      ]
    },
    {
      "cell_type": "markdown",
      "metadata": {},
      "source": [
        "### Hallamos el flujo de calor de entrada"
      ]
    },
    {
      "cell_type": "code",
      "execution_count": 22,
      "metadata": {
        "colab": {
          "base_uri": "https://localhost:8080/"
        },
        "id": "DiWNnf6Ow4H3",
        "outputId": "0d001a88-a230-420d-b85f-183e4689c6aa"
      },
      "outputs": [
        {
          "name": "stdout",
          "output_type": "stream",
          "text": [
            "flujo de calor en KW 1145241140.2385013\n"
          ]
        }
      ],
      "source": [
        "flujo_calor_entrada = flujo_masico * q_entrada\n",
        "print(\"flujo de calor en KW\", flujo_calor_entrada)"
      ]
    },
    {
      "cell_type": "markdown",
      "metadata": {},
      "source": [
        "### Hallamos el flujo de calor de salida"
      ]
    },
    {
      "cell_type": "code",
      "execution_count": 23,
      "metadata": {
        "colab": {
          "base_uri": "https://localhost:8080/"
        },
        "id": "cuwpcXkvzWbN",
        "outputId": "77334906-52f3-4431-cd2a-f2a2cbea6708"
      },
      "outputs": [
        {
          "data": {
            "text/plain": [
              "1765.831119804452"
            ]
          },
          "execution_count": 23,
          "metadata": {},
          "output_type": "execute_result"
        }
      ],
      "source": [
        "q_salida = h_4a - h_1\n",
        "q_salida"
      ]
    },
    {
      "cell_type": "code",
      "execution_count": 24,
      "metadata": {
        "colab": {
          "base_uri": "https://localhost:8080/"
        },
        "id": "bYdcwP12zkwf",
        "outputId": "18a8cf73-4dd0-4c24-f828-d1a0902115ae"
      },
      "outputs": [
        {
          "data": {
            "text/plain": [
              "785241140.2385013"
            ]
          },
          "execution_count": 24,
          "metadata": {},
          "output_type": "execute_result"
        }
      ],
      "source": [
        "flujo_calor_salida = flujo_masico * q_salida\n",
        "flujo_calor_salida"
      ]
    },
    {
      "cell_type": "markdown",
      "metadata": {},
      "source": [
        "### Calculamos el flujo masico a partir de la primera ley, teniendo como volumen de control al refrigerante."
      ]
    },
    {
      "cell_type": "code",
      "execution_count": 25,
      "metadata": {
        "colab": {
          "base_uri": "https://localhost:8080/"
        },
        "id": "pVuuXK5V1lwE",
        "outputId": "86b83717-6e0a-4a2c-9105-c70a3f24d3dd"
      },
      "outputs": [
        {
          "data": {
            "text/plain": [
              "298.15"
            ]
          },
          "execution_count": 25,
          "metadata": {},
          "output_type": "execute_result"
        }
      ],
      "source": [
        "T_propiedades = (T_salida + T_entrada)/2\n",
        "T_propiedades"
      ]
    },
    {
      "cell_type": "markdown",
      "metadata": {},
      "source": [
        "Para el cp debemos indicar otra propiedad, esto para lo tome como liquido y no como gas ideal."
      ]
    },
    {
      "cell_type": "code",
      "execution_count": 26,
      "metadata": {
        "colab": {
          "base_uri": "https://localhost:8080/"
        },
        "id": "K8hs7XDx4eRe",
        "outputId": "1767ad7c-4345-43aa-ede5-5577ed4e27eb"
      },
      "outputs": [
        {
          "data": {
            "text/plain": [
              "4.181359574924171"
            ]
          },
          "execution_count": 26,
          "metadata": {},
          "output_type": "execute_result"
        }
      ],
      "source": [
        "cp = agua.cp(T=T_propiedades, p =101.3)[0]\n",
        "cp"
      ]
    },
    {
      "cell_type": "code",
      "execution_count": 27,
      "metadata": {
        "colab": {
          "base_uri": "https://localhost:8080/"
        },
        "id": "0LYk2G4j43tm",
        "outputId": "94b955e1-920b-46e5-db95-de4db08018be"
      },
      "outputs": [
        {
          "data": {
            "text/plain": [
              "9389782.51174131"
            ]
          },
          "execution_count": 27,
          "metadata": {},
          "output_type": "execute_result"
        }
      ],
      "source": [
        "flujo_masico_agua = flujo_calor_salida/(cp*(T_salida - T_entrada))#(h_salida - h_entrada)\n",
        "flujo_masico_agua"
      ]
    },
    {
      "cell_type": "markdown",
      "metadata": {},
      "source": [
        "### Una pequeña grafica"
      ]
    },
    {
      "cell_type": "code",
      "execution_count": 40,
      "metadata": {},
      "outputs": [],
      "source": [
        "entropies = np.linspace(s_1, s_4a, 100)\n",
        "temperatures = agua.T_s(entropies, p=p_2)"
      ]
    },
    {
      "cell_type": "code",
      "execution_count": 60,
      "metadata": {},
      "outputs": [],
      "source": [
        "Tt, pt = agua.triple()\n",
        "Tc, pc = agua.critical()"
      ]
    },
    {
      "cell_type": "code",
      "execution_count": 61,
      "metadata": {},
      "outputs": [],
      "source": [
        "T = np.arange(Tt,Tc,2.5)\n",
        "p = agua.ps(T)"
      ]
    },
    {
      "cell_type": "code",
      "execution_count": 63,
      "metadata": {},
      "outputs": [
        {
          "data": {
            "text/plain": [
              "[<matplotlib.lines.Line2D at 0x11f29da50>]"
            ]
          },
          "execution_count": 63,
          "metadata": {},
          "output_type": "execute_result"
        },
        {
          "data": {
            "image/png": "[encoded data removed]",
            "text/plain": [
              "<Figure size 640x480 with 1 Axes>"
            ]
          },
          "metadata": {},
          "output_type": "display_data"
        }
      ],
      "source": [
        "plt.plot(p, T)"
      ]
    },
    {
      "cell_type": "code",
      "execution_count": 62,
      "metadata": {},
      "outputs": [
        {
          "ename": "NameError",
          "evalue": "name 'steam' is not defined",
          "output_type": "error",
          "traceback": [
            "\u001b[0;31m---------------------------------------------------------------------------\u001b[0m",
            "\u001b[0;31mNameError\u001b[0m                                 Traceback (most recent call last)",
            "Cell \u001b[0;32mIn[62], line 1\u001b[0m\n\u001b[0;32m----> 1\u001b[0m dL,dV \u001b[39m=\u001b[39m steam\u001b[39m.\u001b[39mds(T\u001b[39m=\u001b[39mT)\n\u001b[1;32m      2\u001b[0m sL,sV \u001b[39m=\u001b[39m steam\u001b[39m.\u001b[39mss(T\u001b[39m=\u001b[39mT)\n",
            "\u001b[0;31mNameError\u001b[0m: name 'steam' is not defined"
          ]
        }
      ],
      "source": [
        "dL,dV = agua.ds(T=T)\n",
        "sL,sV = agua.ss(T=T)"
      ]
    },
    {
      "cell_type": "code",
      "execution_count": 56,
      "metadata": {},
      "outputs": [],
      "source": [
        "temperature_saturation = np.linspace(T_1, T_4a, 100)\n",
        "s1, s2 = agua.ss(temperature_saturation)\n"
      ]
    },
    {
      "cell_type": "code",
      "execution_count": 58,
      "metadata": {
        "colab": {
          "base_uri": "https://localhost:8080/",
          "height": 279
        },
        "id": "nOUC4Krapqko",
        "outputId": "3e8f6c45-e11b-4b7b-f269-56c53c91c966"
      },
      "outputs": [
        {
          "data": {
            "image/png": "[encoded data removed]",
            "text/plain": [
              "<Figure size 640x480 with 1 Axes>"
            ]
          },
          "metadata": {},
          "output_type": "display_data"
        }
      ],
      "source": [
        "plt.scatter([s_1, s_2a, s_3, s_4a], [T_1, T_2a, T_3, T_4a])\n",
        "# plt.plot(entropies, temperatures, color=\"red\")\n",
        "plt.plot(s2, temperature_saturation, )\n",
        "plt.grid(True)\n",
        "plt.ylabel(\"Temperatura K\")\n",
        "plt.xlabel(\"Entropia kJ/kgK\")\n",
        "plt.show()"
      ]
    }
  ],
  "metadata": {
    "colab": {
      "provenance": []
    },
    "kernelspec": {
      "display_name": "Python 3.10.8 ('termodinamica')",
      "language": "python",
      "name": "python3"
    },
    "language_info": {
      "codemirror_mode": {
        "name": "ipython",
        "version": 3
      },
      "file_extension": ".py",
      "mimetype": "text/x-python",
      "name": "python",
      "nbconvert_exporter": "python",
      "pygments_lexer": "ipython3",
      "version": "3.10.8"
    },
    "vscode": {
      "interpreter": {
        "hash": "42829ba761cc03814a4ca0fd5987a871f250071456647426b2d15a3a80433ab3"
      }
    }
  },
  "nbformat": 4,
  "nbformat_minor": 0
}
