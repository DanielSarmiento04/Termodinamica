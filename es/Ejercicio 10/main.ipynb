{
 "cells": [
  {
   "attachments": {},
   "cell_type": "markdown",
   "metadata": {},
   "source": [
    "# Enunciado\n",
    "\n",
    "Una central eléctrica de turbina de gas que opera en un ciclo Brayton ideal tiene una relación de presión de 8. La temperatura del gas es de 300 K en la entrada del compresor y de 1 300 K en la entrada de la turbina. Suponga una eficiencia del compresor de 80 por ciento y una eficiencia de la turbina de 85 por ciento. a) la temperatura del gas a la sali- da del compresor y de la turbina, b) la relación del trabajo de retroceso y c) la eficiencia térmica."
   ]
  },
  {
   "cell_type": "code",
   "execution_count": 77,
   "metadata": {},
   "outputs": [],
   "source": [
    "import pyromat as pyro\n",
    "import numpy as np\n",
    "import matplotlib.pyplot as plt\n",
    "import pandas as pd\n",
    "%matplotlib inline\n"
   ]
  },
  {
   "attachments": {},
   "cell_type": "markdown",
   "metadata": {},
   "source": [
    "## Definir fluido"
   ]
  },
  {
   "cell_type": "code",
   "execution_count": 78,
   "metadata": {},
   "outputs": [],
   "source": [
    "aire = pyro.get('ig.air')"
   ]
  },
  {
   "cell_type": "code",
   "execution_count": 79,
   "metadata": {},
   "outputs": [],
   "source": [
    "T_1 = 300 # K\n",
    "T_3 = 1300 # K\n",
    "eficiencia_compresor = 0.8\n",
    "eficiencia_turbina = 0.85\n",
    "relacion_presion = 8"
   ]
  },
  {
   "attachments": {},
   "cell_type": "markdown",
   "metadata": {},
   "source": [
    "## Definir estados conocidos"
   ]
  },
  {
   "cell_type": "code",
   "execution_count": 80,
   "metadata": {},
   "outputs": [
    {
     "data": {
      "text/plain": [
       "{'T': array([300.]),\n",
       " 'p': array([1.01325]),\n",
       " 'd': array([1.17661338]),\n",
       " 'v': array([0.84989684]),\n",
       " 'h': array([-2.4071345]),\n",
       " 'e': array([-88.52293216]),\n",
       " 'gam': array([1.39991606]),\n",
       " 's': array([6.70392413]),\n",
       " 'cp': array([1.00483493]),\n",
       " 'cv': array([0.71778227])}"
      ]
     },
     "execution_count": 80,
     "metadata": {},
     "output_type": "execute_result"
    }
   ],
   "source": [
    "estado_1 = aire.state(T=T_1)\n",
    "h_1 = estado_1.get(\"h\")[0]\n",
    "s_1 = estado_1.get(\"s\")[0]\n",
    "v_1 = estado_1.get(\"v\")[0]\n",
    "cp_1 = estado_1.get(\"cp\")[0]\n",
    "cv_1 = estado_1.get(\"cv\")[0]\n",
    "k_1 = cp_1 / cv_1\n",
    "estado_1"
   ]
  },
  {
   "cell_type": "code",
   "execution_count": 81,
   "metadata": {},
   "outputs": [
    {
     "data": {
      "text/plain": [
       "{'T': array([1300.]),\n",
       " 'p': array([1.01325]),\n",
       " 'd': array([0.27152617]),\n",
       " 'v': array([3.68288632]),\n",
       " 'h': array([1092.80276699]),\n",
       " 'e': array([719.63431047]),\n",
       " 'gam': array([1.31970267]),\n",
       " 's': array([8.2752831]),\n",
       " 'cp': array([1.18492647]),\n",
       " 'cv': array([0.89787381])}"
      ]
     },
     "execution_count": 81,
     "metadata": {},
     "output_type": "execute_result"
    }
   ],
   "source": [
    "estado_3 = aire.state(T=T_3)\n",
    "h_3 = estado_3.get(\"h\")[0]\n",
    "s_3 = estado_3.get(\"s\")[0]\n",
    "v_3 = estado_3.get(\"v\")[0]\n",
    "cp_3 = estado_3.get(\"cp\")[0]\n",
    "cv_3 = estado_3.get(\"cv\")[0]\n",
    "k_3 = cp_3 / cv_3\n",
    "estado_3"
   ]
  },
  {
   "cell_type": "code",
   "execution_count": 82,
   "metadata": {},
   "outputs": [],
   "source": [
    "def get_T_2_from_T_1(T_1, relacion_presion, k):\n",
    "    T_2 = T_1 * pow(relacion_presion, (k-1)/k)\n",
    "    return T_2"
   ]
  },
  {
   "cell_type": "code",
   "execution_count": 83,
   "metadata": {},
   "outputs": [],
   "source": [
    "k_2s = k_1"
   ]
  },
  {
   "cell_type": "code",
   "execution_count": 84,
   "metadata": {},
   "outputs": [],
   "source": [
    "k_prom_1_2 = (k_1 + k_2s) / 2"
   ]
  },
  {
   "cell_type": "code",
   "execution_count": 85,
   "metadata": {},
   "outputs": [
    {
     "name": "stdout",
     "output_type": "stream",
     "text": [
      "cp_2s =  1.038338163119237 kJ/kg*K cv_2s =  0.7512855042598295 KJ/kg*K k_2s =  1.3820819877820127\n",
      "k_prom =  1.3909990240967545\n",
      "T_2s =  543.3858023713356 K\n",
      "cp_2s =  1.0372944442163528 kJ/kg*K cv_2s =  0.7502417853569454 KJ/kg*K k_2s =  1.382613531346878\n",
      "k_prom =  1.391264795879187\n",
      "T_2s =  538.2361177494618 K\n",
      "cp_2s =  1.037325440728462 kJ/kg*K cv_2s =  0.7502727818690548 KJ/kg*K k_2s =  1.3825977241828113\n",
      "k_prom =  1.3912568922971538\n",
      "T_2s =  538.3898460456837 K\n",
      "cp_2s =  1.037324518846698 kJ/kg*K cv_2s =  0.7502718599872907 KJ/kg*K k_2s =  1.382598194292226\n",
      "k_prom =  1.391257127351861\n",
      "T_2s =  538.3852746525358 K\n"
     ]
    }
   ],
   "source": [
    "for i in range(4):\n",
    "    T_2s = get_T_2_from_T_1(T_1, relacion_presion, k_prom_1_2)\n",
    "    cp_2s = aire.cp(T=T_2s)[0]\n",
    "    cv_2s = aire.cv(T=T_2s)[0]\n",
    "    k_2s = cp_2s / cv_2s\n",
    "    k_prom_1_2 = (k_1 + k_2s) / 2\n",
    "    print(\"cp_2s = \", cp_2s, \"kJ/kg*K\", \"cv_2s = \", cv_2s, \"KJ/kg*K\", \"k_2s = \", k_2s)\n",
    "    print(\"k_prom = \", k_prom_1_2)\n",
    "    print(\"T_2s = \", T_2s, \"K\")"
   ]
  },
  {
   "cell_type": "code",
   "execution_count": 86,
   "metadata": {},
   "outputs": [
    {
     "data": {
      "text/plain": [
       "{'T': array([538.38527465]),\n",
       " 'p': array([1.01325]),\n",
       " 'd': array([0.6556346]),\n",
       " 'v': array([1.52523982]),\n",
       " 'h': array([240.3167929]),\n",
       " 'e': array([85.77186832]),\n",
       " 'gam': array([1.38259819]),\n",
       " 's': array([7.2984487]),\n",
       " 'cp': array([1.03732452]),\n",
       " 'cv': array([0.75027186])}"
      ]
     },
     "execution_count": 86,
     "metadata": {},
     "output_type": "execute_result"
    }
   ],
   "source": [
    "estado_2s = aire.state(T=T_2s)\n",
    "h_2s = estado_2s.get(\"h\")[0]\n",
    "s_2s = estado_2s.get(\"s\")[0]\n",
    "v_2s = estado_2s.get(\"v\")[0]\n",
    "estado_2s"
   ]
  },
  {
   "cell_type": "code",
   "execution_count": 87,
   "metadata": {},
   "outputs": [
    {
     "name": "stdout",
     "output_type": "stream",
     "text": [
      "h_2a =  300.9977747453876 kJ/kg\n",
      "T_2 =  596.5416322833465 K\n"
     ]
    },
    {
     "data": {
      "text/plain": [
       "{'T': array([596.54163228]),\n",
       " 'p': array([1.01325]),\n",
       " 'd': array([0.59171732]),\n",
       " 'v': array([1.68999617]),\n",
       " 'h': array([300.99777475]),\n",
       " 'e': array([129.75891308]),\n",
       " 'gam': array([1.3763874]),\n",
       " 's': array([7.40546531]),\n",
       " 'cp': array([1.04970481]),\n",
       " 'cv': array([0.76265215])}"
      ]
     },
     "execution_count": 87,
     "metadata": {},
     "output_type": "execute_result"
    }
   ],
   "source": [
    "h_2a = h_1 + (h_2s - h_1) / eficiencia_compresor\n",
    "print(\"h_2a = \", h_2a, \"kJ/kg\")\n",
    "T_2a = aire.T(h=h_2a)[0]\n",
    "print(\"T_2 = \", T_2a, \"K\")\n",
    "estado_2a = aire.state(T=T_2a)\n",
    "s_2a = estado_2a.get(\"s\")[0]\n",
    "v_2a = estado_2a.get(\"v\")[0]\n",
    "cp_2a = estado_2a.get(\"cp\")[0]\n",
    "cv_2a = estado_2a.get(\"cv\")[0]\n",
    "k_2a = cp_2a / cv_2a\n",
    "estado_2a"
   ]
  },
  {
   "cell_type": "code",
   "execution_count": 88,
   "metadata": {},
   "outputs": [
    {
     "data": {
      "text/plain": [
       "{'T': array([596.54163228]),\n",
       " 'p': array([1.01325]),\n",
       " 'd': array([0.59171732]),\n",
       " 'v': array([1.68999617]),\n",
       " 'h': array([300.99777475]),\n",
       " 'e': array([129.75891308]),\n",
       " 'gam': array([1.3763874]),\n",
       " 's': array([7.40546531]),\n",
       " 'cp': array([1.04970481]),\n",
       " 'cv': array([0.76265215])}"
      ]
     },
     "execution_count": 88,
     "metadata": {},
     "output_type": "execute_result"
    }
   ],
   "source": [
    "T_2a = aire.T(h=h_2a)[0]\n",
    "estado_2 =  aire.state(T=T_2a)\n",
    "s_2a = estado_2.get(\"s\")[0]\n",
    "estado_2"
   ]
  },
  {
   "cell_type": "code",
   "execution_count": 89,
   "metadata": {},
   "outputs": [
    {
     "name": "stdout",
     "output_type": "stream",
     "text": [
      "k_prom 3-4 =  1.3197026749390741\n"
     ]
    }
   ],
   "source": [
    "k_prom_3_4 = k_3\n",
    "print(\"k_prom 3-4 = \", k_prom_3_4)"
   ]
  },
  {
   "cell_type": "code",
   "execution_count": 90,
   "metadata": {},
   "outputs": [
    {
     "name": "stdout",
     "output_type": "stream",
     "text": [
      "cp_4s =  1.095103631551018 kJ/kg*K cv_4s =  0.8080509726916107 KJ/kg*K k_4s =  1.3552407812878902\n",
      "k_prom =  1.3374717281134822\n",
      "T_4s =  785.5368906897279 K\n",
      "cp_4s =  1.0911178879181571 kJ/kg*K cv_4s =  0.8040652290587497 KJ/kg*K k_4s =  1.3570017064354785\n",
      "k_prom =  1.3383521906872762\n",
      "T_4s =  769.2634618046944 K\n",
      "cp_4s =  1.090924744363751 kJ/kg*K cv_4s =  0.8038720855043437 KJ/kg*K k_4s =  1.3570874819957364\n",
      "k_prom =  1.3383950784674052\n",
      "T_4s =  768.4770398837012 K\n",
      "cp_4s =  1.0909153467481412 kJ/kg*K cv_4s =  0.8038626878887338 KJ/kg*K k_4s =  1.3570916565530897\n",
      "k_prom =  1.3383971657460818\n",
      "T_4s =  768.4387798257483 K\n"
     ]
    }
   ],
   "source": [
    "for i in range(4):\n",
    "    T_4s = get_T_2_from_T_1(T_3, 1/relacion_presion, k_prom_3_4)\n",
    "    cp_4s = aire.cp(T=T_4s)[0]\n",
    "    cv_4s = aire.cv(T=T_4s)[0]\n",
    "    k_4s = cp_4s / cv_4s\n",
    "    k_prom_3_4 = (k_3 + k_4s) / 2\n",
    "    print(\"cp_4s = \", cp_4s, \"kJ/kg*K\", \"cv_4s = \", cv_4s, \"KJ/kg*K\", \"k_4s = \", k_4s)\n",
    "    print(\"k_prom = \", k_prom_3_4)\n",
    "    print(\"T_4s = \", T_4s, \"K\")"
   ]
  },
  {
   "cell_type": "code",
   "execution_count": 91,
   "metadata": {},
   "outputs": [
    {
     "data": {
      "text/plain": [
       "{'T': array([768.43877983]),\n",
       " 'p': array([1.01325]),\n",
       " 'd': array([0.45935216]),\n",
       " 'v': array([2.17697898]),\n",
       " 'h': array([484.92482304]),\n",
       " 'e': array([264.34242812]),\n",
       " 'gam': array([1.35709166]),\n",
       " 's': array([7.67617697]),\n",
       " 'cp': array([1.09091535]),\n",
       " 'cv': array([0.80386269])}"
      ]
     },
     "execution_count": 91,
     "metadata": {},
     "output_type": "execute_result"
    }
   ],
   "source": [
    "estado_4s = aire.state(T=T_4s)  \n",
    "h_4s = estado_4s.get(\"h\")[0]\n",
    "estado_4s"
   ]
  },
  {
   "cell_type": "code",
   "execution_count": 92,
   "metadata": {},
   "outputs": [
    {
     "name": "stdout",
     "output_type": "stream",
     "text": [
      "h_4a =  576.1065146307993 kJ/kg\n",
      "T_4a =  851.2593809189099 K\n"
     ]
    },
    {
     "data": {
      "text/plain": [
       "{'T': array([851.25938092]),\n",
       " 'p': array([1.01325]),\n",
       " 'd': array([0.41466094]),\n",
       " 'v': array([2.41160887]),\n",
       " 'h': array([576.10651463]),\n",
       " 'e': array([331.75024596]),\n",
       " 'gam': array([1.34847153]),\n",
       " 's': array([7.78884884]),\n",
       " 'cp': array([1.11080047]),\n",
       " 'cv': array([0.82374781])}"
      ]
     },
     "execution_count": 92,
     "metadata": {},
     "output_type": "execute_result"
    }
   ],
   "source": [
    "h_4a = h_3 - eficiencia_turbina * (h_3 - h_4s)\n",
    "T_4a = aire.T(h=h_4a)[0]\n",
    "estado_4a = aire.state(T=T_4a)\n",
    "s_4a = estado_4a.get(\"s\")[0]\n",
    "v_4a = estado_4a.get(\"v\")[0]\n",
    "\n",
    "print(\"h_4a = \", h_4a, \"kJ/kg\")\n",
    "print(\"T_4a = \", T_4a, \"K\")\n",
    "estado_4a"
   ]
  },
  {
   "cell_type": "code",
   "execution_count": 96,
   "metadata": {},
   "outputs": [
    {
     "name": "stdout",
     "output_type": "stream",
     "text": [
      "trabajo_compresor =  303.40490924393845 kJ/kg\n",
      "trabajo turbina =  516.6962523546887 kJ/kg\n"
     ]
    }
   ],
   "source": [
    "trabajo_compresor = h_2a - h_1\n",
    "trabajo_turbina = h_3 - h_4a\n",
    "trabajo_neto = trabajo_turbina - trabajo_compresor\n",
    "\n",
    "print(\"trabajo_compresor = \", trabajo_compresor, \"kJ/kg\")\n",
    "print(\"trabajo turbina = \", trabajo_turbina, \"kJ/kg\")"
   ]
  },
  {
   "cell_type": "code",
   "execution_count": 94,
   "metadata": {},
   "outputs": [
    {
     "name": "stdout",
     "output_type": "stream",
     "text": [
      "relacion de retroceso =  0.587201683506047\n"
     ]
    }
   ],
   "source": [
    "relacion_retroceso = trabajo_compresor / trabajo_turbina\n",
    "print(\"relacion de retroceso = \", relacion_retroceso)"
   ]
  },
  {
   "cell_type": "code",
   "execution_count": 98,
   "metadata": {},
   "outputs": [
    {
     "name": "stdout",
     "output_type": "stream",
     "text": [
      "calor entrada =  791.8049922401004 kJ/kg\n",
      "calor salida =  578.5136491293503 kJ/kg\n"
     ]
    }
   ],
   "source": [
    "calor_entrada = h_3 - h_2a\n",
    "calor_salida = h_4a - h_1\n",
    "print(\"calor entrada = \", calor_entrada, \"kJ/kg\")\n",
    "print(\"calor salida = \", calor_salida, \"kJ/kg\")"
   ]
  },
  {
   "cell_type": "code",
   "execution_count": 99,
   "metadata": {},
   "outputs": [
    {
     "name": "stdout",
     "output_type": "stream",
     "text": [
      "eficiencia termica =  0.26937357708155685\n",
      "eficiencia termica =  0.26937357708155685\n"
     ]
    }
   ],
   "source": [
    "eficiencia_termica = trabajo_neto / calor_entrada\n",
    "print(\"eficiencia termica = \", eficiencia_termica)\n",
    "eficiencia_termica = 1 - (calor_salida / calor_entrada)\n",
    "print(\"eficiencia termica = \", eficiencia_termica)"
   ]
  }
 ],
 "metadata": {
  "kernelspec": {
   "display_name": "base",
   "language": "python",
   "name": "python3"
  },
  "language_info": {
   "codemirror_mode": {
    "name": "ipython",
    "version": 3
   },
   "file_extension": ".py",
   "mimetype": "text/x-python",
   "name": "python",
   "nbconvert_exporter": "python",
   "pygments_lexer": "ipython3",
   "version": "3.10.6"
  },
  "orig_nbformat": 4,
  "vscode": {
   "interpreter": {
    "hash": "c572d5174d38978ba02a3ac3c114ecb0cec161780d0cde2b670f1f68ef5adc30"
   }
  }
 },
 "nbformat": 4,
 "nbformat_minor": 2
}
