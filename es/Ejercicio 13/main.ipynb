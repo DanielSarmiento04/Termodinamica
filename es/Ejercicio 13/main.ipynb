{
 "cells": [
  {
   "attachments": {},
   "cell_type": "markdown",
   "metadata": {},
   "source": [
    "# Enunciado \n",
    "\n",
    "Considere una central eléctrica de vapor que opera en el ciclo Rankine ideal simple. El vapor de agua entra a la turbina a 3 MPa y 350 °C y es condensado en el condensador a una presión de 75 kPa. Determine la eficiencia térmica de este ciclo."
   ]
  },
  {
   "cell_type": "code",
   "execution_count": 23,
   "metadata": {},
   "outputs": [],
   "source": [
    "import pyromat as pyro\n",
    "import numpy as np\n",
    "import matplotlib.pyplot as plt\n",
    "from colorama import Fore\n",
    "%matplotlib inline\n"
   ]
  },
  {
   "cell_type": "code",
   "execution_count": 15,
   "metadata": {},
   "outputs": [
    {
     "name": "stdout",
     "output_type": "stream",
     "text": [
      "         length : km m cm mm um nm A in nmi ft yd mile mi \n",
      "           time : ns us ms s min hr day year \n",
      "           mass : kg g mg lbm lb oz slug u amu \n",
      "          force : N kN lb kgf lbf oz \n",
      "          molar : kmol mol lbmol n Nm3 Ncum NL Ncc scf sci \n",
      "    temperature : K C F R eV \n",
      "         energy : J kJ cal kcal eV BTU \n",
      "         volume : m3 mm3 cm3 in3 ft3 L mL uL cum cc cumm cuin cuft gal USgal UKgal qt pt \n",
      "       pressure : Pa kPa MPa GPa bar atm Torr mmHg mmH2O psi psf ksi inHg inH2O \n",
      "See also...\n",
      "  abs_to_gauge()        Absolute to gauge pressure\n",
      "  gauge_to_abs()        Gauge to absolute pressure\n",
      "  matter()              Moles and mass conversions\n",
      "  temperature_scale()   Correct handling of non-absolute temperatures\n"
     ]
    }
   ],
   "source": [
    "pyro.units.show()"
   ]
  },
  {
   "cell_type": "code",
   "execution_count": 16,
   "metadata": {},
   "outputs": [],
   "source": [
    "pyro.config[\"unit_pressure\"] = \"kPa\""
   ]
  },
  {
   "attachments": {},
   "cell_type": "markdown",
   "metadata": {},
   "source": [
    "### Definir el fluido de trabajo."
   ]
  },
  {
   "cell_type": "code",
   "execution_count": 17,
   "metadata": {},
   "outputs": [],
   "source": [
    "agua = pyro.get(\"mp.H2O\")"
   ]
  },
  {
   "cell_type": "code",
   "execution_count": 18,
   "metadata": {},
   "outputs": [],
   "source": [
    "T_3 = 350 + 273.15 # K\n",
    "x_1 = 0\n",
    "p_1 = p_4 = 75 # Kpa\n",
    "p_2 = p_3 = 3_000 # Kpa"
   ]
  },
  {
   "attachments": {},
   "cell_type": "markdown",
   "metadata": {},
   "source": [
    "## Establecer los estados que se pueden definir con las propiedades establecidas."
   ]
  },
  {
   "attachments": {},
   "cell_type": "markdown",
   "metadata": {},
   "source": [
    "### Estado 1 "
   ]
  },
  {
   "cell_type": "code",
   "execution_count": 19,
   "metadata": {},
   "outputs": [
    {
     "data": {
      "text/plain": [
       "{'p': array([74.99277349]),\n",
       " 'T': array([364.90771893]),\n",
       " 'd': array([964.10440156]),\n",
       " 'x': array([0.]),\n",
       " 'e': array([384.36472827]),\n",
       " 'h': array([384.43410812]),\n",
       " 's': array([1.21318931]),\n",
       " 'cp': array([inf]),\n",
       " 'cv': array([nan]),\n",
       " 'gam': array([inf]),\n",
       " 'v': array([0.00103723])}"
      ]
     },
     "execution_count": 19,
     "metadata": {},
     "output_type": "execute_result"
    }
   ],
   "source": [
    "estado_1 = agua.state(p=p_1, x=x_1)\n",
    "h_1 = estado_1.get(\"h\")[0]\n",
    "s_1 = estado_1.get(\"s\")[0]\n",
    "v_1 = estado_1.get(\"v\")[0]\n",
    "T_1 = estado_1.get(\"T\")[0]\n",
    "estado_1"
   ]
  },
  {
   "attachments": {},
   "cell_type": "markdown",
   "metadata": {},
   "source": [
    "### Estado 3"
   ]
  },
  {
   "cell_type": "code",
   "execution_count": 20,
   "metadata": {},
   "outputs": [
    {
     "data": {
      "text/plain": [
       "{'p': array([2999.99999995]),\n",
       " 'T': array([623.15]),\n",
       " 'd': array([11.04271959]),\n",
       " 'x': array([-1.]),\n",
       " 'e': array([2844.42504669]),\n",
       " 'h': array([3116.09725341]),\n",
       " 's': array([6.74501134]),\n",
       " 'cp': array([2.3558872]),\n",
       " 'cv': array([1.72025698]),\n",
       " 'gam': array([1.36949724]),\n",
       " 'v': array([0.0905574])}"
      ]
     },
     "execution_count": 20,
     "metadata": {},
     "output_type": "execute_result"
    }
   ],
   "source": [
    "estado_3 = agua.state(p=p_3, T=T_3)\n",
    "h_3 = estado_3.get(\"h\")[0]\n",
    "s_3 = estado_3.get(\"s\")[0]\n",
    "v_3 = estado_3.get(\"v\")[0]\n",
    "estado_3"
   ]
  },
  {
   "attachments": {},
   "cell_type": "markdown",
   "metadata": {},
   "source": [
    "## Estados no conocidos"
   ]
  },
  {
   "attachments": {},
   "cell_type": "markdown",
   "metadata": {},
   "source": [
    "### Estado 2 "
   ]
  },
  {
   "cell_type": "code",
   "execution_count": 21,
   "metadata": {},
   "outputs": [
    {
     "data": {
      "text/plain": [
       "{'p': array([3000.00199921]),\n",
       " 'T': array([365.09366813]),\n",
       " 'd': array([965.3216394]),\n",
       " 'x': array([-1]),\n",
       " 'e': array([384.36654898]),\n",
       " 'h': array([387.47432351]),\n",
       " 's': array([1.21318881]),\n",
       " 'cp': array([4.20066808]),\n",
       " 'cv': array([3.80538275]),\n",
       " 'gam': array([1.10387531]),\n",
       " 'v': array([0.00103592])}"
      ]
     },
     "execution_count": 21,
     "metadata": {},
     "output_type": "execute_result"
    }
   ],
   "source": [
    "estado_2  = agua.state(p=p_2, s=s_1)\n",
    "h_2 = estado_2.get(\"h\")[0]\n",
    "s_2 = estado_2.get(\"s\")[0]\n",
    "v_2 = estado_2.get(\"v\")[0]\n",
    "T_2 = estado_2.get(\"T\")[0]\n",
    "estado_2"
   ]
  },
  {
   "attachments": {},
   "cell_type": "markdown",
   "metadata": {},
   "source": [
    "### Estado 4"
   ]
  },
  {
   "cell_type": "code",
   "execution_count": 22,
   "metadata": {},
   "outputs": [
    {
     "data": {
      "text/plain": [
       "{'p': array([74.99277349]),\n",
       " 'T': array([364.90771893]),\n",
       " 'd': array([0.50894077]),\n",
       " 'x': array([0.88613457]),\n",
       " 'e': array([2255.68217106]),\n",
       " 'h': array([2403.03190473]),\n",
       " 's': array([6.74501134]),\n",
       " 'cp': array([inf]),\n",
       " 'cv': array([nan]),\n",
       " 'gam': array([inf]),\n",
       " 'v': array([1.9648652])}"
      ]
     },
     "execution_count": 22,
     "metadata": {},
     "output_type": "execute_result"
    }
   ],
   "source": [
    "estado_4 = agua.state(p=p_4, s=s_3)\n",
    "h_4 = estado_4.get(\"h\")[0]\n",
    "s_4 = estado_4.get(\"s\")[0]\n",
    "v_4 = estado_4.get(\"v\")[0]\n",
    "T_4 = estado_4.get(\"T\")[0]\n",
    "estado_4\n"
   ]
  },
  {
   "attachments": {},
   "cell_type": "markdown",
   "metadata": {},
   "source": [
    "## Análisis Trabajos"
   ]
  },
  {
   "cell_type": "code",
   "execution_count": 26,
   "metadata": {},
   "outputs": [
    {
     "name": "stdout",
     "output_type": "stream",
     "text": [
      "\u001b[97m Trabajo del compresor:  \u001b[92m 3.040215388586489 \u001b[97m kJ/kg\n",
      "\u001b[97m Trabajo de la turbina:  \u001b[92m 713.0653486864408 \u001b[97m kJ/kg\n",
      "\u001b[97m Trabajo neto:  \u001b[92m 710.0251332978543 \u001b[97m kJ/kg\n"
     ]
    }
   ],
   "source": [
    "trabajo_compresor = h_2 - h_1  \n",
    "trabajo_turbina = h_3 - h_4\n",
    "trabajo_neto = trabajo_turbina - trabajo_compresor\n",
    "print(Fore.LIGHTWHITE_EX, \"Trabajo del compresor: \", Fore.LIGHTGREEN_EX, trabajo_compresor, Fore.LIGHTWHITE_EX, \"kJ/kg\")\n",
    "print(Fore.LIGHTWHITE_EX, \"Trabajo de la turbina: \", Fore.LIGHTGREEN_EX, trabajo_turbina, Fore.LIGHTWHITE_EX, \"kJ/kg\")\n",
    "print(Fore.LIGHTWHITE_EX, \"Trabajo neto: \", Fore.LIGHTGREEN_EX, trabajo_neto, Fore.LIGHTWHITE_EX, \"kJ/kg\")\n"
   ]
  },
  {
   "attachments": {},
   "cell_type": "markdown",
   "metadata": {},
   "source": [
    "## Análisis  Calores "
   ]
  },
  {
   "cell_type": "code",
   "execution_count": 27,
   "metadata": {},
   "outputs": [
    {
     "name": "stdout",
     "output_type": "stream",
     "text": [
      "\u001b[97m Calor de entrada:  \u001b[92m 2728.62292990519 \u001b[97m kJ/kg\n",
      "\u001b[97m Calor de salida:  \u001b[92m 2018.5977966073358 \u001b[97m kJ/kg\n",
      "\u001b[97m Calor neto:  \u001b[92m 710.0251332978544 \u001b[97m kJ/kg\n"
     ]
    }
   ],
   "source": [
    "calor_entrada = h_3 - h_2\n",
    "calor_salida = h_4 - h_1\n",
    "calor_neto = calor_entrada - calor_salida\n",
    "print(Fore.LIGHTWHITE_EX, \"Calor de entrada: \", Fore.LIGHTGREEN_EX, calor_entrada, Fore.LIGHTWHITE_EX, \"kJ/kg\")\n",
    "print(Fore.LIGHTWHITE_EX, \"Calor de salida: \", Fore.LIGHTGREEN_EX, calor_salida, Fore.LIGHTWHITE_EX, \"kJ/kg\")\n",
    "print(Fore.LIGHTWHITE_EX, \"Calor neto: \", Fore.LIGHTGREEN_EX, calor_neto, Fore.LIGHTWHITE_EX, \"kJ/kg\")\n"
   ]
  },
  {
   "attachments": {},
   "cell_type": "markdown",
   "metadata": {},
   "source": [
    "## Eficiencia "
   ]
  },
  {
   "cell_type": "code",
   "execution_count": 28,
   "metadata": {},
   "outputs": [
    {
     "name": "stdout",
     "output_type": "stream",
     "text": [
      "\u001b[97m Eficiencia térmica:  \u001b[92m 0.2602137237491166\n"
     ]
    }
   ],
   "source": [
    "eficiencia_termica = trabajo_neto / calor_entrada\n",
    "print(Fore.LIGHTWHITE_EX, \"Eficiencia térmica: \", Fore.LIGHTGREEN_EX, eficiencia_termica)\n"
   ]
  }
 ],
 "metadata": {
  "kernelspec": {
   "display_name": "base",
   "language": "python",
   "name": "python3"
  },
  "language_info": {
   "codemirror_mode": {
    "name": "ipython",
    "version": 3
   },
   "file_extension": ".py",
   "mimetype": "text/x-python",
   "name": "python",
   "nbconvert_exporter": "python",
   "pygments_lexer": "ipython3",
   "version": "3.10.6"
  },
  "orig_nbformat": 4,
  "vscode": {
   "interpreter": {
    "hash": "c572d5174d38978ba02a3ac3c114ecb0cec161780d0cde2b670f1f68ef5adc30"
   }
  }
 },
 "nbformat": 4,
 "nbformat_minor": 2
}
