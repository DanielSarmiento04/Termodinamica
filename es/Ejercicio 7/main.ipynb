{
 "cells": [
  {
   "attachments": {},
   "cell_type": "markdown",
   "metadata": {},
   "source": [
    "## Importamos las librerías"
   ]
  },
  {
   "cell_type": "code",
   "execution_count": 3,
   "metadata": {},
   "outputs": [],
   "source": [
    "import matplotlib.pyplot as plt\n",
    "import numpy as np\n",
    "import pyromat as pyro\n",
    "%matplotlib inline"
   ]
  },
  {
   "attachments": {},
   "cell_type": "markdown",
   "metadata": {},
   "source": [
    "## Configuración de unidades"
   ]
  },
  {
   "cell_type": "code",
   "execution_count": 4,
   "metadata": {},
   "outputs": [],
   "source": [
    "pyro.config[\"unit_pressure\"]=\"kPa\""
   ]
  },
  {
   "attachments": {},
   "cell_type": "markdown",
   "metadata": {},
   "source": [
    "## Establecer los datos conocidos"
   ]
  },
  {
   "cell_type": "code",
   "execution_count": 5,
   "metadata": {},
   "outputs": [],
   "source": [
    "# datos vapor agua\n",
    "p_1 = p_4 = 5 #kpa inferior\n",
    "x_1 = 0\n",
    "p_2 = p_3 = 7e3 # kpa superior\n",
    "T_3 = 500 + 273.15 # K salida intercambiador\n",
    "\n",
    "# datos aire\n",
    "T_5 = 300 # K entrada compresor\n",
    "T_7 = 1300 # K entrada turbina\n",
    "T_9 = 450 # K salida intercambiador\n",
    "relacion_presiones = 8\n",
    "eficiencia_compresor = 0.8\n",
    "eficiencia_turbina = 0.85"
   ]
  },
  {
   "attachments": {},
   "cell_type": "markdown",
   "metadata": {},
   "source": [
    "## Definir los fluidos de trabajo"
   ]
  },
  {
   "cell_type": "code",
   "execution_count": 6,
   "metadata": {},
   "outputs": [],
   "source": [
    "agua = pyro.get('mp.H2O')\n",
    "aire = pyro.get('ig.air')"
   ]
  },
  {
   "attachments": {},
   "cell_type": "markdown",
   "metadata": {},
   "source": [
    "## Establecer los estados conocidos con las variables que tenemos"
   ]
  },
  {
   "cell_type": "code",
   "execution_count": 7,
   "metadata": {},
   "outputs": [
    {
     "data": {
      "text/plain": [
       "{'p': array([5.00006645]),\n",
       " 'T': array([306.02426473]),\n",
       " 'd': array([994.69887933]),\n",
       " 'x': array([0.]),\n",
       " 'e': array([137.74605276]),\n",
       " 'h': array([137.74134764]),\n",
       " 's': array([0.47620667]),\n",
       " 'cp': array([inf]),\n",
       " 'cv': array([nan]),\n",
       " 'gam': array([inf]),\n",
       " 'v': array([0.00100533])}"
      ]
     },
     "execution_count": 7,
     "metadata": {},
     "output_type": "execute_result"
    }
   ],
   "source": [
    "state_1 = agua.state(p=p_1,x=x_1)\n",
    "h_1 = state_1.get(\"h\")[0]\n",
    "s_1 = state_1.get(\"s\")[0]\n",
    "T_1 = state_1.get(\"T\")[0]\n",
    "v_1 = state_1.get(\"v\")[0]\n",
    "state_1"
   ]
  },
  {
   "cell_type": "code",
   "execution_count": 9,
   "metadata": {},
   "outputs": [
    {
     "data": {
      "text/plain": [
       "{'p': array([6999.99999385]),\n",
       " 'T': array([773.15]),\n",
       " 'd': array([20.76519422]),\n",
       " 'x': array([-1.]),\n",
       " 'e': array([3074.32846486]),\n",
       " 'h': array([3411.43101833]),\n",
       " 's': array([6.80002982]),\n",
       " 'cp': array([2.42613447]),\n",
       " 'cv': array([1.78897908]),\n",
       " 'gam': array([1.35615586]),\n",
       " 'v': array([0.04815751])}"
      ]
     },
     "execution_count": 9,
     "metadata": {},
     "output_type": "execute_result"
    }
   ],
   "source": [
    "state_3 = agua.state(p=p_3,T= T_3)\n",
    "h_3 = state_3.get(\"h\")[0]\n",
    "s_3 = state_3.get(\"s\")[0]\n",
    "v_3 = state_3.get(\"v\")[0]\n",
    "state_3"
   ]
  },
  {
   "cell_type": "code",
   "execution_count": 11,
   "metadata": {},
   "outputs": [
    {
     "data": {
      "text/plain": [
       "{'T': array([300.]),\n",
       " 'p': array([1.01325]),\n",
       " 'd': array([0.01176613]),\n",
       " 'v': array([84.98968434]),\n",
       " 'h': array([-2.4071345]),\n",
       " 'e': array([-88.52293216]),\n",
       " 'gam': array([1.39991606]),\n",
       " 's': array([8.02585047]),\n",
       " 'cp': array([1.00483493]),\n",
       " 'cv': array([0.71778227])}"
      ]
     },
     "execution_count": 11,
     "metadata": {},
     "output_type": "execute_result"
    }
   ],
   "source": [
    "state_5 = aire.state(T=T_5)\n",
    "h_5 = state_5.get(\"h\")[0]\n",
    "s_5 = state_5.get(\"s\")[0]\n",
    "v_5 = state_5.get(\"v\")[0]\n",
    "state_5"
   ]
  },
  {
   "cell_type": "code",
   "execution_count": 13,
   "metadata": {},
   "outputs": [
    {
     "data": {
      "text/plain": [
       "{'T': array([1300.]),\n",
       " 'p': array([1.01325]),\n",
       " 'd': array([0.00271526]),\n",
       " 'v': array([368.28863214]),\n",
       " 'h': array([1092.80276699]),\n",
       " 'e': array([719.63431047]),\n",
       " 'gam': array([1.31970267]),\n",
       " 's': array([9.59720945]),\n",
       " 'cp': array([1.18492647]),\n",
       " 'cv': array([0.89787381])}"
      ]
     },
     "execution_count": 13,
     "metadata": {},
     "output_type": "execute_result"
    }
   ],
   "source": [
    "state_7 = aire.state(T=T_7)\n",
    "h_7 = state_7.get(\"h\")[0]\n",
    "s_7 = state_7.get(\"s\")[0]\n",
    "v_7 = state_7.get(\"v\")[0]\n",
    "state_7"
   ]
  },
  {
   "cell_type": "code",
   "execution_count": 15,
   "metadata": {},
   "outputs": [
    {
     "data": {
      "text/plain": [
       "{'T': array([450.]),\n",
       " 'p': array([1.01325]),\n",
       " 'd': array([0.00784409]),\n",
       " 'v': array([127.48452651]),\n",
       " 'h': array([149.36743277]),\n",
       " 'e': array([20.19373629]),\n",
       " 'gam': array([1.39092577]),\n",
       " 's': array([8.43588867]),\n",
       " 'cp': array([1.02134208]),\n",
       " 'cv': array([0.73428942])}"
      ]
     },
     "execution_count": 15,
     "metadata": {},
     "output_type": "execute_result"
    }
   ],
   "source": [
    "state_9 = aire.state(T=T_9)\n",
    "h_9 = state_9.get(\"h\")[0]\n",
    "s_9 = state_9.get(\"s\")[0]\n",
    "v_9 = state_9.get(\"v\")[0]\n",
    "state_9"
   ]
  },
  {
   "attachments": {},
   "cell_type": "markdown",
   "metadata": {},
   "source": [
    "### Concepto de proceso isentropic 1 -> 2"
   ]
  },
  {
   "cell_type": "code",
   "execution_count": 8,
   "metadata": {},
   "outputs": [
    {
     "data": {
      "text/plain": [
       "{'p': array([7000.00006281]),\n",
       " 'T': array([306.19512434]),\n",
       " 'd': array([997.72475991]),\n",
       " 'x': array([-1]),\n",
       " 'e': array([137.75667701]),\n",
       " 'h': array([144.77264007]),\n",
       " 's': array([0.47620666]),\n",
       " 'cp': array([4.16171129]),\n",
       " 'cv': array([4.08349729]),\n",
       " 'gam': array([1.01915368]),\n",
       " 'v': array([0.00100228])}"
      ]
     },
     "execution_count": 8,
     "metadata": {},
     "output_type": "execute_result"
    }
   ],
   "source": [
    "state_2 = agua.state(p=p_2,s=s_1)\n",
    "h_2 = state_2.get(\"h\")[0]\n",
    "s_2 = state_2.get(\"s\")[0]\n",
    "v_2 = state_2.get(\"v\")[0]\n",
    "T_2 = state_2.get(\"T\")[0]\n",
    "state_2"
   ]
  },
  {
   "attachments": {},
   "cell_type": "markdown",
   "metadata": {},
   "source": [
    "### Concepto de proceso isentropico 3 -> 4"
   ]
  },
  {
   "cell_type": "code",
   "execution_count": 10,
   "metadata": {},
   "outputs": [
    {
     "data": {
      "text/plain": [
       "{'p': array([5.00006645]),\n",
       " 'T': array([306.02426473]),\n",
       " 'd': array([0.04442147]),\n",
       " 'x': array([0.79869675]),\n",
       " 'e': array([1960.43495642]),\n",
       " 'h': array([2072.99268689]),\n",
       " 's': array([6.80002982]),\n",
       " 'cp': array([inf]),\n",
       " 'cv': array([nan]),\n",
       " 'gam': array([inf]),\n",
       " 'v': array([22.51163872])}"
      ]
     },
     "execution_count": 10,
     "metadata": {},
     "output_type": "execute_result"
    }
   ],
   "source": [
    "state_4 = agua.state(p=p_4,s=s_3)\n",
    "h_4 = state_4.get(\"h\")[0]\n",
    "s_4 = state_4.get(\"s\")[0]\n",
    "v_4 = state_4.get(\"v\")[0]\n",
    "T_4 = state_4.get(\"T\")[0]\n",
    "x_4 = state_4.get(\"x\")[0]\n",
    "state_4"
   ]
  },
  {
   "attachments": {},
   "cell_type": "markdown",
   "metadata": {},
   "source": [
    "### Calculo del estado 6\n",
    "\n",
    "1. Suponga que es isentropico. \n",
    "2. Corregir el valor de la entalpía con la eficiencia"
   ]
  },
  {
   "cell_type": "code",
   "execution_count": 12,
   "metadata": {},
   "outputs": [
    {
     "data": {
      "text/plain": [
       "{'T': array([595.64339599]),\n",
       " 'p': array([1.01325]),\n",
       " 'd': array([0.0059261]),\n",
       " 'v': array([168.74514735]),\n",
       " 'h': array([300.05498174]),\n",
       " 'e': array([129.07396119]),\n",
       " 'gam': array([1.37648624]),\n",
       " 's': array([8.72581004]),\n",
       " 'cp': array([1.04950458]),\n",
       " 'cv': array([0.76245192])}"
      ]
     },
     "execution_count": 12,
     "metadata": {},
     "output_type": "execute_result"
    }
   ],
   "source": [
    "k_5_6 = 1.39\n",
    "T_6s = T_5 * pow(1/relacion_presiones, (1- k_5_6)/k_5_6)\n",
    "h_6s = aire.h(T=T_6s)[0]\n",
    "h_6a = h_5 + (h_6s - h_5)/eficiencia_compresor\n",
    "T_6a = aire.T(h=h_6a)[0]\n",
    "state_6 = aire.state(T=T_6a)\n",
    "h_6a = state_6.get(\"h\")[0]\n",
    "s_6a = state_6.get(\"s\")[0]\n",
    "v_6a = state_6.get(\"v\")[0]\n",
    "state_6"
   ]
  },
  {
   "attachments": {},
   "cell_type": "markdown",
   "metadata": {},
   "source": [
    "### Calculo del estado 8\n",
    "\n",
    "1. Suponga que es isentropico. \n",
    "2. Corregir el valor de la entalpía con la eficiencia"
   ]
  },
  {
   "cell_type": "code",
   "execution_count": 14,
   "metadata": {},
   "outputs": [
    {
     "data": {
      "text/plain": [
       "{'T': array([850.06683602]),\n",
       " 'p': array([1.01325]),\n",
       " 'd': array([0.00415243]),\n",
       " 'v': array([240.8230402]),\n",
       " 'h': array([574.78199999]),\n",
       " 'e': array([330.7680545]),\n",
       " 'gam': array([1.34858851]),\n",
       " 's': array([9.10921815]),\n",
       " 'cp': array([1.11052403]),\n",
       " 'cv': array([0.82347137])}"
      ]
     },
     "execution_count": 14,
     "metadata": {},
     "output_type": "execute_result"
    }
   ],
   "source": [
    "k_7_8 = 1.34\n",
    "T_8s = T_7 * pow(relacion_presiones, (1- k_7_8)/k_7_8)\n",
    "h_8s = aire.h(T=T_8s)[0]\n",
    "h_8a = h_7 - (h_7 - h_8s)*eficiencia_turbina\n",
    "T_8a = aire.T(h=h_8a)[0]\n",
    "state_8a = aire.state(T=T_8a)\n",
    "h_8a = state_8a.get(\"h\")[0]\n",
    "s_8a = state_8a.get(\"s\")[0]\n",
    "v_8a = state_8a.get(\"v\")[0]\n",
    "state_8a\n"
   ]
  },
  {
   "attachments": {},
   "cell_type": "markdown",
   "metadata": {},
   "source": [
    "## Calculo de la relación de flujos másicos"
   ]
  },
  {
   "cell_type": "code",
   "execution_count": 16,
   "metadata": {},
   "outputs": [
    {
     "name": "stdout",
     "output_type": "stream",
     "text": [
      "Relación de flujo masico:  0.13022927957514832\n"
     ]
    }
   ],
   "source": [
    "relacion_flujo_masico = - (h_9 - h_8a)/ (h_3- h_2)\n",
    "print(\"Relación de flujo masico: \", relacion_flujo_masico)"
   ]
  },
  {
   "cell_type": "code",
   "execution_count": 28,
   "metadata": {},
   "outputs": [
    {
     "data": {
      "text/plain": [
       "1935.251339244318"
      ]
     },
     "execution_count": 28,
     "metadata": {},
     "output_type": "execute_result"
    }
   ],
   "source": [
    "calor_salida_vapor = - (h_1 - h_4)\n",
    "calor_salida_vapor"
   ]
  },
  {
   "cell_type": "code",
   "execution_count": 20,
   "metadata": {},
   "outputs": [
    {
     "data": {
      "text/plain": [
       "3266.6583782589387"
      ]
     },
     "execution_count": 20,
     "metadata": {},
     "output_type": "execute_result"
    }
   ],
   "source": [
    "calor_entrada_vapor = h_3 - h_2\n",
    "calor_entrada_vapor"
   ]
  },
  {
   "attachments": {},
   "cell_type": "markdown",
   "metadata": {},
   "source": [
    "## Calculo de eficiencias."
   ]
  },
  {
   "attachments": {},
   "cell_type": "markdown",
   "metadata": {},
   "source": [
    "### Calculo de la eficiencia del ciclo rankine a partir de los calores."
   ]
  },
  {
   "cell_type": "code",
   "execution_count": 30,
   "metadata": {},
   "outputs": [
    {
     "data": {
      "text/plain": [
       "0.4075746174977235"
      ]
     },
     "execution_count": 30,
     "metadata": {},
     "output_type": "execute_result"
    }
   ],
   "source": [
    "eficiencia_vapor = 1 - calor_salida_vapor/calor_entrada_vapor \n",
    "eficiencia_vapor"
   ]
  },
  {
   "attachments": {},
   "cell_type": "markdown",
   "metadata": {},
   "source": [
    "### Calculo de la eficiencia del ciclo rankine a partir del trabajo neto"
   ]
  },
  {
   "cell_type": "code",
   "execution_count": 31,
   "metadata": {},
   "outputs": [
    {
     "data": {
      "text/plain": [
       "7.031292428410666"
      ]
     },
     "execution_count": 31,
     "metadata": {},
     "output_type": "execute_result"
    }
   ],
   "source": [
    "trabajo_bomba = h_2 - h_1\n",
    "trabajo_bomba"
   ]
  },
  {
   "cell_type": "code",
   "execution_count": 32,
   "metadata": {},
   "outputs": [
    {
     "data": {
      "text/plain": [
       "1338.4383314430315"
      ]
     },
     "execution_count": 32,
     "metadata": {},
     "output_type": "execute_result"
    }
   ],
   "source": [
    "trabajo_turbina_vapor = h_3 - h_4\n",
    "trabajo_turbina_vapor"
   ]
  },
  {
   "cell_type": "code",
   "execution_count": 34,
   "metadata": {},
   "outputs": [
    {
     "data": {
      "text/plain": [
       "1331.4070390146208"
      ]
     },
     "execution_count": 34,
     "metadata": {},
     "output_type": "execute_result"
    }
   ],
   "source": [
    "trabajo_neto_vapor = trabajo_turbina_vapor - trabajo_bomba\n",
    "trabajo_neto_vapor"
   ]
  },
  {
   "cell_type": "code",
   "execution_count": 35,
   "metadata": {},
   "outputs": [
    {
     "data": {
      "text/plain": [
       "0.4075746174977235"
      ]
     },
     "execution_count": 35,
     "metadata": {},
     "output_type": "execute_result"
    }
   ],
   "source": [
    "eficiencia_rankine = trabajo_neto_vapor/calor_entrada_vapor\n",
    "eficiencia_rankine"
   ]
  },
  {
   "attachments": {},
   "cell_type": "markdown",
   "metadata": {},
   "source": [
    "### Calculo de la eficiencia del ciclo Brayton a partir de calores"
   ]
  },
  {
   "cell_type": "code",
   "execution_count": 17,
   "metadata": {},
   "outputs": [
    {
     "data": {
      "text/plain": [
       "792.747785247717"
      ]
     },
     "execution_count": 17,
     "metadata": {},
     "output_type": "execute_result"
    }
   ],
   "source": [
    "calor_entrada_aire = h_7 - h_6a\n",
    "calor_entrada_aire"
   ]
  },
  {
   "cell_type": "code",
   "execution_count": 18,
   "metadata": {},
   "outputs": [
    {
     "data": {
      "text/plain": [
       "577.189134489169"
      ]
     },
     "execution_count": 18,
     "metadata": {},
     "output_type": "execute_result"
    }
   ],
   "source": [
    "calor_salida_aire = - (h_5 - h_8a)\n",
    "calor_salida_aire"
   ]
  },
  {
   "cell_type": "code",
   "execution_count": 36,
   "metadata": {},
   "outputs": [
    {
     "data": {
      "text/plain": [
       "0.27191328032684514"
      ]
     },
     "execution_count": 36,
     "metadata": {},
     "output_type": "execute_result"
    }
   ],
   "source": [
    "eficiencia_brayton = 1 - calor_salida_aire/calor_entrada_aire\n",
    "eficiencia_brayton"
   ]
  },
  {
   "attachments": {},
   "cell_type": "markdown",
   "metadata": {},
   "source": [
    "### Calculo de la eficiencia de ciclo Brayton a partir de trabajo"
   ]
  },
  {
   "cell_type": "code",
   "execution_count": 37,
   "metadata": {},
   "outputs": [
    {
     "data": {
      "text/plain": [
       "302.4621162363219"
      ]
     },
     "execution_count": 37,
     "metadata": {},
     "output_type": "execute_result"
    }
   ],
   "source": [
    "trabajo_compresor = h_6a - h_5\n",
    "trabajo_compresor"
   ]
  },
  {
   "cell_type": "code",
   "execution_count": 38,
   "metadata": {},
   "outputs": [
    {
     "data": {
      "text/plain": [
       "518.02076699487"
      ]
     },
     "execution_count": 38,
     "metadata": {},
     "output_type": "execute_result"
    }
   ],
   "source": [
    "trabajo_turbina_aire = h_7 - h_8a\n",
    "trabajo_turbina_aire"
   ]
  },
  {
   "cell_type": "code",
   "execution_count": 39,
   "metadata": {},
   "outputs": [
    {
     "data": {
      "text/plain": [
       "215.55865075854808"
      ]
     },
     "execution_count": 39,
     "metadata": {},
     "output_type": "execute_result"
    }
   ],
   "source": [
    "trabajo_neto_aire = trabajo_turbina_aire - trabajo_compresor\n",
    "trabajo_neto_aire"
   ]
  },
  {
   "cell_type": "code",
   "execution_count": 40,
   "metadata": {},
   "outputs": [
    {
     "data": {
      "text/plain": [
       "0.2719132803268451"
      ]
     },
     "execution_count": 40,
     "metadata": {},
     "output_type": "execute_result"
    }
   ],
   "source": [
    "eficiencia_brayton = trabajo_neto_aire/calor_entrada_aire\n",
    "eficiencia_brayton"
   ]
  },
  {
   "attachments": {},
   "cell_type": "markdown",
   "metadata": {},
   "source": [
    "## Calculo de eficiencia  del ciclo combinado"
   ]
  },
  {
   "attachments": {},
   "cell_type": "markdown",
   "metadata": {},
   "source": [
    "### Por medio de trabajo"
   ]
  },
  {
   "cell_type": "code",
   "execution_count": 41,
   "metadata": {},
   "outputs": [
    {
     "data": {
      "text/plain": [
       "388.9468302707036"
      ]
     },
     "execution_count": 41,
     "metadata": {},
     "output_type": "execute_result"
    }
   ],
   "source": [
    "trabajo_neto_ciclo = trabajo_neto_aire + relacion_flujo_masico*trabajo_neto_vapor\n",
    "trabajo_neto_ciclo"
   ]
  },
  {
   "cell_type": "code",
   "execution_count": 43,
   "metadata": {},
   "outputs": [
    {
     "data": {
      "text/plain": [
       "0.4906312417500679"
      ]
     },
     "execution_count": 43,
     "metadata": {},
     "output_type": "execute_result"
    }
   ],
   "source": [
    "eficiencia_ciclo_combinado = trabajo_neto_ciclo/(calor_entrada_aire)\n",
    "eficiencia_ciclo_combinado"
   ]
  },
  {
   "attachments": {},
   "cell_type": "markdown",
   "metadata": {},
   "source": [
    "### Por medio de calores"
   ]
  },
  {
   "cell_type": "code",
   "execution_count": 45,
   "metadata": {},
   "outputs": [],
   "source": [
    "calor_neto_salida = calor_salida_aire + relacion_flujo_masico * calor_salida_vapor"
   ]
  },
  {
   "cell_type": "code",
   "execution_count": 24,
   "metadata": {},
   "outputs": [],
   "source": [
    "calor_neto_entrada = calor_entrada_aire + relacion_flujo_masico * calor_entrada_vapor"
   ]
  },
  {
   "cell_type": "code",
   "execution_count": 48,
   "metadata": {},
   "outputs": [
    {
     "data": {
      "text/plain": [
       "-0.04600168884317357"
      ]
     },
     "execution_count": 48,
     "metadata": {},
     "output_type": "execute_result"
    }
   ],
   "source": [
    "eficiencia_ciclo_combinado = 1 - calor_neto_salida/calor_entrada_aire\n",
    "eficiencia_ciclo_combinado"
   ]
  },
  {
   "cell_type": "code",
   "execution_count": 26,
   "metadata": {},
   "outputs": [
    {
     "data": {
      "image/png": "[encoded data removed]",
      "text/plain": [
       "<Figure size 640x480 with 1 Axes>"
      ]
     },
     "metadata": {},
     "output_type": "display_data"
    }
   ],
   "source": [
    "plt.scatter([s_1,s_2,s_3,s_4],[T_1, T_2, T_3, T_4], label=\"Vapor\")\n",
    "# plt.plot([s_5,s_6a,s_7,s_8a,s_9],[h_5,h_6a,h_7,h_8a,h_9], label=\"Aire\")\n",
    "plt.legend()\n",
    "plt.xlabel(\"Entropía [kJ/kgK]\")\n",
    "plt.ylabel(\"Temperatura [K]\")\n",
    "plt.grid(True)\n",
    "plt.show()\n"
   ]
  },
  {
   "cell_type": "code",
   "execution_count": 27,
   "metadata": {},
   "outputs": [
    {
     "data": {
      "image/png": "[encoded data removed]",
      "text/plain": [
       "<Figure size 640x480 with 1 Axes>"
      ]
     },
     "metadata": {},
     "output_type": "display_data"
    }
   ],
   "source": [
    "entropies = np.array([s_5, s_6a, s_7, s_8a, s_9], dtype=np.float16)\n",
    "temperatures = np.array([T_5, T_6a, T_7, T_8a, T_9], dtype= np.float16)\n",
    "plt.plot(entropies[:4], temperatures[:4], label=\"Aire\")\n",
    "# plt.legend()\n",
    "plt.xlabel(\"Entropía [kJ/kgK]\")\n",
    "plt.ylabel(\"Temperatura [K]\")\n",
    "plt.grid(True)\n",
    "plt.show()"
   ]
  }
 ],
 "metadata": {
  "kernelspec": {
   "display_name": "termodinamica",
   "language": "python",
   "name": "python3"
  },
  "language_info": {
   "codemirror_mode": {
    "name": "ipython",
    "version": 3
   },
   "file_extension": ".py",
   "mimetype": "text/x-python",
   "name": "python",
   "nbconvert_exporter": "python",
   "pygments_lexer": "ipython3",
   "version": "3.10.8"
  },
  "orig_nbformat": 4,
  "vscode": {
   "interpreter": {
    "hash": "42829ba761cc03814a4ca0fd5987a871f250071456647426b2d15a3a80433ab3"
   }
  }
 },
 "nbformat": 4,
 "nbformat_minor": 2
}
