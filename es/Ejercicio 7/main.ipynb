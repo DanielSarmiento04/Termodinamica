{
 "cells": [
  {
   "cell_type": "code",
   "execution_count": 1,
   "metadata": {},
   "outputs": [],
   "source": [
    "import matplotlib.pyplot as plt\n",
    "import numpy as np\n",
    "import pyromat as pyro\n",
    "%matplotlib inline"
   ]
  },
  {
   "cell_type": "code",
   "execution_count": 2,
   "metadata": {},
   "outputs": [],
   "source": [
    "pyro.config[\"unit_pressure\"]=\"kPa\""
   ]
  },
  {
   "cell_type": "code",
   "execution_count": 3,
   "metadata": {},
   "outputs": [],
   "source": [
    "# datos vapor agua\n",
    "p_1 = p_4 = 5 #kpa inferior\n",
    "x_1 = 0\n",
    "p_2 = p_3 = 7e3 # kpa superior\n",
    "T_3 = 500 + 273.15 # K salida intercambiador\n",
    "\n",
    "# datos aire\n",
    "T_5 = 300 # K entrada compresor\n",
    "T_7 = 1300 # K entrada turbina\n",
    "T_9 = 450 # K salida intercambiador\n",
    "relacion_presiones = 8\n",
    "eficiencia_compresor = 0.8\n",
    "eficiencia_turbina = 0.85"
   ]
  },
  {
   "cell_type": "code",
   "execution_count": 4,
   "metadata": {},
   "outputs": [],
   "source": [
    "agua = pyro.get('mp.H2O')\n",
    "aire = pyro.get('ig.air')"
   ]
  },
  {
   "cell_type": "code",
   "execution_count": 5,
   "metadata": {},
   "outputs": [
    {
     "data": {
      "text/plain": [
       "{'p': array([5.00006645]),\n",
       " 'T': array([306.02426473]),\n",
       " 'd': array([994.69887933]),\n",
       " 'x': array([0.]),\n",
       " 'e': array([137.74605276]),\n",
       " 'h': array([137.74134764]),\n",
       " 's': array([0.47620667]),\n",
       " 'cp': array([inf]),\n",
       " 'cv': array([nan]),\n",
       " 'gam': array([inf]),\n",
       " 'v': array([0.00100533])}"
      ]
     },
     "execution_count": 5,
     "metadata": {},
     "output_type": "execute_result"
    }
   ],
   "source": [
    "state_1 = agua.state(p=p_1,x=x_1)\n",
    "h_1 = state_1.get(\"h\")[0]\n",
    "s_1 = state_1.get(\"s\")[0]\n",
    "T_1 = state_1.get(\"T\")[0]\n",
    "v_1 = state_1.get(\"v\")[0]\n",
    "state_1"
   ]
  },
  {
   "cell_type": "code",
   "execution_count": 6,
   "metadata": {},
   "outputs": [
    {
     "data": {
      "text/plain": [
       "{'p': array([7000.00006281]),\n",
       " 'T': array([306.19512434]),\n",
       " 'd': array([997.72475991]),\n",
       " 'x': array([-1]),\n",
       " 'e': array([137.75667701]),\n",
       " 'h': array([144.77264007]),\n",
       " 's': array([0.47620666]),\n",
       " 'cp': array([4.16171129]),\n",
       " 'cv': array([4.08349729]),\n",
       " 'gam': array([1.01915368]),\n",
       " 'v': array([0.00100228])}"
      ]
     },
     "execution_count": 6,
     "metadata": {},
     "output_type": "execute_result"
    }
   ],
   "source": [
    "state_2 = agua.state(p=p_2,s=s_1)\n",
    "h_2 = state_2.get(\"h\")[0]\n",
    "s_2 = state_2.get(\"s\")[0]\n",
    "v_2 = state_2.get(\"v\")[0]\n",
    "T_2 = state_2.get(\"T\")[0]\n",
    "state_2"
   ]
  },
  {
   "cell_type": "code",
   "execution_count": 7,
   "metadata": {},
   "outputs": [
    {
     "data": {
      "text/plain": [
       "{'p': array([6999.99999385]),\n",
       " 'T': array([773.15]),\n",
       " 'd': array([20.76519422]),\n",
       " 'x': array([-1.]),\n",
       " 'e': array([3074.32846486]),\n",
       " 'h': array([3411.43101833]),\n",
       " 's': array([6.80002982]),\n",
       " 'cp': array([2.42613447]),\n",
       " 'cv': array([1.78897908]),\n",
       " 'gam': array([1.35615586]),\n",
       " 'v': array([0.04815751])}"
      ]
     },
     "execution_count": 7,
     "metadata": {},
     "output_type": "execute_result"
    }
   ],
   "source": [
    "state_3 = agua.state(p=p_3,T= T_3)\n",
    "h_3 = state_3.get(\"h\")[0]\n",
    "s_3 = state_3.get(\"s\")[0]\n",
    "v_3 = state_3.get(\"v\")[0]\n",
    "state_3"
   ]
  },
  {
   "cell_type": "code",
   "execution_count": 8,
   "metadata": {},
   "outputs": [
    {
     "data": {
      "text/plain": [
       "{'p': array([5.00006645]),\n",
       " 'T': array([306.02426473]),\n",
       " 'd': array([0.04442147]),\n",
       " 'x': array([0.79869675]),\n",
       " 'e': array([1960.43495642]),\n",
       " 'h': array([2072.99268689]),\n",
       " 's': array([6.80002982]),\n",
       " 'cp': array([inf]),\n",
       " 'cv': array([nan]),\n",
       " 'gam': array([inf]),\n",
       " 'v': array([22.51163872])}"
      ]
     },
     "execution_count": 8,
     "metadata": {},
     "output_type": "execute_result"
    }
   ],
   "source": [
    "state_4 = agua.state(p=p_4,s=s_3)\n",
    "h_4 = state_4.get(\"h\")[0]\n",
    "s_4 = state_4.get(\"s\")[0]\n",
    "v_4 = state_4.get(\"v\")[0]\n",
    "T_4 = state_4.get(\"T\")[0]\n",
    "x_4 = state_4.get(\"x\")[0]\n",
    "state_4"
   ]
  },
  {
   "cell_type": "code",
   "execution_count": 9,
   "metadata": {},
   "outputs": [
    {
     "data": {
      "text/plain": [
       "{'T': array([300.]),\n",
       " 'p': array([1.01325]),\n",
       " 'd': array([0.01176613]),\n",
       " 'v': array([84.98968434]),\n",
       " 'h': array([-2.4071345]),\n",
       " 'e': array([-88.52293216]),\n",
       " 'gam': array([1.39991606]),\n",
       " 's': array([8.02585047]),\n",
       " 'cp': array([1.00483493]),\n",
       " 'cv': array([0.71778227])}"
      ]
     },
     "execution_count": 9,
     "metadata": {},
     "output_type": "execute_result"
    }
   ],
   "source": [
    "state_5 = aire.state(T=T_5)\n",
    "h_5 = state_5.get(\"h\")[0]\n",
    "s_5 = state_5.get(\"s\")[0]\n",
    "v_5 = state_5.get(\"v\")[0]\n",
    "state_5"
   ]
  },
  {
   "cell_type": "code",
   "execution_count": null,
   "metadata": {},
   "outputs": [],
   "source": [
    "k_5_6 = 1.39\n",
    "T_6s = T_5 * pow(1/relacion_presiones, (1- k_5_6)/k_5_6)\n",
    "h_6s = aire.h(T=T_6s)[0]\n",
    "h_6a = h_5 + (h_6s - h_5)/eficiencia_compresor\n",
    "T_6a = aire.T(h=h_6a)\n",
    "state_6 = aire.state(T=T_6a)\n",
    "h_6a = state_6.get(\"h\")[0]\n",
    "s_6a = state_6.get(\"s\")[0]\n",
    "v_6a = state_6.get(\"v\")[0]\n",
    "state_6"
   ]
  },
  {
   "cell_type": "code",
   "execution_count": null,
   "metadata": {},
   "outputs": [],
   "source": [
    "state_7 = aire.state(T=T_7)\n",
    "h_7 = state_7.get(\"h\")[0]\n",
    "s_7 = state_7.get(\"s\")[0]\n",
    "v_7 = state_7.get(\"v\")[0]\n",
    "state_7"
   ]
  },
  {
   "cell_type": "code",
   "execution_count": 19,
   "metadata": {},
   "outputs": [
    {
     "data": {
      "text/plain": [
       "{'T': array([850.06683602]),\n",
       " 'p': array([1.01325]),\n",
       " 'd': array([0.00415243]),\n",
       " 'v': array([240.8230402]),\n",
       " 'h': array([574.78199999]),\n",
       " 'e': array([330.7680545]),\n",
       " 'gam': array([1.34858851]),\n",
       " 's': array([9.10921815]),\n",
       " 'cp': array([1.11052403]),\n",
       " 'cv': array([0.82347137])}"
      ]
     },
     "execution_count": 19,
     "metadata": {},
     "output_type": "execute_result"
    }
   ],
   "source": [
    "k_7_8 = 1.34\n",
    "T_8s = T_7 * pow(relacion_presiones, (1- k_7_8)/k_7_8)\n",
    "h_8s = aire.h(T=T_8s)[0]\n",
    "h_8a = h_7 - (h_7 - h_8s)*eficiencia_turbina\n",
    "T_8a = aire.T(h=h_8a)[0]\n",
    "state_8a = aire.state(T=T_8a)\n",
    "h_8a = state_8a.get(\"h\")[0]\n",
    "s_8a = state_8a.get(\"s\")[0]\n",
    "v_8a = state_8a.get(\"v\")[0]\n",
    "state_8a\n"
   ]
  },
  {
   "cell_type": "code",
   "execution_count": 12,
   "metadata": {},
   "outputs": [
    {
     "data": {
      "text/plain": [
       "{'T': array([450.]),\n",
       " 'p': array([1.01325]),\n",
       " 'd': array([0.00784409]),\n",
       " 'v': array([127.48452651]),\n",
       " 'h': array([149.36743277]),\n",
       " 'e': array([20.19373629]),\n",
       " 'gam': array([1.39092577]),\n",
       " 's': array([8.43588867]),\n",
       " 'cp': array([1.02134208]),\n",
       " 'cv': array([0.73428942])}"
      ]
     },
     "execution_count": 12,
     "metadata": {},
     "output_type": "execute_result"
    }
   ],
   "source": [
    "state_9 = aire.state(T=T_9)\n",
    "h_9 = state_9.get(\"h\")[0]\n",
    "s_9 = state_9.get(\"s\")[0]\n",
    "v_9 = state_9.get(\"v\")[0]\n",
    "state_9"
   ]
  },
  {
   "cell_type": "code",
   "execution_count": 20,
   "metadata": {},
   "outputs": [
    {
     "name": "stdout",
     "output_type": "stream",
     "text": [
      "Relación de flujo masico:  0.13022927957514832\n"
     ]
    }
   ],
   "source": [
    "relacion_flujo_masico = - (h_9 - h_8a)/ (h_3- h_2)\n",
    "print(\"Relación de flujo masico: \", relacion_flujo_masico)"
   ]
  },
  {
   "cell_type": "code",
   "execution_count": 31,
   "metadata": {},
   "outputs": [
    {
     "data": {
      "text/plain": [
       "792.747785247717"
      ]
     },
     "execution_count": 31,
     "metadata": {},
     "output_type": "execute_result"
    }
   ],
   "source": [
    "calor_entrada_aire = h_7 - h_6a\n",
    "calor_entrada_aire"
   ]
  },
  {
   "cell_type": "code",
   "execution_count": 29,
   "metadata": {},
   "outputs": [
    {
     "data": {
      "text/plain": [
       "425.41456721878393"
      ]
     },
     "execution_count": 29,
     "metadata": {},
     "output_type": "execute_result"
    }
   ],
   "source": [
    "calor_salida_aire = - (h_9 - h_8a)\n",
    "calor_salida_aire"
   ]
  },
  {
   "cell_type": "code",
   "execution_count": 26,
   "metadata": {},
   "outputs": [
    {
     "data": {
      "text/plain": [
       "1935.251339244318"
      ]
     },
     "execution_count": 26,
     "metadata": {},
     "output_type": "execute_result"
    }
   ],
   "source": [
    "calor_salida_vapor = - (h_1 - h_4)\n",
    "calor_salida_vapor"
   ]
  },
  {
   "cell_type": "code",
   "execution_count": 28,
   "metadata": {},
   "outputs": [
    {
     "data": {
      "text/plain": [
       "3266.6583782589387"
      ]
     },
     "execution_count": 28,
     "metadata": {},
     "output_type": "execute_result"
    }
   ],
   "source": [
    "calor_entrada_vapor = h_3 - h_2\n",
    "calor_entrada_vapor"
   ]
  },
  {
   "cell_type": "code",
   "execution_count": 34,
   "metadata": {},
   "outputs": [
    {
     "data": {
      "text/plain": [
       "0.4075746174977235"
      ]
     },
     "execution_count": 34,
     "metadata": {},
     "output_type": "execute_result"
    }
   ],
   "source": [
    "eficiencia_2 = 1 - calor_salida_vapor/calor_entrada_vapor \n",
    "eficiencia_2"
   ]
  },
  {
   "cell_type": "code",
   "execution_count": 33,
   "metadata": {},
   "outputs": [
    {
     "data": {
      "text/plain": [
       "0.46336706940675865"
      ]
     },
     "execution_count": 33,
     "metadata": {},
     "output_type": "execute_result"
    }
   ],
   "source": [
    "eficiencia_1 = 1 - calor_salida_aire/calor_entrada_aire\n",
    "eficiencia_1"
   ]
  },
  {
   "cell_type": "code",
   "execution_count": 25,
   "metadata": {},
   "outputs": [
    {
     "data": {
      "text/plain": [
       "0.6820850308299814"
      ]
     },
     "execution_count": 25,
     "metadata": {},
     "output_type": "execute_result"
    }
   ],
   "source": [
    "eficiencia_termica = 1 - (relacion_flujo_masico)*calor_salida/calor_entrada\n",
    "eficiencia_termica"
   ]
  }
 ],
 "metadata": {
  "kernelspec": {
   "display_name": "termodinamica",
   "language": "python",
   "name": "python3"
  },
  "language_info": {
   "codemirror_mode": {
    "name": "ipython",
    "version": 3
   },
   "file_extension": ".py",
   "mimetype": "text/x-python",
   "name": "python",
   "nbconvert_exporter": "python",
   "pygments_lexer": "ipython3",
   "version": "3.10.8"
  },
  "orig_nbformat": 4,
  "vscode": {
   "interpreter": {
    "hash": "42829ba761cc03814a4ca0fd5987a871f250071456647426b2d15a3a80433ab3"
   }
  }
 },
 "nbformat": 4,
 "nbformat_minor": 2
}
