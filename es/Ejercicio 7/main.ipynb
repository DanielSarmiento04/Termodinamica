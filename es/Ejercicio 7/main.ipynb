{
 "cells": [
  {
   "cell_type": "code",
   "execution_count": 1,
   "metadata": {},
   "outputs": [],
   "source": [
    "import matplotlib.pyplot as plt\n",
    "import numpy as np\n",
    "import pyromat as pyro\n",
    "%matplotlib inline"
   ]
  },
  {
   "cell_type": "code",
   "execution_count": 2,
   "metadata": {},
   "outputs": [],
   "source": [
    "# datos vapor agua\n",
    "p_1 = p_4 = 5 #kpa\n",
    "x_1 = 0\n",
    "p_2 = p_3 = 7e3 # kpa\n",
    "\n",
    "# datos aire\n",
    "T_5 = 300 # K\n",
    "T_7 = 1300 # K\n",
    "relacion_presiones = 8"
   ]
  },
  {
   "cell_type": "code",
   "execution_count": 5,
   "metadata": {},
   "outputs": [],
   "source": [
    "agua = pyro.get('mp.H2O')\n",
    "aire = pyro.get('ig.air')"
   ]
  },
  {
   "cell_type": "code",
   "execution_count": 7,
   "metadata": {},
   "outputs": [
    {
     "data": {
      "text/plain": [
       "{'p': array([4.99979754]),\n",
       " 'T': array([424.98151125]),\n",
       " 'd': array([915.29133902]),\n",
       " 'x': array([0.]),\n",
       " 'e': array([639.54607876]),\n",
       " 'h': array([640.09563612]),\n",
       " 's': array([1.86040396]),\n",
       " 'cp': array([inf]),\n",
       " 'cv': array([nan]),\n",
       " 'gam': array([inf]),\n",
       " 'v': array([0.00109255])}"
      ]
     },
     "execution_count": 7,
     "metadata": {},
     "output_type": "execute_result"
    }
   ],
   "source": [
    "state_1 = agua.state(p=p_1,x=x_1)\n",
    "h_1 = state_1.get(\"h\")\n",
    "s_1 = state_1.get(\"s\")\n",
    "T_1 = state_1.get(\"T\")\n",
    "v_1 = state_1.get(\"v\")\n",
    "state_1"
   ]
  },
  {
   "cell_type": "code",
   "execution_count": 8,
   "metadata": {},
   "outputs": [
    {
     "data": {
      "text/plain": [
       "{'p': array([7000.00003776]),\n",
       " 'T': array([477.12239481]),\n",
       " 'd': array([1096.80080651]),\n",
       " 'x': array([-1]),\n",
       " 'e': array([688.88850585]),\n",
       " 'h': array([1327.10831716]),\n",
       " 's': array([1.86040396]),\n",
       " 'cp': array([3.6732667]),\n",
       " 'cv': array([3.11141247]),\n",
       " 'gam': array([1.18057851]),\n",
       " 'v': array([0.00091174])}"
      ]
     },
     "execution_count": 8,
     "metadata": {},
     "output_type": "execute_result"
    }
   ],
   "source": [
    "state_2 = agua.state(p=p_2,s=s_1)\n",
    "h_2 = state_2.get(\"h\")\n",
    "s_2 = state_2.get(\"s\")\n",
    "v_2 = state_2.get(\"v\")\n",
    "T_2 = state_2.get(\"T\")\n",
    "state_2"
   ]
  }
 ],
 "metadata": {
  "kernelspec": {
   "display_name": "base",
   "language": "python",
   "name": "python3"
  },
  "language_info": {
   "codemirror_mode": {
    "name": "ipython",
    "version": 3
   },
   "file_extension": ".py",
   "mimetype": "text/x-python",
   "name": "python",
   "nbconvert_exporter": "python",
   "pygments_lexer": "ipython3",
   "version": "3.10.6"
  },
  "orig_nbformat": 4,
  "vscode": {
   "interpreter": {
    "hash": "c572d5174d38978ba02a3ac3c114ecb0cec161780d0cde2b670f1f68ef5adc30"
   }
  }
 },
 "nbformat": 4,
 "nbformat_minor": 2
}
