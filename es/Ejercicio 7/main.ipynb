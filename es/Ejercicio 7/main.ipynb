{
 "cells": [
  {
   "cell_type": "code",
   "execution_count": 13,
   "metadata": {},
   "outputs": [],
   "source": [
    "import matplotlib.pyplot as plt\n",
    "import numpy as np\n",
    "import pyromat as pyro\n",
    "%matplotlib inline"
   ]
  },
  {
   "cell_type": "code",
   "execution_count": 14,
   "metadata": {},
   "outputs": [],
   "source": [
    "pyro.config[\"unit_pressure\"]=\"kPa\""
   ]
  },
  {
   "cell_type": "code",
   "execution_count": 15,
   "metadata": {},
   "outputs": [],
   "source": [
    "# datos vapor agua\n",
    "p_1 = p_4 = 5 #kpa\n",
    "x_1 = 0\n",
    "p_2 = p_3 = 7e3 # kpa\n",
    "T_3 = 500 + 273.15 # K\n",
    "\n",
    "# datos aire\n",
    "T_5 = 300 # K\n",
    "T_7 = 1300 # K\n",
    "T_9 = 450 # K\n",
    "relacion_presiones = 8\n",
    "eficiencia_compresor = 0.8\n",
    "eficiencia_turbina = 0.85"
   ]
  },
  {
   "cell_type": "code",
   "execution_count": 16,
   "metadata": {},
   "outputs": [],
   "source": [
    "agua = pyro.get('mp.H2O')\n",
    "aire = pyro.get('ig.air')"
   ]
  },
  {
   "cell_type": "code",
   "execution_count": 17,
   "metadata": {},
   "outputs": [
    {
     "data": {
      "text/plain": [
       "{'p': array([5.00006645]),\n",
       " 'T': array([306.02426473]),\n",
       " 'd': array([994.69887933]),\n",
       " 'x': array([0.]),\n",
       " 'e': array([137.74605276]),\n",
       " 'h': array([137.74134764]),\n",
       " 's': array([0.47620667]),\n",
       " 'cp': array([inf]),\n",
       " 'cv': array([nan]),\n",
       " 'gam': array([inf]),\n",
       " 'v': array([0.00100533])}"
      ]
     },
     "execution_count": 17,
     "metadata": {},
     "output_type": "execute_result"
    }
   ],
   "source": [
    "state_1 = agua.state(p=p_1,x=x_1)\n",
    "h_1 = state_1.get(\"h\")\n",
    "s_1 = state_1.get(\"s\")\n",
    "T_1 = state_1.get(\"T\")\n",
    "v_1 = state_1.get(\"v\")\n",
    "state_1"
   ]
  },
  {
   "cell_type": "code",
   "execution_count": 18,
   "metadata": {},
   "outputs": [
    {
     "data": {
      "text/plain": [
       "{'p': array([7000.00006281]),\n",
       " 'T': array([306.19512434]),\n",
       " 'd': array([997.72475991]),\n",
       " 'x': array([-1]),\n",
       " 'e': array([137.75667701]),\n",
       " 'h': array([144.77264007]),\n",
       " 's': array([0.47620666]),\n",
       " 'cp': array([4.16171129]),\n",
       " 'cv': array([4.08349729]),\n",
       " 'gam': array([1.01915368]),\n",
       " 'v': array([0.00100228])}"
      ]
     },
     "execution_count": 18,
     "metadata": {},
     "output_type": "execute_result"
    }
   ],
   "source": [
    "state_2 = agua.state(p=p_2,s=s_1)\n",
    "h_2 = state_2.get(\"h\")\n",
    "s_2 = state_2.get(\"s\")\n",
    "v_2 = state_2.get(\"v\")\n",
    "T_2 = state_2.get(\"T\")\n",
    "state_2"
   ]
  },
  {
   "cell_type": "code",
   "execution_count": 20,
   "metadata": {},
   "outputs": [
    {
     "data": {
      "text/plain": [
       "{'p': array([6999.99999385]),\n",
       " 'T': array([773.15]),\n",
       " 'd': array([20.76519422]),\n",
       " 'x': array([-1.]),\n",
       " 'e': array([3074.32846486]),\n",
       " 'h': array([3411.43101833]),\n",
       " 's': array([6.80002982]),\n",
       " 'cp': array([2.42613447]),\n",
       " 'cv': array([1.78897908]),\n",
       " 'gam': array([1.35615586]),\n",
       " 'v': array([0.04815751])}"
      ]
     },
     "execution_count": 20,
     "metadata": {},
     "output_type": "execute_result"
    }
   ],
   "source": [
    "state_3 = agua.state(p=p_3,T= T_3)\n",
    "h_3 = state_3.get(\"h\")\n",
    "s_3 = state_3.get(\"s\")\n",
    "v_3 = state_3.get(\"v\")\n",
    "state_3"
   ]
  },
  {
   "cell_type": "code",
   "execution_count": 21,
   "metadata": {},
   "outputs": [
    {
     "data": {
      "text/plain": [
       "{'p': array([5.00006645]),\n",
       " 'T': array([306.02426473]),\n",
       " 'd': array([0.04442147]),\n",
       " 'x': array([0.79869675]),\n",
       " 'e': array([1960.43495642]),\n",
       " 'h': array([2072.99268689]),\n",
       " 's': array([6.80002982]),\n",
       " 'cp': array([inf]),\n",
       " 'cv': array([nan]),\n",
       " 'gam': array([inf]),\n",
       " 'v': array([22.51163872])}"
      ]
     },
     "execution_count": 21,
     "metadata": {},
     "output_type": "execute_result"
    }
   ],
   "source": [
    "state_4 = agua.state(p=p_4,s=s_3)\n",
    "h_4 = state_4.get(\"h\")\n",
    "s_4 = state_4.get(\"s\")\n",
    "v_4 = state_4.get(\"v\")\n",
    "T_4 = state_4.get(\"T\")\n",
    "state_4"
   ]
  },
  {
   "cell_type": "code",
   "execution_count": 22,
   "metadata": {},
   "outputs": [
    {
     "data": {
      "text/plain": [
       "{'T': array([300.]),\n",
       " 'p': array([1.01325]),\n",
       " 'd': array([0.01176613]),\n",
       " 'v': array([84.98968434]),\n",
       " 'h': array([-2.4071345]),\n",
       " 'e': array([-88.52293216]),\n",
       " 'gam': array([1.39991606]),\n",
       " 's': array([8.02585047]),\n",
       " 'cp': array([1.00483493]),\n",
       " 'cv': array([0.71778227])}"
      ]
     },
     "execution_count": 22,
     "metadata": {},
     "output_type": "execute_result"
    }
   ],
   "source": [
    "state_5 = aire.state(T=T_5)\n",
    "state_5"
   ]
  },
  {
   "cell_type": "code",
   "execution_count": 23,
   "metadata": {},
   "outputs": [
    {
     "data": {
      "text/plain": [
       "{'T': array([1300.]),\n",
       " 'p': array([1.01325]),\n",
       " 'd': array([0.00271526]),\n",
       " 'v': array([368.28863214]),\n",
       " 'h': array([1092.80276699]),\n",
       " 'e': array([719.63431047]),\n",
       " 'gam': array([1.31970267]),\n",
       " 's': array([9.59720945]),\n",
       " 'cp': array([1.18492647]),\n",
       " 'cv': array([0.89787381])}"
      ]
     },
     "execution_count": 23,
     "metadata": {},
     "output_type": "execute_result"
    }
   ],
   "source": [
    "state_7 = aire.state(T=T_7)\n",
    "state_7"
   ]
  }
 ],
 "metadata": {
  "kernelspec": {
   "display_name": "termodinamica",
   "language": "python",
   "name": "python3"
  },
  "language_info": {
   "codemirror_mode": {
    "name": "ipython",
    "version": 3
   },
   "file_extension": ".py",
   "mimetype": "text/x-python",
   "name": "python",
   "nbconvert_exporter": "python",
   "pygments_lexer": "ipython3",
   "version": "3.10.8"
  },
  "orig_nbformat": 4,
  "vscode": {
   "interpreter": {
    "hash": "42829ba761cc03814a4ca0fd5987a871f250071456647426b2d15a3a80433ab3"
   }
  }
 },
 "nbformat": 4,
 "nbformat_minor": 2
}
