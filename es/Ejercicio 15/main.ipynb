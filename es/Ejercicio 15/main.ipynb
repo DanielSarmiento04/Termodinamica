{
 "cells": [
  {
   "attachments": {},
   "cell_type": "markdown",
   "metadata": {},
   "source": [
    "Un compresor adiabático funciona con aire inicialmente a 1,0 bar, 300 K y 70 m/s. Las condiciones a la salida son de 5,0 bar, 540 K y 150 m/s. Determine (a) el trabajo real suministrado, (b) el trabajo (mínimo) reversible requerido con los mismos estados inicial y final, (c) la irreversibilidad del proceso real, dando todas las respuestas en kJ/kg. Suponga que el valor c_p es constante e igual a 1,01 kJ/kg.K, y que la atmósfera está a 1,0 bar y 17 °C\n",
    "\n",
    "![image](./img_description.png)"
   ]
  },
  {
   "cell_type": "code",
   "execution_count": 2,
   "metadata": {},
   "outputs": [],
   "source": [
    "import pyromat as pyro\n",
    "import numpy as np\n",
    "import matplotlib.pyplot as plt\n"
   ]
  }
 ],
 "metadata": {
  "kernelspec": {
   "display_name": "termodinamica",
   "language": "python",
   "name": "python3"
  },
  "language_info": {
   "codemirror_mode": {
    "name": "ipython",
    "version": 3
   },
   "file_extension": ".py",
   "mimetype": "text/x-python",
   "name": "python",
   "nbconvert_exporter": "python",
   "pygments_lexer": "ipython3",
   "version": "3.10.8"
  },
  "orig_nbformat": 4,
  "vscode": {
   "interpreter": {
    "hash": "42829ba761cc03814a4ca0fd5987a871f250071456647426b2d15a3a80433ab3"
   }
  }
 },
 "nbformat": 4,
 "nbformat_minor": 2
}
