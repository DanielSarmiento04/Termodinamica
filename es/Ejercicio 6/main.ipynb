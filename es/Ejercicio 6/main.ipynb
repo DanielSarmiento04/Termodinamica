{
 "cells": [
  {
   "cell_type": "markdown",
   "metadata": {},
   "source": [
    "### Configuración de la librerías"
   ]
  },
  {
   "cell_type": "code",
   "execution_count": 16,
   "metadata": {},
   "outputs": [],
   "source": [
    "import matplotlib.pyplot as plt\n",
    "import numpy as np\n",
    "import pyromat as pyro\n",
    "%matplotlib inline"
   ]
  },
  {
   "cell_type": "code",
   "execution_count": 17,
   "metadata": {},
   "outputs": [],
   "source": [
    "agua = pyro.get('mp.H2O')"
   ]
  },
  {
   "cell_type": "code",
   "execution_count": 18,
   "metadata": {},
   "outputs": [],
   "source": [
    "pyro.config[\"unit_pressure\"]=\"kPa\""
   ]
  },
  {
   "cell_type": "markdown",
   "metadata": {},
   "source": [
    "### Establecer datos conocidos"
   ]
  },
  {
   "cell_type": "code",
   "execution_count": 19,
   "metadata": {},
   "outputs": [],
   "source": [
    "T_5 = 600+273.15 # K\n",
    "p_1 = p_7 = 10  #Kpa\n",
    "p_5 = p_4 = 15e3 #Kpa\n",
    "p_3 = p_2 = p_6 = 1.2e3 #Kpa\n",
    "x_1 = x_3 = 0"
   ]
  },
  {
   "cell_type": "code",
   "execution_count": 20,
   "metadata": {},
   "outputs": [
    {
     "data": {
      "text/plain": [
       "{'p': array([10.00017582]),\n",
       " 'T': array([318.9556078]),\n",
       " 'd': array([989.82852633]),\n",
       " 'x': array([0.]),\n",
       " 'e': array([191.79646521]),\n",
       " 'h': array([191.79488495]),\n",
       " 's': array([0.64919807]),\n",
       " 'cp': array([inf]),\n",
       " 'cv': array([nan]),\n",
       " 'gam': array([inf]),\n",
       " 'v': array([0.00101028])}"
      ]
     },
     "execution_count": 20,
     "metadata": {},
     "output_type": "execute_result"
    }
   ],
   "source": [
    "state_1 = agua.state(p=p_1, x=x_1)\n",
    "h_1 = state_1.get(\"h\")[0]\n",
    "T_1 = state_1.get(\"T\")[0]\n",
    "s_1 = state_1.get(\"s\")[0]\n",
    "v_1 = state_1.get(\"v\")[0]\n",
    "state_1"
   ]
  },
  {
   "cell_type": "code",
   "execution_count": 21,
   "metadata": {},
   "outputs": [
    {
     "data": {
      "text/plain": [
       "{'p': array([1200.00012402]),\n",
       " 'T': array([318.99530572]),\n",
       " 'd': array([990.33619827]),\n",
       " 'x': array([-1]),\n",
       " 'e': array([191.79677225]),\n",
       " 'h': array([193.0084821]),\n",
       " 's': array([0.64919806]),\n",
       " 'cp': array([4.17777012]),\n",
       " 'cv': array([4.0432639]),\n",
       " 'gam': array([1.03326674]),\n",
       " 'v': array([0.00100976])}"
      ]
     },
     "execution_count": 21,
     "metadata": {},
     "output_type": "execute_result"
    }
   ],
   "source": [
    "state_2 = agua.state(p=p_2, s=s_1)\n",
    "h_2 = state_2.get(\"h\")[0]\n",
    "s_2 = state_2.get(\"s\")[0]\n",
    "T_2 = state_2.get(\"T\")[0]\n",
    "v_2 = state_2.get(\"v\")[0]\n",
    "state_2"
   ]
  },
  {
   "cell_type": "code",
   "execution_count": 22,
   "metadata": {},
   "outputs": [
    {
     "data": {
      "text/plain": [
       "{'p': array([1200.00131777]),\n",
       " 'T': array([461.10656797]),\n",
       " 'd': array([878.35254269]),\n",
       " 'x': array([0.]),\n",
       " 'e': array([796.96501371]),\n",
       " 'h': array([798.34000303]),\n",
       " 's': array([2.21593584]),\n",
       " 'cp': array([inf]),\n",
       " 'cv': array([nan]),\n",
       " 'gam': array([inf]),\n",
       " 'v': array([0.0011385])}"
      ]
     },
     "execution_count": 22,
     "metadata": {},
     "output_type": "execute_result"
    }
   ],
   "source": [
    "state_3 = agua.state(p=p_3, x=x_3)  \n",
    "s_3 = state_3.get(\"s\")[0]\n",
    "h_3 = state_3.get(\"h\")[0]\n",
    "T_3 = state_3.get(\"T\")[0]\n",
    "v_3 = state_3.get(\"v\")[0]\n",
    "state_3"
   ]
  },
  {
   "cell_type": "code",
   "execution_count": 23,
   "metadata": {},
   "outputs": [
    {
     "data": {
      "text/plain": [
       "{'p': array([15000.00000425]),\n",
       " 'T': array([463.15092191]),\n",
       " 'd': array([885.50521243]),\n",
       " 'x': array([-1]),\n",
       " 'e': array([797.0385814]),\n",
       " 'h': array([813.97806385]),\n",
       " 's': array([2.21593544]),\n",
       " 'cp': array([4.3828252]),\n",
       " 'cv': array([3.34645976]),\n",
       " 'gam': array([1.3096901]),\n",
       " 'v': array([0.0011293])}"
      ]
     },
     "execution_count": 23,
     "metadata": {},
     "output_type": "execute_result"
    }
   ],
   "source": [
    "state_4 = agua.state(p=p_4, s=s_3)\n",
    "h_4 = state_4.get(\"h\")[0]\n",
    "s_4 = state_4.get(\"s\")[0]\n",
    "T_4 = state_4.get(\"T\")[0]\n",
    "v_4 = state_4.get(\"v\")[0]\n",
    "state_4"
   ]
  },
  {
   "cell_type": "code",
   "execution_count": 24,
   "metadata": {},
   "outputs": [
    {
     "data": {
      "text/plain": [
       "{'p': array([14999.99992027]),\n",
       " 'T': array([873.15]),\n",
       " 'd': array([40.12626917]),\n",
       " 'x': array([-1.]),\n",
       " 'e': array([3209.35133926]),\n",
       " 'h': array([3583.17128893]),\n",
       " 's': array([6.67966684]),\n",
       " 'cp': array([2.60977799]),\n",
       " 'cv': array([1.88973013]),\n",
       " 'gam': array([1.38103211]),\n",
       " 'v': array([0.02492133])}"
      ]
     },
     "execution_count": 24,
     "metadata": {},
     "output_type": "execute_result"
    }
   ],
   "source": [
    "state_5 = agua.state(p=p_5, T=T_5)\n",
    "h_5 = state_5.get(\"h\")[0]\n",
    "s_5 = state_5.get(\"s\")[0]\n",
    "v_5 = state_5.get(\"v\")[0]\n",
    "state_5"
   ]
  },
  {
   "cell_type": "code",
   "execution_count": 26,
   "metadata": {},
   "outputs": [
    {
     "data": {
      "text/plain": [
       "{'p': array([1199.99999996]),\n",
       " 'T': array([490.27626146]),\n",
       " 'd': array([5.63283377]),\n",
       " 'x': array([-1]),\n",
       " 'e': array([2645.77337956]),\n",
       " 'h': array([2858.81002295]),\n",
       " 's': array([6.67966683]),\n",
       " 'cp': array([2.423207]),\n",
       " 'cv': array([1.7463739]),\n",
       " 'gam': array([1.38756482]),\n",
       " 'v': array([0.17753054])}"
      ]
     },
     "execution_count": 26,
     "metadata": {},
     "output_type": "execute_result"
    }
   ],
   "source": [
    "state_6 = agua.state(p=p_6, s=s_5)\n",
    "h_6 = state_6.get(\"h\")[0]\n",
    "s_6 = state_6.get(\"s\")[0]\n",
    "T_6 = state_6.get(\"T\")[0]   \n",
    "v_6 = state_6.get(\"v\")[0]\n",
    "state_6\n"
   ]
  },
  {
   "cell_type": "code",
   "execution_count": 31,
   "metadata": {},
   "outputs": [
    {
     "data": {
      "text/plain": [
       "{'p': array([10.00017582]),\n",
       " 'T': array([318.9556078]),\n",
       " 'd': array([0.08477263]),\n",
       " 'x': array([0.80409453]),\n",
       " 'e': array([1997.29889306]),\n",
       " 'h': array([2115.26127639]),\n",
       " 's': array([6.67966683]),\n",
       " 'cp': array([inf]),\n",
       " 'cv': array([nan]),\n",
       " 'gam': array([inf]),\n",
       " 'v': array([11.79625982])}"
      ]
     },
     "execution_count": 31,
     "metadata": {},
     "output_type": "execute_result"
    }
   ],
   "source": [
    "state_7 = agua.state(p=p_7, s=s_6)\n",
    "h_7 = state_7.get(\"h\")[0]\n",
    "s_7 = state_7.get(\"s\")[0]\n",
    "T_7 = state_7.get(\"T\")[0]\n",
    "v_7 = state_7.get(\"v\")[0]\n",
    "state_7\n"
   ]
  },
  {
   "cell_type": "code",
   "execution_count": null,
   "metadata": {},
   "outputs": [],
   "source": []
  }
 ],
 "metadata": {
  "kernelspec": {
   "display_name": "Python 3.10.8 ('termodinamica')",
   "language": "python",
   "name": "python3"
  },
  "language_info": {
   "codemirror_mode": {
    "name": "ipython",
    "version": 3
   },
   "file_extension": ".py",
   "mimetype": "text/x-python",
   "name": "python",
   "nbconvert_exporter": "python",
   "pygments_lexer": "ipython3",
   "version": "3.10.8"
  },
  "orig_nbformat": 4,
  "vscode": {
   "interpreter": {
    "hash": "42829ba761cc03814a4ca0fd5987a871f250071456647426b2d15a3a80433ab3"
   }
  }
 },
 "nbformat": 4,
 "nbformat_minor": 2
}
