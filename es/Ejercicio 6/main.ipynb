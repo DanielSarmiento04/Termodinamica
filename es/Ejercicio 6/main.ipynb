{
 "cells": [
  {
   "cell_type": "markdown",
   "metadata": {},
   "source": [
    "### Configuración de la librerías"
   ]
  },
  {
   "cell_type": "code",
   "execution_count": 2,
   "metadata": {},
   "outputs": [],
   "source": [
    "import matplotlib.pyplot as plt\n",
    "import numpy as np\n",
    "import pyromat as pyro\n",
    "%matplotlib inline"
   ]
  },
  {
   "cell_type": "code",
   "execution_count": 3,
   "metadata": {},
   "outputs": [],
   "source": [
    "agua = pyro.get('mp.H2O')   "
   ]
  },
  {
   "cell_type": "code",
   "execution_count": 4,
   "metadata": {},
   "outputs": [],
   "source": [
    "pyro.config[\"unit_pressure\"]=\"kPa\""
   ]
  },
  {
   "cell_type": "markdown",
   "metadata": {},
   "source": [
    "### Establecer datos conocidos"
   ]
  },
  {
   "cell_type": "code",
   "execution_count": 5,
   "metadata": {},
   "outputs": [],
   "source": [
    "T_5 = 600+273.15 # K\n",
    "p_1 = p_7 = 10  #Kpa\n",
    "p_5 = p_4 = 15e3 #Kpa\n",
    "p_3 = p_2 = p_6 = 1.2e3 #Kpa\n",
    "x_1 = x_3 = 0"
   ]
  },
  {
   "cell_type": "code",
   "execution_count": 6,
   "metadata": {},
   "outputs": [
    {
     "data": {
      "text/plain": [
       "{'p': array([10.00017582]),\n",
       " 'T': array([318.9556078]),\n",
       " 'd': array([989.82852633]),\n",
       " 'x': array([0.]),\n",
       " 'e': array([191.79646521]),\n",
       " 'h': array([191.79488495]),\n",
       " 's': array([0.64919807]),\n",
       " 'cp': array([inf]),\n",
       " 'cv': array([nan]),\n",
       " 'gam': array([inf]),\n",
       " 'v': array([0.00101028])}"
      ]
     },
     "execution_count": 6,
     "metadata": {},
     "output_type": "execute_result"
    }
   ],
   "source": [
    "state_1 = agua.state(p=p_1, x=x_1)\n",
    "h_1 = state_1.get(\"h\")[0]\n",
    "T_1 = state_1.get(\"T\")[0]\n",
    "s_1 = state_1.get(\"s\")[0]\n",
    "v_1 = state_1.get(\"v\")[0]\n",
    "state_1"
   ]
  },
  {
   "cell_type": "code",
   "execution_count": 7,
   "metadata": {},
   "outputs": [
    {
     "data": {
      "text/plain": [
       "{'p': array([1200.00012402]),\n",
       " 'T': array([318.99530572]),\n",
       " 'd': array([990.33619827]),\n",
       " 'x': array([-1]),\n",
       " 'e': array([191.79677225]),\n",
       " 'h': array([193.0084821]),\n",
       " 's': array([0.64919806]),\n",
       " 'cp': array([4.17777012]),\n",
       " 'cv': array([4.0432639]),\n",
       " 'gam': array([1.03326674]),\n",
       " 'v': array([0.00100976])}"
      ]
     },
     "execution_count": 7,
     "metadata": {},
     "output_type": "execute_result"
    }
   ],
   "source": [
    "state_2 = agua.state(p=p_2, s=s_1)\n",
    "h_2 = state_2.get(\"h\")[0]\n",
    "s_2 = state_2.get(\"s\")[0]\n",
    "T_2 = state_2.get(\"T\")[0]\n",
    "v_2 = state_2.get(\"v\")[0]\n",
    "state_2"
   ]
  },
  {
   "cell_type": "code",
   "execution_count": 8,
   "metadata": {},
   "outputs": [
    {
     "data": {
      "text/plain": [
       "{'p': array([1200.00131777]),\n",
       " 'T': array([461.10656797]),\n",
       " 'd': array([878.35254269]),\n",
       " 'x': array([0.]),\n",
       " 'e': array([796.96501371]),\n",
       " 'h': array([798.34000303]),\n",
       " 's': array([2.21593584]),\n",
       " 'cp': array([inf]),\n",
       " 'cv': array([nan]),\n",
       " 'gam': array([inf]),\n",
       " 'v': array([0.0011385])}"
      ]
     },
     "execution_count": 8,
     "metadata": {},
     "output_type": "execute_result"
    }
   ],
   "source": [
    "state_3 = agua.state(p=p_3, x=x_3)  \n",
    "s_3 = state_3.get(\"s\")[0]\n",
    "h_3 = state_3.get(\"h\")[0]\n",
    "T_3 = state_3.get(\"T\")[0]\n",
    "v_3 = state_3.get(\"v\")[0]\n",
    "state_3"
   ]
  },
  {
   "cell_type": "code",
   "execution_count": 9,
   "metadata": {},
   "outputs": [
    {
     "data": {
      "text/plain": [
       "{'p': array([15000.00000425]),\n",
       " 'T': array([463.15092191]),\n",
       " 'd': array([885.50521243]),\n",
       " 'x': array([-1]),\n",
       " 'e': array([797.0385814]),\n",
       " 'h': array([813.97806385]),\n",
       " 's': array([2.21593544]),\n",
       " 'cp': array([4.3828252]),\n",
       " 'cv': array([3.34645976]),\n",
       " 'gam': array([1.3096901]),\n",
       " 'v': array([0.0011293])}"
      ]
     },
     "execution_count": 9,
     "metadata": {},
     "output_type": "execute_result"
    }
   ],
   "source": [
    "state_4 = agua.state(p=p_4, s=s_3)\n",
    "h_4 = state_4.get(\"h\")[0]\n",
    "s_4 = state_4.get(\"s\")[0]\n",
    "T_4 = state_4.get(\"T\")[0]\n",
    "v_4 = state_4.get(\"v\")[0]\n",
    "state_4"
   ]
  },
  {
   "cell_type": "code",
   "execution_count": 10,
   "metadata": {},
   "outputs": [
    {
     "data": {
      "text/plain": [
       "{'p': array([14999.99992027]),\n",
       " 'T': array([873.15]),\n",
       " 'd': array([40.12626917]),\n",
       " 'x': array([-1.]),\n",
       " 'e': array([3209.35133926]),\n",
       " 'h': array([3583.17128893]),\n",
       " 's': array([6.67966684]),\n",
       " 'cp': array([2.60977799]),\n",
       " 'cv': array([1.88973013]),\n",
       " 'gam': array([1.38103211]),\n",
       " 'v': array([0.02492133])}"
      ]
     },
     "execution_count": 10,
     "metadata": {},
     "output_type": "execute_result"
    }
   ],
   "source": [
    "state_5 = agua.state(p=p_5, T=T_5)\n",
    "h_5 = state_5.get(\"h\")[0]\n",
    "s_5 = state_5.get(\"s\")[0]\n",
    "v_5 = state_5.get(\"v\")[0]\n",
    "state_5"
   ]
  },
  {
   "cell_type": "code",
   "execution_count": 11,
   "metadata": {},
   "outputs": [
    {
     "data": {
      "text/plain": [
       "{'p': array([1199.99999996]),\n",
       " 'T': array([490.27626146]),\n",
       " 'd': array([5.63283377]),\n",
       " 'x': array([-1]),\n",
       " 'e': array([2645.77337956]),\n",
       " 'h': array([2858.81002295]),\n",
       " 's': array([6.67966683]),\n",
       " 'cp': array([2.423207]),\n",
       " 'cv': array([1.7463739]),\n",
       " 'gam': array([1.38756482]),\n",
       " 'v': array([0.17753054])}"
      ]
     },
     "execution_count": 11,
     "metadata": {},
     "output_type": "execute_result"
    }
   ],
   "source": [
    "state_6 = agua.state(p=p_6, s=s_5)\n",
    "h_6 = state_6.get(\"h\")[0]\n",
    "s_6 = state_6.get(\"s\")[0]\n",
    "T_6 = state_6.get(\"T\")[0]   \n",
    "v_6 = state_6.get(\"v\")[0]\n",
    "state_6\n"
   ]
  },
  {
   "cell_type": "code",
   "execution_count": 12,
   "metadata": {},
   "outputs": [
    {
     "data": {
      "text/plain": [
       "{'p': array([10.00017582]),\n",
       " 'T': array([318.9556078]),\n",
       " 'd': array([0.08477263]),\n",
       " 'x': array([0.80409453]),\n",
       " 'e': array([1997.29889306]),\n",
       " 'h': array([2115.26127639]),\n",
       " 's': array([6.67966683]),\n",
       " 'cp': array([inf]),\n",
       " 'cv': array([nan]),\n",
       " 'gam': array([inf]),\n",
       " 'v': array([11.79625982])}"
      ]
     },
     "execution_count": 12,
     "metadata": {},
     "output_type": "execute_result"
    }
   ],
   "source": [
    "state_7 = agua.state(p=p_7, s=s_6)\n",
    "h_7 = state_7.get(\"h\")[0]\n",
    "s_7 = state_7.get(\"s\")[0]\n",
    "T_7 = state_7.get(\"T\")[0]\n",
    "v_7 = state_7.get(\"v\")[0]\n",
    "state_7\n"
   ]
  },
  {
   "cell_type": "code",
   "execution_count": 13,
   "metadata": {},
   "outputs": [
    {
     "name": "stdout",
     "output_type": "stream",
     "text": [
      "trabajo bomba2 a volumen constate 15.711231344263414\n",
      "trabajo bomba2 1era ley 15.638060818967801\n"
     ]
    }
   ],
   "source": [
    "# Bomba 2 suposición de v constante\n",
    "w_bomba_2 = v_3 * (p_4 - p_3)\n",
    "print(\"trabajo bomba2 a volumen constate\" ,w_bomba_2)\n",
    "#  primera ley de termodinámica\n",
    "w_bomba_2 = h_4 - h_3\n",
    "print(\"trabajo bomba2 1era ley\" ,w_bomba_2)"
   ]
  },
  {
   "cell_type": "code",
   "execution_count": 14,
   "metadata": {},
   "outputs": [
    {
     "name": "stdout",
     "output_type": "stream",
     "text": [
      "Fracción de vapor extraído 0.22707298786311028\n"
     ]
    }
   ],
   "source": [
    "# Calculo de la fracción vapor extraído de la turbina\n",
    "y = (h_3 - h_2) / (h_6 - h_2)\n",
    "print(\"Fracción de vapor extraído\", y)"
   ]
  },
  {
   "cell_type": "code",
   "execution_count": 15,
   "metadata": {},
   "outputs": [
    {
     "name": "stdout",
     "output_type": "stream",
     "text": [
      "trabajo bomba1 a volumen constate 1.2022284348695134\n",
      "trabajo bomba1 1era ley 1.2135971460104713\n"
     ]
    }
   ],
   "source": [
    "# Bomba 1 suposición de v constante\n",
    "w_bomba_1 = v_1 * (p_2 - p_1)\n",
    "print(\"trabajo bomba1 a volumen constate\" ,w_bomba_1)\n",
    "#  primera ley de termodinámica\n",
    "w_bomba_1 = h_2 - h_1\n",
    "print(\"trabajo bomba1 1era ley\" ,w_bomba_1)"
   ]
  },
  {
   "cell_type": "code",
   "execution_count": 16,
   "metadata": {},
   "outputs": [
    {
     "data": {
      "text/plain": [
       "16.576082834971533"
      ]
     },
     "execution_count": 16,
     "metadata": {},
     "output_type": "execute_result"
    }
   ],
   "source": [
    "w_total_entrada = (1 - y) * w_bomba_1 + w_bomba_2\n",
    "w_total_entrada"
   ]
  },
  {
   "attachments": {},
   "cell_type": "markdown",
   "metadata": {},
   "source": [
    "### Se calcula el trabajo total de la turbina"
   ]
  },
  {
   "cell_type": "code",
   "execution_count": 17,
   "metadata": {},
   "outputs": [
    {
     "data": {
      "text/plain": [
       "1299.0701770344467"
      ]
     },
     "execution_count": 17,
     "metadata": {},
     "output_type": "execute_result"
    }
   ],
   "source": [
    "w_turbina = h_5 - ( (y * h_6)  + ( (1-y)*h_7 )) \n",
    "w_turbina"
   ]
  },
  {
   "cell_type": "code",
   "execution_count": 18,
   "metadata": {},
   "outputs": [
    {
     "data": {
      "text/plain": [
       "1282.4940941994753"
      ]
     },
     "execution_count": 18,
     "metadata": {},
     "output_type": "execute_result"
    }
   ],
   "source": [
    "w_neto = w_turbina - w_total_entrada\n",
    "w_neto"
   ]
  },
  {
   "cell_type": "code",
   "execution_count": 19,
   "metadata": {},
   "outputs": [
    {
     "data": {
      "text/plain": [
       "2769.1932250793393"
      ]
     },
     "execution_count": 19,
     "metadata": {},
     "output_type": "execute_result"
    }
   ],
   "source": [
    "q_entrada = h_5 - h_4\n",
    "q_entrada"
   ]
  },
  {
   "attachments": {},
   "cell_type": "markdown",
   "metadata": {},
   "source": [
    "### Calculamos la eficiencia térmica"
   ]
  },
  {
   "cell_type": "code",
   "execution_count": 20,
   "metadata": {},
   "outputs": [
    {
     "name": "stdout",
     "output_type": "stream",
     "text": [
      "La eficiencia  es de 46.31\n"
     ]
    }
   ],
   "source": [
    "eficiencia = w_neto / q_entrada\n",
    "print(\"La eficiencia  es de\", round(eficiencia*100, 2))"
   ]
  },
  {
   "cell_type": "code",
   "execution_count": 21,
   "metadata": {},
   "outputs": [
    {
     "data": {
      "text/plain": [
       "1486.6991308798642"
      ]
     },
     "execution_count": 21,
     "metadata": {},
     "output_type": "execute_result"
    }
   ],
   "source": [
    "q_salida = (1 - y)*(h_7 - h_1)\n",
    "q_salida"
   ]
  },
  {
   "cell_type": "code",
   "execution_count": 22,
   "metadata": {},
   "outputs": [
    {
     "name": "stdout",
     "output_type": "stream",
     "text": [
      "La eficiencia  es de 46.31\n"
     ]
    }
   ],
   "source": [
    "eficiencia = 1 - q_salida / q_entrada\n",
    "print(\"La eficiencia  es de\", round(eficiencia*100, 2))"
   ]
  },
  {
   "attachments": {},
   "cell_type": "markdown",
   "metadata": {},
   "source": [
    "### Se realizara una grafica para visualizar el proceso realizado"
   ]
  },
  {
   "attachments": {},
   "cell_type": "markdown",
   "metadata": {},
   "source": [
    "#### Se establece un array para cada linea isotérmica cuyo valor  sera la entropía, luego de esto se establece la temperatura con la función agua.T, se le pasara el array de entropía y y la presión dada.  "
   ]
  },
  {
   "cell_type": "code",
   "execution_count": 64,
   "metadata": {},
   "outputs": [],
   "source": [
    "iso_pressure_entropies_1 = np.linspace(s_1-0.6, s_7 + 2, 100)\n",
    "iso_pressure_temperatures_1 = agua.T(s=iso_pressure_entropies_1, p=p_1)"
   ]
  },
  {
   "cell_type": "code",
   "execution_count": 70,
   "metadata": {},
   "outputs": [],
   "source": [
    "iso_pressure_entropies_2 = np.linspace(s_2, s_6, 100)\n",
    "iso_pressure_temperatures_2 = agua.T(s=iso_pressure_entropies_2, p=p_3)"
   ]
  },
  {
   "cell_type": "code",
   "execution_count": 71,
   "metadata": {},
   "outputs": [
    {
     "name": "stdout",
     "output_type": "stream",
     "text": [
      "PM WARN: _ar():: b<1 in the ar2 term. This causes singularities in\n",
      "PM WARN: derivatives very close to the critical point.\n",
      "PM WARN: _ar():: b<2 in the ar2 term. This causes singularities in second\n",
      "PM WARN: derivatives very close to the critical point.\n",
      "PM WARN: _ar():: b<1 in the ar2 term. This causes singularities in\n",
      "PM WARN: derivatives very close to the critical point.\n",
      "PM WARN: _ar():: b<2 in the ar2 term. This causes singularities in second\n",
      "PM WARN: derivatives very close to the critical point.\n",
      "PM WARN: _ar():: b<1 in the ar2 term. This causes singularities in\n",
      "PM WARN: derivatives very close to the critical point.\n",
      "PM WARN: _ar():: b<2 in the ar2 term. This causes singularities in second\n",
      "PM WARN: derivatives very close to the critical point.\n",
      "PM WARN: _ar():: b<1 in the ar2 term. This causes singularities in\n",
      "PM WARN: derivatives very close to the critical point.\n",
      "PM WARN: _ar():: b<2 in the ar2 term. This causes singularities in second\n",
      "PM WARN: derivatives very close to the critical point.\n",
      "PM WARN: _ar():: b<1 in the ar2 term. This causes singularities in\n",
      "PM WARN: derivatives very close to the critical point.\n",
      "PM WARN: _ar():: b<2 in the ar2 term. This causes singularities in second\n",
      "PM WARN: derivatives very close to the critical point.\n",
      "PM WARN: _ar():: b<1 in the ar2 term. This causes singularities in\n",
      "PM WARN: derivatives very close to the critical point.\n",
      "PM WARN: _ar():: b<2 in the ar2 term. This causes singularities in second\n",
      "PM WARN: derivatives very close to the critical point.\n"
     ]
    }
   ],
   "source": [
    "iso_pressure_entropies_3 = np.linspace(s_1, s_5, 100)\n",
    "iso_pressure_temperatures_3 = agua.T(s=iso_pressure_entropies_3, p=p_5)"
   ]
  },
  {
   "attachments": {},
   "cell_type": "markdown",
   "metadata": {},
   "source": [
    "### Se procede a realizar el domo de saturación, "
   ]
  },
  {
   "cell_type": "code",
   "execution_count": 75,
   "metadata": {},
   "outputs": [],
   "source": [
    "T_critica = agua.critical()[0]"
   ]
  },
  {
   "cell_type": "code",
   "execution_count": 105,
   "metadata": {},
   "outputs": [],
   "source": [
    "temperatura_saturacion = np.linspace(T_1 - 40 , T_critica - 0.6, 100)\n",
    "entropia_saturacion = agua.ss(T=temperatura_saturacion)"
   ]
  },
  {
   "cell_type": "code",
   "execution_count": 106,
   "metadata": {},
   "outputs": [
    {
     "data": {
      "image/png": "[encoded data removed]",
      "text/plain": [
       "<Figure size 640x480 with 1 Axes>"
      ]
     },
     "metadata": {},
     "output_type": "display_data"
    }
   ],
   "source": [
    "plt.scatter([s_1, s_2, s_3, s_4, s_5, s_6, s_7], [T_1, T_2, T_3, T_4, T_5, T_6, T_7], color=\"red\")\n",
    "# Lineas isotérmicas\n",
    "plt.plot(iso_pressure_entropies_1, iso_pressure_temperatures_1, color=\"blue\")\n",
    "plt.plot(iso_pressure_entropies_2, iso_pressure_temperatures_2, color=\"blue\")\n",
    "plt.plot(iso_pressure_entropies_3, iso_pressure_temperatures_3, color=\"blue\")\n",
    "# lineas del domo de saturación\n",
    "plt.plot(entropia_saturacion[0], temperatura_saturacion, color=\"black\")\n",
    "plt.plot(entropia_saturacion[1], temperatura_saturacion, color=\"black\")\n",
    "plt.grid(True, ls='--', lw=0.5) # Personalización de la grilla\n",
    "plt.xlabel(\"Entropía [kJ/kg K]\") # Etiqueta del eje x\n",
    "plt.ylabel(\"Temperatura [K]\") # Etiqueta del eje y\n",
    "plt.title(\"Diagrama de Temperatura-Entropía\") # Título del gráfico\n",
    "plt.show()"
   ]
  }
 ],
 "metadata": {
  "kernelspec": {
   "display_name": "termodinamica",
   "language": "python",
   "name": "python3"
  },
  "language_info": {
   "codemirror_mode": {
    "name": "ipython",
    "version": 3
   },
   "file_extension": ".py",
   "mimetype": "text/x-python",
   "name": "python",
   "nbconvert_exporter": "python",
   "pygments_lexer": "ipython3",
   "version": "3.10.8 | packaged by conda-forge | (main, Nov 22 2022, 08:25:29) [Clang 14.0.6 ]"
  },
  "orig_nbformat": 4,
  "vscode": {
   "interpreter": {
    "hash": "8a5edab282632443219e051e4ade2d1d5bbc671c781051bf1437897cbdfea0f1"
   }
  }
 },
 "nbformat": 4,
 "nbformat_minor": 2
}
